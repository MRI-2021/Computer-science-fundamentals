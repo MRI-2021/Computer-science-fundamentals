{
  "nbformat": 4,
  "nbformat_minor": 0,
  "metadata": {
    "colab": {
      "name": "MyCleaningData JAN 2022.ipynb",
      "provenance": [],
      "authorship_tag": "ABX9TyNJCZunCfiFxgLDdWFSqaiD",
      "include_colab_link": true
    },
    "kernelspec": {
      "name": "python3",
      "display_name": "Python 3"
    },
    "language_info": {
      "name": "python"
    }
  },
  "cells": [
    {
      "cell_type": "markdown",
      "metadata": {
        "id": "view-in-github",
        "colab_type": "text"
      },
      "source": [
        "<a href=\"https://colab.research.google.com/github/MRI-2021/Computer-science-fundamentals/blob/main/MyCleaningData_JAN_2022.ipynb\" target=\"_parent\"><img src=\"https://colab.research.google.com/assets/colab-badge.svg\" alt=\"Open In Colab\"/></a>"
      ]
    },
    {
      "cell_type": "code",
      "execution_count": 1,
      "metadata": {
        "colab": {
          "base_uri": "https://localhost:8080/"
        },
        "id": "iTsj24igN7ys",
        "outputId": "28338b09-e82e-4677-cb7c-07de1d8a9dc6"
      },
      "outputs": [
        {
          "output_type": "stream",
          "name": "stdout",
          "text": [
            "Jack and Jill were walking up the hill on the way to the Supermarket to get some mineral water when Jack tripped over a pothole in the road.  He fell down and broke his smartphone.  \"Oh dear!\" said Jack.  Actually, he didn’t say \"Oh dear\", he used some words that Jill was sure his mother wouldn’t approve of and went on to make some descriptive comments on what he thought of the state of the roads leading up the hill.  Jill was so shocked that she didn’t look where she was going and fell down, too, tumbling all the way down the hill.  Jack got up and went home to mend his phone.  Jill suggested using her granny’s remedy of vinegar and brown paper to fix the phone.  Jack replied with a comment that got him grounded for a week during which time he repaired his phone with duct tape and superglue but it was never the same again.  \n"
          ]
        }
      ],
      "source": [
        "import string\n",
        "\n",
        "data = 'Jack and jill were walking up the hill on the way to the Supermarket to get some mineral water when Jack tripped over a pothole in the road.He fell down and broke his smartphone.    \"Oh dear!\" said jack;actually,he didn’t say \"Oh dear\",he used some words that Jill was sure his mother wouldn’t approve of and went on to make some descriptive comments on what he thought of the state of the roads leading up the hill.jill was so shocked that she didn’t look where she was going and fell down,too, tumbling all the way down the hill;  jack got up and went home to mend his phone.    jill suggested using her granny’s remedy of vinegar and brown paper to fix the phone; Jack replied with a comment that got him grounded for a week during which time he repaired his phone with duct tape and superglue but it was never the same again .'\n",
        "\n",
        "def fix_semicolons(text):\n",
        "    return text.replace(\";\",\".\")\n",
        "\n",
        "def fix_commas(text):\n",
        "    ## reduce all comma + space to just comma. Then we can swap all commas for comma + space whether they had a trailing space or not\n",
        "    text = text.replace(\", \",\",\")\n",
        "    return text.replace(\",\",\", \")\n",
        "\n",
        "def fix_duplicate_punctuation(text):\n",
        "    ## this could be achieved through hard-coding for char in [\".\",\",\"... etc]: but this easily deals with all punctuation chars\n",
        "    for char in string.punctuation:\n",
        "        text = text.replace(char+char,char)\n",
        "    return text\n",
        "\n",
        "def fix_proper_names(text):\n",
        "    for name in proper_names:\n",
        "        text = text.replace(name, name.capitalize())\n",
        "    return text\n",
        "proper_names = {\"jill\",\"jack\"}\n",
        "\n",
        "data = fix_semicolons(data)\n",
        "data = fix_commas(data)\n",
        "data = fix_duplicate_punctuation(data)\n",
        "data = fix_proper_names(data)\n",
        "###print(data)\n",
        "\n",
        "def fix_sentence_ending(sentence):\n",
        "    if(len(sentence.strip()) == 0):\n",
        "        return \"\";\n",
        "    else:\n",
        "        temp = sentence.strip() + \".  \"\n",
        "        ## capitalize *only* the first character\n",
        "        return temp[0].upper() + temp[1:]\n",
        "\n",
        "sentences = data.split(\".\") ## break up the text into sentences\n",
        "for i in range(len(sentences)):\n",
        "    x = sentences[i]\n",
        "    sentences[i] = fix_sentence_ending(x)\n",
        "    ###print(sentences[i])\n",
        "\n",
        "def displayText(sentences):\n",
        "    cleaned_text = \"\"\n",
        "    for x in sentences:\n",
        "        cleaned_text = cleaned_text + x\n",
        "    print(cleaned_text)\n",
        "\n",
        "displayText(sentences)"
      ]
    }
  ]
}