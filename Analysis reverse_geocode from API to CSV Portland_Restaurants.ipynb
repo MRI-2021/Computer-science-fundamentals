{
  "nbformat": 4,
  "nbformat_minor": 0,
  "metadata": {
    "colab": {
      "name": "Untitled7.ipynb",
      "provenance": [],
      "authorship_tag": "ABX9TyMC4IgYTiBW3AUjQWGGH2tz",
      "include_colab_link": true
    },
    "kernelspec": {
      "name": "python3",
      "display_name": "Python 3"
    },
    "language_info": {
      "name": "python"
    }
  },
  "cells": [
    {
      "cell_type": "markdown",
      "metadata": {
        "id": "view-in-github",
        "colab_type": "text"
      },
      "source": [
        "<a href=\"https://colab.research.google.com/github/MRI-2021/Computer-science-fundamentals/blob/main/Analysis%20reverse_geocode%20from%20API%20to%20CSV%20Portland_Restaurants.ipynb\" target=\"_parent\"><img src=\"https://colab.research.google.com/assets/colab-badge.svg\" alt=\"Open In Colab\"/></a>"
      ]
    },
    {
      "cell_type": "code",
      "source": [
        "import pandas as pd"
      ],
      "metadata": {
        "id": "sKjWvQK9ZOV3"
      },
      "execution_count": 1,
      "outputs": []
    },
    {
      "cell_type": "code",
      "execution_count": null,
      "metadata": {
        "id": "TUrPhC-wYm45"
      },
      "outputs": [],
      "source": [
        "from google.colab import files\n",
        "uploaded = files.upload()"
      ]
    },
    {
      "cell_type": "code",
      "source": [
        "from pandas.core.base import DataError\n",
        "import io\n",
        "data = pd.read_csv(io.BytesIO(uploaded['Portland_Restaurants.csv']))\n",
        "# to ingest the CSV dataset and store it in a Pandas Dataframe."
      ],
      "metadata": {
        "id": "4iRjP9KYZSFI"
      },
      "execution_count": 3,
      "outputs": []
    },
    {
      "cell_type": "code",
      "source": [
        "!pip install opencage"
      ],
      "metadata": {
        "id": "j5hpywn7fmLX"
      },
      "execution_count": null,
      "outputs": []
    },
    {
      "cell_type": "code",
      "source": [
        "from opencage.geocoder import OpenCageGeocode\n",
        "from pprint import pprint"
      ],
      "metadata": {
        "id": "clyIq6Tcf74C"
      },
      "execution_count": 8,
      "outputs": []
    },
    {
      "cell_type": "code",
      "source": [
        "key = 'YOUR-API-KEY'\n",
        "geocoder = OpenCageGeocode(key)\n",
        "# To authenticate with the API using an access token "
      ],
      "metadata": {
        "id": "CYFvBcVXgGyn"
      },
      "execution_count": null,
      "outputs": []
    },
    {
      "cell_type": "code",
      "source": [
        "# Batch geocode a file containing addresses\n",
        "\n",
        "const fs = require('fs');\n",
        "const { geocode } = require('opencage-api-client');\n",
        "\n",
        "const infile = pd.read_csv(io.BytesIO(uploaded['Portland_Restaurants.csv']));\n",
        "\n",
        "const batch = async (lines) => {\n",
        "  for (let index = 0; index < lines.length; index++) {\n",
        "    const address = lines[index];\n",
        "    if (address.trim() !== '') {\n",
        "      try {\n",
        "        const apiResult = await geocode({ q: address });\n",
        "        // NodeJS<14 use : if(apiResult && apiResult.results && apiResult.results.length > 0)\n",
        "        if (apiResult?.results?.length > 0) {\n",
        "          const geocoded = apiResult.results[0];\n",
        "          const latitude = geocoded.geometry.lat;\n",
        "          const longitude = geocoded.geometry.lng;\n",
        "          console.log(`${address}, ${latitude}, ${longitude}`);\n",
        "        }\n",
        "      } catch (error) {\n",
        "        console.log(error);\n",
        "      }\n",
        "    }\n",
        "  }\n",
        "};\n",
        "\n",
        "fs.readFile(infile, 'utf8', (err, data) => {\n",
        "  if (err) {\n",
        "    console.error(err);\n",
        "    return;\n",
        "  }\n",
        "  const lines = data.split(/\\r?\\n/);\n",
        "\n",
        "  batch(lines);\n",
        "});\n",
        "\n",
        "// ... prints\n",
        "// Portland, OR, USA, 45.523064, -122.676483"
      ],
      "metadata": {
        "id": "kQH3jZzBF-Pd"
      },
      "execution_count": null,
      "outputs": []
    },
    {
      "cell_type": "code",
      "source": [
        "# Working with Geopy Geocoder and pandas: first reverse geocoding, then we will convert latitude and longitude to list and zip them together.\n",
        "\n",
        "lats=data['latitudes'].to_list()\n",
        "lng=data['longitudes'].to_list()\n",
        "# Creating a zip with latitudes and longitudes\n",
        "coords=list(zip(lats,lng))"
      ],
      "metadata": {
        "id": "StqSGCvzGuqX"
      },
      "execution_count": null,
      "outputs": []
    },
    {
      "cell_type": "code",
      "source": [
        "# Since, we already created list, just like above we will create a loop to find address for each location coordinate and append them together.\n",
        "\n",
        "from geopy.geocoders import Nominatim\n",
        "geolocator = Nominatim(user_agent=\"test_app\") \n",
        "full_address=[]\n",
        "for i in range(len(coords)):\n",
        "    location = geolocator.reverse(coords[i])\n",
        "    address=location.raw['address']['country']\n",
        "    full_address.append(address)\n",
        "#Creating dataframe with all the addresses\n",
        "addres=pd.DataFrame(data=full_address , columns=['Address'])\n",
        "addres\n",
        "\n",
        "# Finally, we have the address list of all restaurants in Portland."
      ],
      "metadata": {
        "id": "0hKP4nTuHDbA"
      },
      "execution_count": null,
      "outputs": []
    },
    {
      "cell_type": "code",
      "source": [
        "# results = geocoder.reverse_geocode(44.8303087, -0.5761911)\n",
        "# pprint(results)\n",
        "# # To query the API using latitude and longitude coordinates to get a readable address of the restaurants."
      ],
      "metadata": {
        "id": "akRbU8f11qr7"
      },
      "execution_count": null,
      "outputs": []
    }
  ]
}