{
  "nbformat": 4,
  "nbformat_minor": 0,
  "metadata": {
    "colab": {
      "name": "Untitled0.ipynb",
      "provenance": [],
      "authorship_tag": "ABX9TyN84Hhjyg15IL6HHdD4yv4w",
      "include_colab_link": true
    },
    "kernelspec": {
      "name": "python3",
      "display_name": "Python 3"
    },
    "language_info": {
      "name": "python"
    }
  },
  "cells": [
    {
      "cell_type": "markdown",
      "metadata": {
        "id": "view-in-github",
        "colab_type": "text"
      },
      "source": [
        "<a href=\"https://colab.research.google.com/github/MRI-2021/Computer-science-fundamentals/blob/main/Machine%20learning%20Linear%20regression%20Pandas%20profiler.ipynb\" target=\"_parent\"><img src=\"https://colab.research.google.com/assets/colab-badge.svg\" alt=\"Open In Colab\"/></a>"
      ]
    },
    {
      "cell_type": "code",
      "metadata": {
        "id": "RYv4PsFvOYvu",
        "colab": {
          "base_uri": "https://localhost:8080/"
        },
        "outputId": "72908c1b-a0eb-4130-ea8c-7b3b83d84f7c"
      },
      "source": [
        "from sklearn.datasets import load_boston\n",
        "\n",
        "boston_data = load_boston()\n",
        "\n",
        "print(boston_data['DESCR'])"
      ],
      "execution_count": 223,
      "outputs": [
        {
          "output_type": "stream",
          "name": "stdout",
          "text": [
            ".. _boston_dataset:\n",
            "\n",
            "Boston house prices dataset\n",
            "---------------------------\n",
            "\n",
            "**Data Set Characteristics:**  \n",
            "\n",
            "    :Number of Instances: 506 \n",
            "\n",
            "    :Number of Attributes: 13 numeric/categorical predictive. Median Value (attribute 14) is usually the target.\n",
            "\n",
            "    :Attribute Information (in order):\n",
            "        - CRIM     per capita crime rate by town\n",
            "        - ZN       proportion of residential land zoned for lots over 25,000 sq.ft.\n",
            "        - INDUS    proportion of non-retail business acres per town\n",
            "        - CHAS     Charles River dummy variable (= 1 if tract bounds river; 0 otherwise)\n",
            "        - NOX      nitric oxides concentration (parts per 10 million)\n",
            "        - RM       average number of rooms per dwelling\n",
            "        - AGE      proportion of owner-occupied units built prior to 1940\n",
            "        - DIS      weighted distances to five Boston employment centres\n",
            "        - RAD      index of accessibility to radial highways\n",
            "        - TAX      full-value property-tax rate per $10,000\n",
            "        - PTRATIO  pupil-teacher ratio by town\n",
            "        - B        1000(Bk - 0.63)^2 where Bk is the proportion of black people by town\n",
            "        - LSTAT    % lower status of the population\n",
            "        - MEDV     Median value of owner-occupied homes in $1000's\n",
            "\n",
            "    :Missing Attribute Values: None\n",
            "\n",
            "    :Creator: Harrison, D. and Rubinfeld, D.L.\n",
            "\n",
            "This is a copy of UCI ML housing dataset.\n",
            "https://archive.ics.uci.edu/ml/machine-learning-databases/housing/\n",
            "\n",
            "\n",
            "This dataset was taken from the StatLib library which is maintained at Carnegie Mellon University.\n",
            "\n",
            "The Boston house-price data of Harrison, D. and Rubinfeld, D.L. 'Hedonic\n",
            "prices and the demand for clean air', J. Environ. Economics & Management,\n",
            "vol.5, 81-102, 1978.   Used in Belsley, Kuh & Welsch, 'Regression diagnostics\n",
            "...', Wiley, 1980.   N.B. Various transformations are used in the table on\n",
            "pages 244-261 of the latter.\n",
            "\n",
            "The Boston house-price data has been used in many machine learning papers that address regression\n",
            "problems.   \n",
            "     \n",
            ".. topic:: References\n",
            "\n",
            "   - Belsley, Kuh & Welsch, 'Regression diagnostics: Identifying Influential Data and Sources of Collinearity', Wiley, 1980. 244-261.\n",
            "   - Quinlan,R. (1993). Combining Instance-Based and Model-Based Learning. In Proceedings on the Tenth International Conference of Machine Learning, 236-243, University of Massachusetts, Amherst. Morgan Kaufmann.\n",
            "\n"
          ]
        }
      ]
    },
    {
      "cell_type": "code",
      "source": [
        "print (boston_data['data'].shape)\n",
        "print (boston_data['target'].shape)\n",
        "print (boston_data['feature_names'])"
      ],
      "metadata": {
        "colab": {
          "base_uri": "https://localhost:8080/"
        },
        "id": "mINmBA4_Nt4i",
        "outputId": "670e8b7d-ae74-4914-b9d6-7ca6405ac56a"
      },
      "execution_count": 224,
      "outputs": [
        {
          "output_type": "stream",
          "name": "stdout",
          "text": [
            "(506, 13)\n",
            "(506,)\n",
            "['CRIM' 'ZN' 'INDUS' 'CHAS' 'NOX' 'RM' 'AGE' 'DIS' 'RAD' 'TAX' 'PTRATIO'\n",
            " 'B' 'LSTAT']\n"
          ]
        }
      ]
    },
    {
      "cell_type": "code",
      "source": [
        "from sklearn.model_selection import train_test_split\n",
        "\n",
        "# we make our test set\n",
        "X_train, X_test, y_train, y_test = train_test_split(boston_data['data'], boston_data['target'], test_size=0.2, random_state=1)\n",
        "\n",
        "# and we make our validation set\n",
        "X_train, X_val, y_train, y_val = train_test_split(X_train, y_train, test_size=0.2, random_state=1)"
      ],
      "metadata": {
        "id": "dIrTDNQUPsxq"
      },
      "execution_count": 225,
      "outputs": []
    },
    {
      "cell_type": "code",
      "source": [
        "print(X_train.shape, X_val.shape, X_test.shape)"
      ],
      "metadata": {
        "colab": {
          "base_uri": "https://localhost:8080/"
        },
        "id": "NuqoMVy6P6lY",
        "outputId": "69590e60-3732-48a6-c5f1-eda9da970421"
      },
      "execution_count": 226,
      "outputs": [
        {
          "output_type": "stream",
          "name": "stdout",
          "text": [
            "(323, 13) (81, 13) (102, 13)\n"
          ]
        }
      ]
    },
    {
      "cell_type": "code",
      "source": [
        "import pandas as pd\n",
        "import numpy as np\n",
        "\n",
        "full_data = np.append(X_train, y_train.reshape(-1, 1), axis=-1)\n",
        "\n",
        "full_df = pd.DataFrame(data=full_data, columns=np.append(boston_data['feature_names'], 'target'))"
      ],
      "metadata": {
        "id": "TB1bfmShQCEe"
      },
      "execution_count": 227,
      "outputs": []
    },
    {
      "cell_type": "code",
      "source": [
        "pip install autoviz"
      ],
      "metadata": {
        "colab": {
          "base_uri": "https://localhost:8080/"
        },
        "id": "5UaIHm3WQWE4",
        "outputId": "94b718a4-a933-4637-ca15-795a6edc396c"
      },
      "execution_count": 228,
      "outputs": [
        {
          "output_type": "stream",
          "name": "stdout",
          "text": [
            "Requirement already satisfied: autoviz in /usr/local/lib/python3.6/site-packages (0.1.23)\n",
            "Requirement already satisfied: xgboost in /usr/local/lib/python3.6/site-packages (from autoviz) (1.4.0)\n",
            "Requirement already satisfied: seaborn in /usr/local/lib/python3.6/site-packages (from autoviz) (0.11.2)\n",
            "Requirement already satisfied: holoviews in /usr/local/lib/python3.6/site-packages (from autoviz) (1.14.7)\n",
            "Requirement already satisfied: matplotlib in /usr/local/lib/python3.6/site-packages (from autoviz) (3.3.4)\n",
            "Requirement already satisfied: fsspec>=0.3.3 in /usr/local/lib/python3.6/site-packages (from autoviz) (2021.11.1)\n",
            "Requirement already satisfied: scikit-learn in /usr/local/lib/python3.6/site-packages (from autoviz) (0.24.2)\n",
            "Requirement already satisfied: statsmodels in /usr/local/lib/python3.6/site-packages (from autoviz) (0.12.2)\n",
            "Requirement already satisfied: xlrd in /usr/local/lib/python3.6/site-packages (from autoviz) (2.0.1)\n",
            "Requirement already satisfied: ipython in /usr/local/lib/python3.6/site-packages (from autoviz) (7.16.2)\n",
            "Requirement already satisfied: pandas in /usr/local/lib/python3.6/site-packages (from autoviz) (1.1.5)\n",
            "Requirement already satisfied: hvplot in /usr/local/lib/python3.6/site-packages (from autoviz) (0.7.3)\n",
            "Requirement already satisfied: jupyter in /usr/local/lib/python3.6/site-packages (from autoviz) (1.0.0)\n",
            "Requirement already satisfied: bokeh in /usr/local/lib/python3.6/site-packages (from autoviz) (2.3.3)\n",
            "Requirement already satisfied: wordcloud in /usr/local/lib/python3.6/site-packages (from autoviz) (1.8.1)\n",
            "Requirement already satisfied: python-dateutil>=2.1 in /usr/local/lib/python3.6/site-packages (from bokeh->autoviz) (2.8.2)\n",
            "Requirement already satisfied: tornado>=5.1 in /usr/local/lib/python3.6/site-packages (from bokeh->autoviz) (6.1)\n",
            "Requirement already satisfied: PyYAML>=3.10 in /usr/local/lib/python3.6/site-packages (from bokeh->autoviz) (6.0)\n",
            "Requirement already satisfied: Jinja2>=2.9 in /usr/local/lib/python3.6/site-packages (from bokeh->autoviz) (3.0.3)\n",
            "Requirement already satisfied: typing-extensions>=3.7.4 in /usr/local/lib/python3.6/site-packages (from bokeh->autoviz) (4.0.1)\n",
            "Requirement already satisfied: pillow>=7.1.0 in /usr/local/lib/python3.6/site-packages (from bokeh->autoviz) (8.4.0)\n",
            "Requirement already satisfied: numpy>=1.11.3 in /usr/local/lib/python3.6/site-packages (from bokeh->autoviz) (1.19.5)\n",
            "Requirement already satisfied: packaging>=16.8 in /usr/local/lib/python3.6/site-packages (from bokeh->autoviz) (21.3)\n",
            "Requirement already satisfied: MarkupSafe>=2.0 in /usr/local/lib/python3.6/site-packages (from Jinja2>=2.9->bokeh->autoviz) (2.0.1)\n",
            "Requirement already satisfied: pyparsing!=3.0.5,>=2.0.2 in /usr/local/lib/python3.6/site-packages (from packaging>=16.8->bokeh->autoviz) (3.0.6)\n",
            "Requirement already satisfied: six>=1.5 in /usr/local/lib/python3.6/site-packages (from python-dateutil>=2.1->bokeh->autoviz) (1.16.0)\n",
            "Requirement already satisfied: colorcet in /usr/local/lib/python3.6/site-packages (from holoviews->autoviz) (3.0.0)\n",
            "Requirement already satisfied: panel>=0.8.0 in /usr/local/lib/python3.6/site-packages (from holoviews->autoviz) (0.12.1)\n",
            "Requirement already satisfied: param<2.0,>=1.9.3 in /usr/local/lib/python3.6/site-packages (from holoviews->autoviz) (1.12.0)\n",
            "Requirement already satisfied: pyviz-comms>=0.7.4 in /usr/local/lib/python3.6/site-packages (from holoviews->autoviz) (2.1.0)\n",
            "Requirement already satisfied: pytz>=2017.2 in /usr/local/lib/python3.6/site-packages (from pandas->autoviz) (2021.3)\n",
            "Requirement already satisfied: bleach in /usr/local/lib/python3.6/site-packages (from panel>=0.8.0->holoviews->autoviz) (4.1.0)\n",
            "Requirement already satisfied: requests in /usr/local/lib/python3.6/site-packages (from panel>=0.8.0->holoviews->autoviz) (2.26.0)\n",
            "Requirement already satisfied: tqdm>=4.48.0 in /usr/local/lib/python3.6/site-packages (from panel>=0.8.0->holoviews->autoviz) (4.62.3)\n",
            "Requirement already satisfied: pyct>=0.4.4 in /usr/local/lib/python3.6/site-packages (from panel>=0.8.0->holoviews->autoviz) (0.4.8)\n",
            "Requirement already satisfied: markdown in /usr/local/lib/python3.6/site-packages (from panel>=0.8.0->holoviews->autoviz) (3.3.6)\n",
            "Requirement already satisfied: webencodings in /usr/local/lib/python3.6/site-packages (from bleach->panel>=0.8.0->holoviews->autoviz) (0.5.1)\n",
            "Requirement already satisfied: decorator in /usr/local/lib/python3.6/site-packages (from ipython->autoviz) (4.4.2)\n",
            "Requirement already satisfied: jedi<=0.17.2,>=0.10 in /usr/local/lib/python3.6/site-packages (from ipython->autoviz) (0.17.2)\n",
            "Requirement already satisfied: pickleshare in /usr/local/lib/python3.6/site-packages (from ipython->autoviz) (0.7.5)\n",
            "Requirement already satisfied: pygments in /usr/local/lib/python3.6/site-packages (from ipython->autoviz) (2.11.2)\n",
            "Requirement already satisfied: pexpect in /usr/local/lib/python3.6/site-packages (from ipython->autoviz) (4.8.0)\n",
            "Requirement already satisfied: prompt-toolkit!=3.0.0,!=3.0.1,<3.1.0,>=2.0.0 in /usr/local/lib/python3.6/site-packages (from ipython->autoviz) (3.0.24)\n",
            "Requirement already satisfied: setuptools>=18.5 in /usr/local/lib/python3.6/site-packages (from ipython->autoviz) (58.0.4)\n",
            "Requirement already satisfied: traitlets>=4.2 in /usr/local/lib/python3.6/site-packages (from ipython->autoviz) (4.3.3)\n",
            "Requirement already satisfied: backcall in /usr/local/lib/python3.6/site-packages (from ipython->autoviz) (0.2.0)\n",
            "Requirement already satisfied: parso<0.8.0,>=0.7.0 in /usr/local/lib/python3.6/site-packages (from jedi<=0.17.2,>=0.10->ipython->autoviz) (0.7.1)\n",
            "Requirement already satisfied: wcwidth in /usr/local/lib/python3.6/site-packages (from prompt-toolkit!=3.0.0,!=3.0.1,<3.1.0,>=2.0.0->ipython->autoviz) (0.2.5)\n",
            "Requirement already satisfied: ipython-genutils in /usr/local/lib/python3.6/site-packages (from traitlets>=4.2->ipython->autoviz) (0.2.0)\n",
            "Requirement already satisfied: ipykernel in /usr/local/lib/python3.6/site-packages (from jupyter->autoviz) (5.5.6)\n",
            "Requirement already satisfied: jupyter-console in /usr/local/lib/python3.6/site-packages (from jupyter->autoviz) (6.4.0)\n",
            "Requirement already satisfied: ipywidgets in /usr/local/lib/python3.6/site-packages (from jupyter->autoviz) (7.6.5)\n",
            "Requirement already satisfied: qtconsole in /usr/local/lib/python3.6/site-packages (from jupyter->autoviz) (5.2.2)\n",
            "Requirement already satisfied: notebook in /usr/local/lib/python3.6/site-packages (from jupyter->autoviz) (6.4.6)\n",
            "Requirement already satisfied: nbconvert in /usr/local/lib/python3.6/site-packages (from jupyter->autoviz) (6.0.7)\n",
            "Requirement already satisfied: jupyter-client in /usr/local/lib/python3.6/site-packages (from ipykernel->jupyter->autoviz) (7.1.0)\n",
            "Requirement already satisfied: nbformat>=4.2.0 in /usr/local/lib/python3.6/site-packages (from ipywidgets->jupyter->autoviz) (5.1.3)\n",
            "Requirement already satisfied: widgetsnbextension~=3.5.0 in /usr/local/lib/python3.6/site-packages (from ipywidgets->jupyter->autoviz) (3.5.2)\n",
            "Requirement already satisfied: jupyterlab-widgets>=1.0.0 in /usr/local/lib/python3.6/site-packages (from ipywidgets->jupyter->autoviz) (1.0.2)\n",
            "Requirement already satisfied: jupyter-core in /usr/local/lib/python3.6/site-packages (from nbformat>=4.2.0->ipywidgets->jupyter->autoviz) (4.9.1)\n",
            "Requirement already satisfied: jsonschema!=2.5.0,>=2.4 in /usr/local/lib/python3.6/site-packages (from nbformat>=4.2.0->ipywidgets->jupyter->autoviz) (3.2.0)\n",
            "Requirement already satisfied: importlib-metadata in /usr/local/lib/python3.6/site-packages (from jsonschema!=2.5.0,>=2.4->nbformat>=4.2.0->ipywidgets->jupyter->autoviz) (4.8.3)\n",
            "Requirement already satisfied: pyrsistent>=0.14.0 in /usr/local/lib/python3.6/site-packages (from jsonschema!=2.5.0,>=2.4->nbformat>=4.2.0->ipywidgets->jupyter->autoviz) (0.18.0)\n",
            "Requirement already satisfied: attrs>=17.4.0 in /usr/local/lib/python3.6/site-packages (from jsonschema!=2.5.0,>=2.4->nbformat>=4.2.0->ipywidgets->jupyter->autoviz) (21.4.0)\n",
            "Requirement already satisfied: argon2-cffi in /usr/local/lib/python3.6/site-packages (from notebook->jupyter->autoviz) (21.3.0)\n",
            "Requirement already satisfied: nest-asyncio>=1.5 in /usr/local/lib/python3.6/site-packages (from notebook->jupyter->autoviz) (1.5.4)\n",
            "Requirement already satisfied: Send2Trash>=1.8.0 in /usr/local/lib/python3.6/site-packages (from notebook->jupyter->autoviz) (1.8.0)\n",
            "Requirement already satisfied: pyzmq>=17 in /usr/local/lib/python3.6/site-packages (from notebook->jupyter->autoviz) (22.3.0)\n",
            "Requirement already satisfied: terminado>=0.8.3 in /usr/local/lib/python3.6/site-packages (from notebook->jupyter->autoviz) (0.12.1)\n",
            "Requirement already satisfied: prometheus-client in /usr/local/lib/python3.6/site-packages (from notebook->jupyter->autoviz) (0.12.0)\n",
            "Requirement already satisfied: entrypoints in /usr/local/lib/python3.6/site-packages (from jupyter-client->ipykernel->jupyter->autoviz) (0.3)\n",
            "Requirement already satisfied: ptyprocess in /usr/local/lib/python3.6/site-packages (from terminado>=0.8.3->notebook->jupyter->autoviz) (0.7.0)\n",
            "Requirement already satisfied: argon2-cffi-bindings in /usr/local/lib/python3.6/site-packages (from argon2-cffi->notebook->jupyter->autoviz) (21.2.0)\n",
            "Requirement already satisfied: dataclasses in /usr/local/lib/python3.6/site-packages (from argon2-cffi->notebook->jupyter->autoviz) (0.8)\n",
            "Requirement already satisfied: cffi>=1.0.1 in /usr/local/lib/python3.6/site-packages (from argon2-cffi-bindings->argon2-cffi->notebook->jupyter->autoviz) (1.14.6)\n",
            "Requirement already satisfied: pycparser in /usr/local/lib/python3.6/site-packages (from cffi>=1.0.1->argon2-cffi-bindings->argon2-cffi->notebook->jupyter->autoviz) (2.21)\n",
            "Requirement already satisfied: zipp>=0.5 in /usr/local/lib/python3.6/site-packages (from importlib-metadata->jsonschema!=2.5.0,>=2.4->nbformat>=4.2.0->ipywidgets->jupyter->autoviz) (3.6.0)\n",
            "Requirement already satisfied: kiwisolver>=1.0.1 in /usr/local/lib/python3.6/site-packages (from matplotlib->autoviz) (1.3.1)\n",
            "Requirement already satisfied: cycler>=0.10 in /usr/local/lib/python3.6/site-packages (from matplotlib->autoviz) (0.11.0)\n",
            "Requirement already satisfied: jupyterlab-pygments in /usr/local/lib/python3.6/site-packages (from nbconvert->jupyter->autoviz) (0.1.2)\n",
            "Requirement already satisfied: nbclient<0.6.0,>=0.5.0 in /usr/local/lib/python3.6/site-packages (from nbconvert->jupyter->autoviz) (0.5.9)\n",
            "Requirement already satisfied: defusedxml in /usr/local/lib/python3.6/site-packages (from nbconvert->jupyter->autoviz) (0.7.1)\n",
            "Requirement already satisfied: mistune<2,>=0.8.1 in /usr/local/lib/python3.6/site-packages (from nbconvert->jupyter->autoviz) (0.8.4)\n",
            "Requirement already satisfied: pandocfilters>=1.4.1 in /usr/local/lib/python3.6/site-packages (from nbconvert->jupyter->autoviz) (1.5.0)\n",
            "Requirement already satisfied: testpath in /usr/local/lib/python3.6/site-packages (from nbconvert->jupyter->autoviz) (0.5.0)\n",
            "Requirement already satisfied: async-generator in /usr/local/lib/python3.6/site-packages (from nbclient<0.6.0,>=0.5.0->nbconvert->jupyter->autoviz) (1.10)\n",
            "Requirement already satisfied: qtpy in /usr/local/lib/python3.6/site-packages (from qtconsole->jupyter->autoviz) (2.0.0)\n",
            "Requirement already satisfied: urllib3<1.27,>=1.21.1 in /usr/local/lib/python3.6/site-packages (from requests->panel>=0.8.0->holoviews->autoviz) (1.26.7)\n",
            "Requirement already satisfied: certifi>=2017.4.17 in /usr/local/lib/python3.6/site-packages (from requests->panel>=0.8.0->holoviews->autoviz) (2021.5.30)\n",
            "Requirement already satisfied: charset-normalizer~=2.0.0 in /usr/local/lib/python3.6/site-packages (from requests->panel>=0.8.0->holoviews->autoviz) (2.0.4)\n",
            "Requirement already satisfied: idna<4,>=2.5 in /usr/local/lib/python3.6/site-packages (from requests->panel>=0.8.0->holoviews->autoviz) (3.3)\n",
            "Requirement already satisfied: joblib>=0.11 in /usr/local/lib/python3.6/site-packages (from scikit-learn->autoviz) (1.1.0)\n",
            "Requirement already satisfied: scipy>=0.19.1 in /usr/local/lib/python3.6/site-packages (from scikit-learn->autoviz) (1.5.3)\n",
            "Requirement already satisfied: threadpoolctl>=2.0.0 in /usr/local/lib/python3.6/site-packages (from scikit-learn->autoviz) (2.2.0)\n",
            "Requirement already satisfied: patsy>=0.5 in /usr/local/lib/python3.6/site-packages (from statsmodels->autoviz) (0.5.2)\n",
            "\u001b[33mWARNING: Running pip as the 'root' user can result in broken permissions and conflicting behaviour with the system package manager. It is recommended to use a virtual environment instead: https://pip.pypa.io/warnings/venv\u001b[0m\n"
          ]
        }
      ]
    },
    {
      "cell_type": "code",
      "source": [
        "!which python # should return /usr/local/bin/python\n"
      ],
      "metadata": {
        "colab": {
          "base_uri": "https://localhost:8080/"
        },
        "id": "tG0mNuChTy87",
        "outputId": "de2ad6fa-aecf-4a19-ce81-f30c3d291b14"
      },
      "execution_count": 229,
      "outputs": [
        {
          "output_type": "stream",
          "name": "stdout",
          "text": [
            "/usr/local/bin/python\n"
          ]
        }
      ]
    },
    {
      "cell_type": "code",
      "source": [
        "!python --version\n"
      ],
      "metadata": {
        "colab": {
          "base_uri": "https://localhost:8080/"
        },
        "id": "lS6sXBGFT381",
        "outputId": "2943833b-5ae6-42ce-c976-37c850abe79a"
      },
      "execution_count": 230,
      "outputs": [
        {
          "output_type": "stream",
          "name": "stdout",
          "text": [
            "Python 3.6.13 :: Anaconda, Inc.\n"
          ]
        }
      ]
    },
    {
      "cell_type": "code",
      "source": [
        "!echo $PYTHONPATH\n"
      ],
      "metadata": {
        "colab": {
          "base_uri": "https://localhost:8080/"
        },
        "id": "XOYibZEWT_Ii",
        "outputId": "9a59890c-0548-4979-99f8-ef3c0d41ae4c"
      },
      "execution_count": 231,
      "outputs": [
        {
          "output_type": "stream",
          "name": "stdout",
          "text": [
            "\n"
          ]
        }
      ]
    },
    {
      "cell_type": "code",
      "source": [
        "%env PYTHONPATH=\n"
      ],
      "metadata": {
        "colab": {
          "base_uri": "https://localhost:8080/"
        },
        "id": "mpbEUs77UG2O",
        "outputId": "9b83b8f1-27a0-4cfe-d911-2ebf697f7d60"
      },
      "execution_count": 232,
      "outputs": [
        {
          "output_type": "stream",
          "name": "stdout",
          "text": [
            "env: PYTHONPATH=\n"
          ]
        }
      ]
    },
    {
      "cell_type": "code",
      "source": [
        "%%bash\n",
        "MINICONDA_INSTALLER_SCRIPT=Miniconda3-4.5.4-Linux-x86_64.sh\n",
        "MINICONDA_PREFIX=/usr/local\n",
        "wget https://repo.continuum.io/miniconda/$MINICONDA_INSTALLER_SCRIPT\n",
        "chmod +x $MINICONDA_INSTALLER_SCRIPT\n",
        "./$MINICONDA_INSTALLER_SCRIPT -b -f -p $MINICONDA_PREFIX"
      ],
      "metadata": {
        "colab": {
          "base_uri": "https://localhost:8080/"
        },
        "id": "RQ-JwaLOUPEq",
        "outputId": "05a12e27-d035-4212-e5d2-3500fcf23bcc"
      },
      "execution_count": 233,
      "outputs": [
        {
          "output_type": "stream",
          "name": "stdout",
          "text": [
            "PREFIX=/usr/local\n",
            "installing: python-3.6.5-hc3d631a_2 ...\n",
            "installing: ca-certificates-2018.03.07-0 ...\n",
            "installing: conda-env-2.6.0-h36134e3_1 ...\n",
            "installing: libgcc-ng-7.2.0-hdf63c60_3 ...\n",
            "installing: libstdcxx-ng-7.2.0-hdf63c60_3 ...\n",
            "installing: libffi-3.2.1-hd88cf55_4 ...\n",
            "installing: ncurses-6.1-hf484d3e_0 ...\n",
            "installing: openssl-1.0.2o-h20670df_0 ...\n",
            "installing: tk-8.6.7-hc745277_3 ...\n",
            "installing: xz-5.2.4-h14c3975_4 ...\n",
            "installing: yaml-0.1.7-had09818_2 ...\n",
            "installing: zlib-1.2.11-ha838bed_2 ...\n",
            "installing: libedit-3.1.20170329-h6b74fdf_2 ...\n",
            "installing: readline-7.0-ha6073c6_4 ...\n",
            "installing: sqlite-3.23.1-he433501_0 ...\n",
            "installing: asn1crypto-0.24.0-py36_0 ...\n",
            "installing: certifi-2018.4.16-py36_0 ...\n",
            "installing: chardet-3.0.4-py36h0f667ec_1 ...\n",
            "installing: idna-2.6-py36h82fb2a8_1 ...\n",
            "installing: pycosat-0.6.3-py36h0a5515d_0 ...\n",
            "installing: pycparser-2.18-py36hf9f622e_1 ...\n",
            "installing: pysocks-1.6.8-py36_0 ...\n",
            "installing: ruamel_yaml-0.15.37-py36h14c3975_2 ...\n",
            "installing: six-1.11.0-py36h372c433_1 ...\n",
            "installing: cffi-1.11.5-py36h9745a5d_0 ...\n",
            "installing: setuptools-39.2.0-py36_0 ...\n",
            "installing: cryptography-2.2.2-py36h14c3975_0 ...\n",
            "installing: wheel-0.31.1-py36_0 ...\n",
            "installing: pip-10.0.1-py36_0 ...\n",
            "installing: pyopenssl-18.0.0-py36_0 ...\n",
            "installing: urllib3-1.22-py36hbe7ace6_0 ...\n",
            "installing: requests-2.18.4-py36he2e5f8d_1 ...\n",
            "installing: conda-4.5.4-py36_0 ...\n",
            "unlinking: ca-certificates-2021.10.8-ha878542_0\n",
            "unlinking: certifi-2021.5.30-py36h06a4308_0\n",
            "unlinking: cffi-1.14.6-py36h400218f_0\n",
            "unlinking: conda-4.10.3-py36h06a4308_0\n",
            "unlinking: cryptography-35.0.0-py36hd23ed53_0\n",
            "unlinking: idna-3.3-pyhd3eb1b0_0\n",
            "unlinking: libffi-3.3-he6710b0_2\n",
            "unlinking: libgcc-ng-9.3.0-h5101ec6_17\n",
            "unlinking: libstdcxx-ng-9.3.0-hd4cf53a_17\n",
            "unlinking: ncurses-6.3-h7f8727e_2\n",
            "unlinking: openssl-1.1.1l-h7f8727e_0\n",
            "unlinking: pip-21.2.2-py36h06a4308_0\n",
            "unlinking: pycosat-0.6.3-py36h27cfd23_0\n",
            "unlinking: pycparser-2.21-pyhd3eb1b0_0\n",
            "unlinking: pyopenssl-21.0.0-pyhd3eb1b0_1\n",
            "unlinking: pysocks-1.7.1-py36h06a4308_0\n",
            "unlinking: python-3.6.13-h12debd9_1\n",
            "unlinking: readline-8.1-h27cfd23_0\n",
            "unlinking: requests-2.26.0-pyhd3eb1b0_0\n",
            "unlinking: ruamel_yaml-0.15.100-py36h27cfd23_0\n",
            "unlinking: setuptools-58.0.4-py36h06a4308_0\n",
            "unlinking: six-1.16.0-pyhd3eb1b0_0\n",
            "unlinking: sqlite-3.37.0-hc218d9a_0\n",
            "unlinking: tk-8.6.11-h1ccaba5_0\n",
            "unlinking: urllib3-1.26.7-pyhd3eb1b0_0\n",
            "unlinking: wheel-0.37.0-pyhd3eb1b0_1\n",
            "unlinking: xz-5.2.5-h7b6447c_0\n",
            "unlinking: yaml-0.2.5-h7b6447c_0\n",
            "unlinking: zlib-1.2.11-h7f8727e_4\n",
            "installation finished.\n"
          ]
        },
        {
          "output_type": "stream",
          "name": "stderr",
          "text": [
            "--2022-01-07 14:12:18--  https://repo.continuum.io/miniconda/Miniconda3-4.5.4-Linux-x86_64.sh\n",
            "Resolving repo.continuum.io (repo.continuum.io)... 104.18.201.79, 104.18.200.79, 2606:4700::6812:c84f, ...\n",
            "Connecting to repo.continuum.io (repo.continuum.io)|104.18.201.79|:443... connected.\n",
            "HTTP request sent, awaiting response... 301 Moved Permanently\n",
            "Location: https://repo.anaconda.com/miniconda/Miniconda3-4.5.4-Linux-x86_64.sh [following]\n",
            "--2022-01-07 14:12:18--  https://repo.anaconda.com/miniconda/Miniconda3-4.5.4-Linux-x86_64.sh\n",
            "Resolving repo.anaconda.com (repo.anaconda.com)... 104.16.131.3, 104.16.130.3, 2606:4700::6810:8203, ...\n",
            "Connecting to repo.anaconda.com (repo.anaconda.com)|104.16.131.3|:443... connected.\n",
            "HTTP request sent, awaiting response... 200 OK\n",
            "Length: 58468498 (56M) [application/x-sh]\n",
            "Saving to: ‘Miniconda3-4.5.4-Linux-x86_64.sh.5’\n",
            "\n",
            "     0K .......... .......... .......... .......... ..........  0% 36.3M 2s\n",
            "    50K .......... .......... .......... .......... ..........  0% 35.9M 2s\n",
            "   100K .......... .......... .......... .......... ..........  0% 53.0M 1s\n",
            "   150K .......... .......... .......... .......... ..........  0% 45.3M 1s\n",
            "   200K .......... .......... .......... .......... ..........  0% 53.7M 1s\n",
            "   250K .......... .......... .......... .......... ..........  0% 53.3M 1s\n",
            "   300K .......... .......... .......... .......... ..........  0% 54.1M 1s\n",
            "   350K .......... .......... .......... .......... ..........  0% 56.6M 1s\n",
            "   400K .......... .......... .......... .......... ..........  0% 47.0M 1s\n",
            "   450K .......... .......... .......... .......... ..........  0% 62.1M 1s\n",
            "   500K .......... .......... .......... .......... ..........  0% 56.4M 1s\n",
            "   550K .......... .......... .......... .......... ..........  1% 55.8M 1s\n",
            "   600K .......... .......... .......... .......... ..........  1% 58.1M 1s\n",
            "   650K .......... .......... .......... .......... ..........  1% 47.9M 1s\n",
            "   700K .......... .......... .......... .......... ..........  1% 42.1M 1s\n",
            "   750K .......... .......... .......... .......... ..........  1% 50.8M 1s\n",
            "   800K .......... .......... .......... .......... ..........  1% 69.8M 1s\n",
            "   850K .......... .......... .......... .......... ..........  1% 43.0M 1s\n",
            "   900K .......... .......... .......... .......... ..........  1% 59.0M 1s\n",
            "   950K .......... .......... .......... .......... ..........  1% 59.4M 1s\n",
            "  1000K .......... .......... .......... .......... ..........  1% 84.9M 1s\n",
            "  1050K .......... .......... .......... .......... ..........  1%  321M 1s\n",
            "  1100K .......... .......... .......... .......... ..........  2%  296M 1s\n",
            "  1150K .......... .......... .......... .......... ..........  2%  236M 1s\n",
            "  1200K .......... .......... .......... .......... ..........  2%  265M 1s\n",
            "  1250K .......... .......... .......... .......... ..........  2%  278M 1s\n",
            "  1300K .......... .......... .......... .......... ..........  2%  229M 1s\n",
            "  1350K .......... .......... .......... .......... ..........  2%  255M 1s\n",
            "  1400K .......... .......... .......... .......... ..........  2%  302M 1s\n",
            "  1450K .......... .......... .......... .......... ..........  2%  299M 1s\n",
            "  1500K .......... .......... .......... .......... ..........  2%  231M 1s\n",
            "  1550K .......... .......... .......... .......... ..........  2% 37.6M 1s\n",
            "  1600K .......... .......... .......... .......... ..........  2% 26.9M 1s\n",
            "  1650K .......... .......... .......... .......... ..........  2% 57.7M 1s\n",
            "  1700K .......... .......... .......... .......... ..........  3% 56.0M 1s\n",
            "  1750K .......... .......... .......... .......... ..........  3% 51.3M 1s\n",
            "  1800K .......... .......... .......... .......... ..........  3% 63.2M 1s\n",
            "  1850K .......... .......... .......... .......... ..........  3% 61.8M 1s\n",
            "  1900K .......... .......... .......... .......... ..........  3% 98.7M 1s\n",
            "  1950K .......... .......... .......... .......... ..........  3%  236M 1s\n",
            "  2000K .......... .......... .......... .......... ..........  3%  217M 1s\n",
            "  2050K .......... .......... .......... .......... ..........  3%  306M 1s\n",
            "  2100K .......... .......... .......... .......... ..........  3%  308M 1s\n",
            "  2150K .......... .......... .......... .......... ..........  3%  212M 1s\n",
            "  2200K .......... .......... .......... .......... ..........  3%  275M 1s\n",
            "  2250K .......... .......... .......... .......... ..........  4%  197M 1s\n",
            "  2300K .......... .......... .......... .......... ..........  4%  253M 1s\n",
            "  2350K .......... .......... .......... .......... ..........  4%  234M 1s\n",
            "  2400K .......... .......... .......... .......... ..........  4%  285M 1s\n",
            "  2450K .......... .......... .......... .......... ..........  4%  341M 1s\n",
            "  2500K .......... .......... .......... .......... ..........  4%  214M 1s\n",
            "  2550K .......... .......... .......... .......... ..........  4%  255M 1s\n",
            "  2600K .......... .......... .......... .......... ..........  4%  326M 1s\n",
            "  2650K .......... .......... .......... .......... ..........  4%  249M 1s\n",
            "  2700K .......... .......... .......... .......... ..........  4%  313M 1s\n",
            "  2750K .......... .......... .......... .......... ..........  4%  267M 1s\n",
            "  2800K .......... .......... .......... .......... ..........  4%  271M 1s\n",
            "  2850K .......... .......... .......... .......... ..........  5%  313M 1s\n",
            "  2900K .......... .......... .......... .......... ..........  5%  354M 1s\n",
            "  2950K .......... .......... .......... .......... ..........  5%  284M 1s\n",
            "  3000K .......... .......... .......... .......... ..........  5%  343M 1s\n",
            "  3050K .......... .......... .......... .......... ..........  5%  351M 1s\n",
            "  3100K .......... .......... .......... .......... ..........  5%  281M 1s\n",
            "  3150K .......... .......... .......... .......... ..........  5%  198M 1s\n",
            "  3200K .......... .......... .......... .......... ..........  5%  273M 1s\n",
            "  3250K .......... .......... .......... .......... ..........  5%  122M 1s\n",
            "  3300K .......... .......... .......... .......... ..........  5%  172M 1s\n",
            "  3350K .......... .......... .......... .......... ..........  5%  155M 1s\n",
            "  3400K .......... .......... .......... .......... ..........  6%  271M 1s\n",
            "  3450K .......... .......... .......... .......... ..........  6%  262M 1s\n",
            "  3500K .......... .......... .......... .......... ..........  6% 61.3M 1s\n",
            "  3550K .......... .......... .......... .......... ..........  6% 44.9M 1s\n",
            "  3600K .......... .......... .......... .......... ..........  6% 27.3M 1s\n",
            "  3650K .......... .......... .......... .......... ..........  6% 59.1M 1s\n",
            "  3700K .......... .......... .......... .......... ..........  6% 40.3M 1s\n",
            "  3750K .......... .......... .......... .......... ..........  6% 33.0M 1s\n",
            "  3800K .......... .......... .......... .......... ..........  6% 39.2M 1s\n",
            "  3850K .......... .......... .......... .......... ..........  6% 27.0M 1s\n",
            "  3900K .......... .......... .......... .......... ..........  6% 46.5M 1s\n",
            "  3950K .......... .......... .......... .......... ..........  7% 40.8M 1s\n",
            "  4000K .......... .......... .......... .......... ..........  7% 27.7M 1s\n",
            "  4050K .......... .......... .......... .......... ..........  7% 46.7M 1s\n",
            "  4100K .......... .......... .......... .......... ..........  7% 42.1M 1s\n",
            "  4150K .......... .......... .......... .......... ..........  7% 35.5M 1s\n",
            "  4200K .......... .......... .......... .......... ..........  7% 51.6M 1s\n",
            "  4250K .......... .......... .......... .......... ..........  7%  157M 1s\n",
            "  4300K .......... .......... .......... .......... ..........  7%  213M 1s\n",
            "  4350K .......... .......... .......... .......... ..........  7%  232M 1s\n",
            "  4400K .......... .......... .......... .......... ..........  7%  215M 1s\n",
            "  4450K .......... .......... .......... .......... ..........  7%  285M 1s\n",
            "  4500K .......... .......... .......... .......... ..........  7%  231M 1s\n",
            "  4550K .......... .......... .......... .......... ..........  8%  225M 1s\n",
            "  4600K .......... .......... .......... .......... ..........  8%  279M 1s\n",
            "  4650K .......... .......... .......... .......... ..........  8%  272M 1s\n",
            "  4700K .......... .......... .......... .......... ..........  8%  268M 1s\n",
            "  4750K .......... .......... .......... .......... ..........  8%  133M 1s\n",
            "  4800K .......... .......... .......... .......... ..........  8%  263M 1s\n",
            "  4850K .......... .......... .......... .......... ..........  8%  280M 1s\n",
            "  4900K .......... .......... .......... .......... ..........  8%  291M 1s\n",
            "  4950K .......... .......... .......... .......... ..........  8%  224M 1s\n",
            "  5000K .......... .......... .......... .......... ..........  8%  168M 1s\n",
            "  5050K .......... .......... .......... .......... ..........  8%  263M 1s\n",
            "  5100K .......... .......... .......... .......... ..........  9%  290M 1s\n",
            "  5150K .......... .......... .......... .......... ..........  9%  238M 1s\n",
            "  5200K .......... .......... .......... .......... ..........  9%  291M 1s\n",
            "  5250K .......... .......... .......... .......... ..........  9% 45.9M 1s\n",
            "  5300K .......... .......... .......... .......... ..........  9% 62.9M 1s\n",
            "  5350K .......... .......... .......... .......... ..........  9% 27.4M 1s\n",
            "  5400K .......... .......... .......... .......... ..........  9% 46.5M 1s\n",
            "  5450K .......... .......... .......... .......... ..........  9% 66.9M 1s\n",
            "  5500K .......... .......... .......... .......... ..........  9%  146M 1s\n",
            "  5550K .......... .......... .......... .......... ..........  9%  139M 1s\n",
            "  5600K .......... .......... .......... .......... ..........  9%  164M 1s\n",
            "  5650K .......... .......... .......... .......... ..........  9%  197M 1s\n",
            "  5700K .......... .......... .......... .......... .......... 10%  144M 1s\n",
            "  5750K .......... .......... .......... .......... .......... 10%  151M 1s\n",
            "  5800K .......... .......... .......... .......... .......... 10%  183M 1s\n",
            "  5850K .......... .......... .......... .......... .......... 10%  185M 1s\n",
            "  5900K .......... .......... .......... .......... .......... 10% 43.2M 1s\n",
            "  5950K .......... .......... .......... .......... .......... 10% 63.4M 1s\n",
            "  6000K .......... .......... .......... .......... .......... 10% 56.8M 1s\n",
            "  6050K .......... .......... .......... .......... .......... 10% 39.9M 1s\n",
            "  6100K .......... .......... .......... .......... .......... 10% 47.0M 1s\n",
            "  6150K .......... .......... .......... .......... .......... 10%  238M 1s\n",
            "  6200K .......... .......... .......... .......... .......... 10%  222M 1s\n",
            "  6250K .......... .......... .......... .......... .......... 11%  229M 1s\n",
            "  6300K .......... .......... .......... .......... .......... 11%  263M 1s\n",
            "  6350K .......... .......... .......... .......... .......... 11%  244M 1s\n",
            "  6400K .......... .......... .......... .......... .......... 11%  291M 1s\n",
            "  6450K .......... .......... .......... .......... .......... 11%  236M 1s\n",
            "  6500K .......... .......... .......... .......... .......... 11%  282M 1s\n",
            "  6550K .......... .......... .......... .......... .......... 11%  234M 1s\n",
            "  6600K .......... .......... .......... .......... .......... 11%  219M 1s\n",
            "  6650K .......... .......... .......... .......... .......... 11%  224M 1s\n",
            "  6700K .......... .......... .......... .......... .......... 11%  227M 1s\n",
            "  6750K .......... .......... .......... .......... .......... 11%  192M 1s\n",
            "  6800K .......... .......... .......... .......... .......... 11%  232M 1s\n",
            "  6850K .......... .......... .......... .......... .......... 12%  240M 1s\n",
            "  6900K .......... .......... .......... .......... .......... 12%  234M 1s\n",
            "  6950K .......... .......... .......... .......... .......... 12%  211M 1s\n",
            "  7000K .......... .......... .......... .......... .......... 12%  242M 1s\n",
            "  7050K .......... .......... .......... .......... .......... 12%  211M 1s\n",
            "  7100K .......... .......... .......... .......... .......... 12%  284M 1s\n",
            "  7150K .......... .......... .......... .......... .......... 12% 41.1M 1s\n",
            "  7200K .......... .......... .......... .......... .......... 12% 59.7M 1s\n",
            "  7250K .......... .......... .......... .......... .......... 12% 53.7M 1s\n",
            "  7300K .......... .......... .......... .......... .......... 12% 53.3M 1s\n",
            "  7350K .......... .......... .......... .......... .......... 12% 50.9M 1s\n",
            "  7400K .......... .......... .......... .......... .......... 13% 54.0M 1s\n",
            "  7450K .......... .......... .......... .......... .......... 13% 37.9M 1s\n",
            "  7500K .......... .......... .......... .......... .......... 13% 26.8M 1s\n",
            "  7550K .......... .......... .......... .......... .......... 13% 24.5M 1s\n",
            "  7600K .......... .......... .......... .......... .......... 13% 31.6M 1s\n",
            "  7650K .......... .......... .......... .......... .......... 13% 21.2M 1s\n",
            "  7700K .......... .......... .......... .......... .......... 13% 12.2M 1s\n",
            "  7750K .......... .......... .......... .......... .......... 13%  156M 1s\n",
            "  7800K .......... .......... .......... .......... .......... 13%  172M 1s\n",
            "  7850K .......... .......... .......... .......... .......... 13% 83.1M 1s\n",
            "  7900K .......... .......... .......... .......... .......... 13%  204M 1s\n",
            "  7950K .......... .......... .......... .......... .......... 14%  139M 1s\n",
            "  8000K .......... .......... .......... .......... .......... 14%  202M 1s\n",
            "  8050K .......... .......... .......... .......... .......... 14%  225M 1s\n",
            "  8100K .......... .......... .......... .......... .......... 14% 52.2M 1s\n",
            "  8150K .......... .......... .......... .......... .......... 14% 34.9M 1s\n",
            "  8200K .......... .......... .......... .......... .......... 14% 40.2M 1s\n",
            "  8250K .......... .......... .......... .......... .......... 14% 41.0M 1s\n",
            "  8300K .......... .......... .......... .......... .......... 14% 42.0M 1s\n",
            "  8350K .......... .......... .......... .......... .......... 14% 39.8M 1s\n",
            "  8400K .......... .......... .......... .......... .......... 14% 42.8M 1s\n",
            "  8450K .......... .......... .......... .......... .......... 14% 45.6M 1s\n",
            "  8500K .......... .......... .......... .......... .......... 14% 34.1M 1s\n",
            "  8550K .......... .......... .......... .......... .......... 15%  150M 1s\n",
            "  8600K .......... .......... .......... .......... .......... 15%  155M 1s\n",
            "  8650K .......... .......... .......... .......... .......... 15%  167M 1s\n",
            "  8700K .......... .......... .......... .......... .......... 15%  177M 1s\n",
            "  8750K .......... .......... .......... .......... .......... 15%  110M 1s\n",
            "  8800K .......... .......... .......... .......... .......... 15%  159M 1s\n",
            "  8850K .......... .......... .......... .......... .......... 15%  177M 1s\n",
            "  8900K .......... .......... .......... .......... .......... 15%  160M 1s\n",
            "  8950K .......... .......... .......... .......... .......... 15%  168M 1s\n",
            "  9000K .......... .......... .......... .......... .......... 15%  174M 1s\n",
            "  9050K .......... .......... .......... .......... .......... 15%  178M 1s\n",
            "  9100K .......... .......... .......... .......... .......... 16%  171M 1s\n",
            "  9150K .......... .......... .......... .......... .......... 16%  145M 1s\n",
            "  9200K .......... .......... .......... .......... .......... 16%  187M 1s\n",
            "  9250K .......... .......... .......... .......... .......... 16%  172M 1s\n",
            "  9300K .......... .......... .......... .......... .......... 16%  182M 1s\n",
            "  9350K .......... .......... .......... .......... .......... 16%  163M 1s\n",
            "  9400K .......... .......... .......... .......... .......... 16%  181M 1s\n",
            "  9450K .......... .......... .......... .......... .......... 16% 23.4M 1s\n",
            "  9500K .......... .......... .......... .......... .......... 16% 56.5M 1s\n",
            "  9550K .......... .......... .......... .......... .......... 16% 26.8M 1s\n",
            "  9600K .......... .......... .......... .......... .......... 16% 37.5M 1s\n",
            "  9650K .......... .......... .......... .......... .......... 16% 36.8M 1s\n",
            "  9700K .......... .......... .......... .......... .......... 17% 28.8M 1s\n",
            "  9750K .......... .......... .......... .......... .......... 17% 26.5M 1s\n",
            "  9800K .......... .......... .......... .......... .......... 17% 33.1M 1s\n",
            "  9850K .......... .......... .......... .......... .......... 17% 26.2M 1s\n",
            "  9900K .......... .......... .......... .......... .......... 17% 56.6M 1s\n",
            "  9950K .......... .......... .......... .......... .......... 17% 62.6M 1s\n",
            " 10000K .......... .......... .......... .......... .......... 17%  196M 1s\n",
            " 10050K .......... .......... .......... .......... .......... 17%  275M 1s\n",
            " 10100K .......... .......... .......... .......... .......... 17%  274M 1s\n",
            " 10150K .......... .......... .......... .......... .......... 17%  242M 1s\n",
            " 10200K .......... .......... .......... .......... .......... 17%  286M 1s\n",
            " 10250K .......... .......... .......... .......... .......... 18%  169M 1s\n",
            " 10300K .......... .......... .......... .......... .......... 18%  238M 1s\n",
            " 10350K .......... .......... .......... .......... .......... 18%  227M 1s\n",
            " 10400K .......... .......... .......... .......... .......... 18%  255M 1s\n",
            " 10450K .......... .......... .......... .......... .......... 18%  127M 1s\n",
            " 10500K .......... .......... .......... .......... .......... 18%  153M 1s\n",
            " 10550K .......... .......... .......... .......... .......... 18%  166M 1s\n",
            " 10600K .......... .......... .......... .......... .......... 18%  123M 1s\n",
            " 10650K .......... .......... .......... .......... .......... 18%  295M 1s\n",
            " 10700K .......... .......... .......... .......... .......... 18%  281M 1s\n",
            " 10750K .......... .......... .......... .......... .......... 18%  214M 1s\n",
            " 10800K .......... .......... .......... .......... .......... 19%  237M 1s\n",
            " 10850K .......... .......... .......... .......... .......... 19% 63.9M 1s\n",
            " 10900K .......... .......... .......... .......... .......... 19% 65.2M 1s\n",
            " 10950K .......... .......... .......... .......... .......... 19% 63.7M 1s\n",
            " 11000K .......... .......... .......... .......... .......... 19% 66.2M 1s\n",
            " 11050K .......... .......... .......... .......... .......... 19% 71.9M 1s\n",
            " 11100K .......... .......... .......... .......... .......... 19%  159M 1s\n",
            " 11150K .......... .......... .......... .......... .......... 19% 93.6M 1s\n",
            " 11200K .......... .......... .......... .......... .......... 19%  187M 1s\n",
            " 11250K .......... .......... .......... .......... .......... 19%  195M 1s\n",
            " 11300K .......... .......... .......... .......... .......... 19%  173M 1s\n",
            " 11350K .......... .......... .......... .......... .......... 19%  174M 1s\n",
            " 11400K .......... .......... .......... .......... .......... 20%  193M 1s\n",
            " 11450K .......... .......... .......... .......... .......... 20%  180M 1s\n",
            " 11500K .......... .......... .......... .......... .......... 20%  180M 1s\n",
            " 11550K .......... .......... .......... .......... .......... 20%  172M 1s\n",
            " 11600K .......... .......... .......... .......... .......... 20%  187M 1s\n",
            " 11650K .......... .......... .......... .......... .......... 20%  183M 1s\n",
            " 11700K .......... .......... .......... .......... .......... 20%  190M 1s\n",
            " 11750K .......... .......... .......... .......... .......... 20%  174M 1s\n",
            " 11800K .......... .......... .......... .......... .......... 20%  194M 1s\n",
            " 11850K .......... .......... .......... .......... .......... 20%  169M 1s\n",
            " 11900K .......... .......... .......... .......... .......... 20%  207M 1s\n",
            " 11950K .......... .......... .......... .......... .......... 21%  165M 1s\n",
            " 12000K .......... .......... .......... .......... .......... 21%  189M 1s\n",
            " 12050K .......... .......... .......... .......... .......... 21%  177M 1s\n",
            " 12100K .......... .......... .......... .......... .......... 21%  203M 1s\n",
            " 12150K .......... .......... .......... .......... .......... 21% 81.2M 1s\n",
            " 12200K .......... .......... .......... .......... .......... 21%  164M 1s\n",
            " 12250K .......... .......... .......... .......... .......... 21%  183M 1s\n",
            " 12300K .......... .......... .......... .......... .......... 21%  177M 1s\n",
            " 12350K .......... .......... .......... .......... .......... 21%  141M 1s\n",
            " 12400K .......... .......... .......... .......... .......... 21%  118M 1s\n",
            " 12450K .......... .......... .......... .......... .......... 21%  159M 1s\n",
            " 12500K .......... .......... .......... .......... .......... 21%  190M 1s\n",
            " 12550K .......... .......... .......... .......... .......... 22%  176M 1s\n",
            " 12600K .......... .......... .......... .......... .......... 22%  189M 1s\n",
            " 12650K .......... .......... .......... .......... .......... 22%  185M 1s\n",
            " 12700K .......... .......... .......... .......... .......... 22%  196M 1s\n",
            " 12750K .......... .......... .......... .......... .......... 22%  130M 1s\n",
            " 12800K .......... .......... .......... .......... .......... 22%  209M 1s\n",
            " 12850K .......... .......... .......... .......... .......... 22%  162M 1s\n",
            " 12900K .......... .......... .......... .......... .......... 22%  190M 1s\n",
            " 12950K .......... .......... .......... .......... .......... 22%  151M 1s\n",
            " 13000K .......... .......... .......... .......... .......... 22%  185M 0s\n",
            " 13050K .......... .......... .......... .......... .......... 22%  196M 0s\n",
            " 13100K .......... .......... .......... .......... .......... 23%  230M 0s\n",
            " 13150K .......... .......... .......... .......... .......... 23%  164M 0s\n",
            " 13200K .......... .......... .......... .......... .......... 23%  187M 0s\n",
            " 13250K .......... .......... .......... .......... .......... 23%  170M 0s\n",
            " 13300K .......... .......... .......... .......... .......... 23%  182M 0s\n",
            " 13350K .......... .......... .......... .......... .......... 23%  157M 0s\n",
            " 13400K .......... .......... .......... .......... .......... 23%  175M 0s\n",
            " 13450K .......... .......... .......... .......... .......... 23%  209M 0s\n",
            " 13500K .......... .......... .......... .......... .......... 23%  184M 0s\n",
            " 13550K .......... .......... .......... .......... .......... 23%  140M 0s\n",
            " 13600K .......... .......... .......... .......... .......... 23%  183M 0s\n",
            " 13650K .......... .......... .......... .......... .......... 23%  175M 0s\n",
            " 13700K .......... .......... .......... .......... .......... 24%  210M 0s\n",
            " 13750K .......... .......... .......... .......... .......... 24% 69.6M 0s\n",
            " 13800K .......... .......... .......... .......... .......... 24%  198M 0s\n",
            " 13850K .......... .......... .......... .......... .......... 24%  165M 0s\n",
            " 13900K .......... .......... .......... .......... .......... 24%  184M 0s\n",
            " 13950K .......... .......... .......... .......... .......... 24%  160M 0s\n",
            " 14000K .......... .......... .......... .......... .......... 24%  178M 0s\n",
            " 14050K .......... .......... .......... .......... .......... 24%  163M 0s\n",
            " 14100K .......... .......... .......... .......... .......... 24%  174M 0s\n",
            " 14150K .......... .......... .......... .......... .......... 24%  171M 0s\n",
            " 14200K .......... .......... .......... .......... .......... 24%  195M 0s\n",
            " 14250K .......... .......... .......... .......... .......... 25%  192M 0s\n",
            " 14300K .......... .......... .......... .......... .......... 25%  191M 0s\n",
            " 14350K .......... .......... .......... .......... .......... 25%  172M 0s\n",
            " 14400K .......... .......... .......... .......... .......... 25%  186M 0s\n",
            " 14450K .......... .......... .......... .......... .......... 25%  206M 0s\n",
            " 14500K .......... .......... .......... .......... .......... 25%  193M 0s\n",
            " 14550K .......... .......... .......... .......... .......... 25%  188M 0s\n",
            " 14600K .......... .......... .......... .......... .......... 25%  199M 0s\n",
            " 14650K .......... .......... .......... .......... .......... 25%  202M 0s\n",
            " 14700K .......... .......... .......... .......... .......... 25%  203M 0s\n",
            " 14750K .......... .......... .......... .......... .......... 25%  168M 0s\n",
            " 14800K .......... .......... .......... .......... .......... 26%  193M 0s\n",
            " 14850K .......... .......... .......... .......... .......... 26%  206M 0s\n",
            " 14900K .......... .......... .......... .......... .......... 26%  133M 0s\n",
            " 14950K .......... .......... .......... .......... .......... 26%  281M 0s\n",
            " 15000K .......... .......... .......... .......... .......... 26%  160M 0s\n",
            " 15050K .......... .......... .......... .......... .......... 26%  304M 0s\n",
            " 15100K .......... .......... .......... .......... .......... 26%  320M 0s\n",
            " 15150K .......... .......... .......... .......... .......... 26%  263M 0s\n",
            " 15200K .......... .......... .......... .......... .......... 26%  310M 0s\n",
            " 15250K .......... .......... .......... .......... .......... 26%  194M 0s\n",
            " 15300K .......... .......... .......... .......... .......... 26%  322M 0s\n",
            " 15350K .......... .......... .......... .......... .......... 26%  283M 0s\n",
            " 15400K .......... .......... .......... .......... .......... 27%  327M 0s\n",
            " 15450K .......... .......... .......... .......... .......... 27%  327M 0s\n",
            " 15500K .......... .......... .......... .......... .......... 27%  316M 0s\n",
            " 15550K .......... .......... .......... .......... .......... 27%  182M 0s\n",
            " 15600K .......... .......... .......... .......... .......... 27%  324M 0s\n",
            " 15650K .......... .......... .......... .......... .......... 27%  306M 0s\n",
            " 15700K .......... .......... .......... .......... .......... 27%  319M 0s\n",
            " 15750K .......... .......... .......... .......... .......... 27%  277M 0s\n",
            " 15800K .......... .......... .......... .......... .......... 27%  346M 0s\n",
            " 15850K .......... .......... .......... .......... .......... 27%  274M 0s\n",
            " 15900K .......... .......... .......... .......... .......... 27%  337M 0s\n",
            " 15950K .......... .......... .......... .......... .......... 28%  271M 0s\n",
            " 16000K .......... .......... .......... .......... .......... 28%  325M 0s\n",
            " 16050K .......... .......... .......... .......... .......... 28%  345M 0s\n",
            " 16100K .......... .......... .......... .......... .......... 28%  333M 0s\n",
            " 16150K .......... .......... .......... .......... .......... 28%  192M 0s\n",
            " 16200K .......... .......... .......... .......... .......... 28%  208M 0s\n",
            " 16250K .......... .......... .......... .......... .......... 28%  202M 0s\n",
            " 16300K .......... .......... .......... .......... .......... 28%  178M 0s\n",
            " 16350K .......... .......... .......... .......... .......... 28%  130M 0s\n",
            " 16400K .......... .......... .......... .......... .......... 28%  199M 0s\n",
            " 16450K .......... .......... .......... .......... .......... 28%  207M 0s\n",
            " 16500K .......... .......... .......... .......... .......... 28%  163M 0s\n",
            " 16550K .......... .......... .......... .......... .......... 29%  155M 0s\n",
            " 16600K .......... .......... .......... .......... .......... 29%  210M 0s\n",
            " 16650K .......... .......... .......... .......... .......... 29%  215M 0s\n",
            " 16700K .......... .......... .......... .......... .......... 29%  181M 0s\n",
            " 16750K .......... .......... .......... .......... .......... 29%  169M 0s\n",
            " 16800K .......... .......... .......... .......... .......... 29%  211M 0s\n",
            " 16850K .......... .......... .......... .......... .......... 29%  163M 0s\n",
            " 16900K .......... .......... .......... .......... .......... 29%  173M 0s\n",
            " 16950K .......... .......... .......... .......... .......... 29%  204M 0s\n",
            " 17000K .......... .......... .......... .......... .......... 29%  254M 0s\n",
            " 17050K .......... .......... .......... .......... .......... 29%  240M 0s\n",
            " 17100K .......... .......... .......... .......... .......... 30%  179M 0s\n",
            " 17150K .......... .......... .......... .......... .......... 30%  170M 0s\n",
            " 17200K .......... .......... .......... .......... .......... 30%  204M 0s\n",
            " 17250K .......... .......... .......... .......... .......... 30%  179M 0s\n",
            " 17300K .......... .......... .......... .......... .......... 30%  160M 0s\n",
            " 17350K .......... .......... .......... .......... .......... 30%  206M 0s\n",
            " 17400K .......... .......... .......... .......... .......... 30%  262M 0s\n",
            " 17450K .......... .......... .......... .......... .......... 30%  300M 0s\n",
            " 17500K .......... .......... .......... .......... .......... 30%  201M 0s\n",
            " 17550K .......... .......... .......... .......... .......... 30%  161M 0s\n",
            " 17600K .......... .......... .......... .......... .......... 30%  231M 0s\n",
            " 17650K .......... .......... .......... .......... .......... 30%  210M 0s\n",
            " 17700K .......... .......... .......... .......... .......... 31%  173M 0s\n",
            " 17750K .......... .......... .......... .......... .......... 31%  170M 0s\n",
            " 17800K .......... .......... .......... .......... .......... 31%  170M 0s\n",
            " 17850K .......... .......... .......... .......... .......... 31%  181M 0s\n",
            " 17900K .......... .......... .......... .......... .......... 31%  146M 0s\n",
            " 17950K .......... .......... .......... .......... .......... 31%  175M 0s\n",
            " 18000K .......... .......... .......... .......... .......... 31%  214M 0s\n",
            " 18050K .......... .......... .......... .......... .......... 31%  227M 0s\n",
            " 18100K .......... .......... .......... .......... .......... 31%  180M 0s\n",
            " 18150K .......... .......... .......... .......... .......... 31%  167M 0s\n",
            " 18200K .......... .......... .......... .......... .......... 31%  122M 0s\n",
            " 18250K .......... .......... .......... .......... .......... 32%  120M 0s\n",
            " 18300K .......... .......... .......... .......... .......... 32%  203M 0s\n",
            " 18350K .......... .......... .......... .......... .......... 32%  125M 0s\n",
            " 18400K .......... .......... .......... .......... .......... 32%  224M 0s\n",
            " 18450K .......... .......... .......... .......... .......... 32%  283M 0s\n",
            " 18500K .......... .......... .......... .......... .......... 32%  313M 0s\n",
            " 18550K .......... .......... .......... .......... .......... 32%  261M 0s\n",
            " 18600K .......... .......... .......... .......... .......... 32%  236M 0s\n",
            " 18650K .......... .......... .......... .......... .......... 32%  128M 0s\n",
            " 18700K .......... .......... .......... .......... .......... 32%  221M 0s\n",
            " 18750K .......... .......... .......... .......... .......... 32%  182M 0s\n",
            " 18800K .......... .......... .......... .......... .......... 33%  215M 0s\n",
            " 18850K .......... .......... .......... .......... .......... 33%  231M 0s\n",
            " 18900K .......... .......... .......... .......... .......... 33%  229M 0s\n",
            " 18950K .......... .......... .......... .......... .......... 33%  206M 0s\n",
            " 19000K .......... .......... .......... .......... .......... 33%  226M 0s\n",
            " 19050K .......... .......... .......... .......... .......... 33%  196M 0s\n",
            " 19100K .......... .......... .......... .......... .......... 33%  234M 0s\n",
            " 19150K .......... .......... .......... .......... .......... 33%  228M 0s\n",
            " 19200K .......... .......... .......... .......... .......... 33%  332M 0s\n",
            " 19250K .......... .......... .......... .......... .......... 33%  321M 0s\n",
            " 19300K .......... .......... .......... .......... .......... 33%  238M 0s\n",
            " 19350K .......... .......... .......... .......... .......... 33%  238M 0s\n",
            " 19400K .......... .......... .......... .......... .......... 34%  332M 0s\n",
            " 19450K .......... .......... .......... .......... .......... 34%  333M 0s\n",
            " 19500K .......... .......... .......... .......... .......... 34%  321M 0s\n",
            " 19550K .......... .......... .......... .......... .......... 34%  112M 0s\n",
            " 19600K .......... .......... .......... .......... .......... 34%  165M 0s\n",
            " 19650K .......... .......... .......... .......... .......... 34%  190M 0s\n",
            " 19700K .......... .......... .......... .......... .......... 34%  189M 0s\n",
            " 19750K .......... .......... .......... .......... .......... 34%  179M 0s\n",
            " 19800K .......... .......... .......... .......... .......... 34%  206M 0s\n",
            " 19850K .......... .......... .......... .......... .......... 34%  182M 0s\n",
            " 19900K .......... .......... .......... .......... .......... 34%  156M 0s\n",
            " 19950K .......... .......... .......... .......... .......... 35%  156M 0s\n",
            " 20000K .......... .......... .......... .......... .......... 35%  175M 0s\n",
            " 20050K .......... .......... .......... .......... .......... 35%  182M 0s\n",
            " 20100K .......... .......... .......... .......... .......... 35%  168M 0s\n",
            " 20150K .......... .......... .......... .......... .......... 35%  174M 0s\n",
            " 20200K .......... .......... .......... .......... .......... 35%  179M 0s\n",
            " 20250K .......... .......... .......... .......... .......... 35%  110M 0s\n",
            " 20300K .......... .......... .......... .......... .......... 35%  152M 0s\n",
            " 20350K .......... .......... .......... .......... .......... 35%  160M 0s\n",
            " 20400K .......... .......... .......... .......... .......... 35%  167M 0s\n",
            " 20450K .......... .......... .......... .......... .......... 35%  197M 0s\n",
            " 20500K .......... .......... .......... .......... .......... 35%  192M 0s\n",
            " 20550K .......... .......... .......... .......... .......... 36%  177M 0s\n",
            " 20600K .......... .......... .......... .......... .......... 36%  175M 0s\n",
            " 20650K .......... .......... .......... .......... .......... 36%  199M 0s\n",
            " 20700K .......... .......... .......... .......... .......... 36%  174M 0s\n",
            " 20750K .......... .......... .......... .......... .......... 36%  153M 0s\n",
            " 20800K .......... .......... .......... .......... .......... 36%  197M 0s\n",
            " 20850K .......... .......... .......... .......... .......... 36%  203M 0s\n",
            " 20900K .......... .......... .......... .......... .......... 36%  206M 0s\n",
            " 20950K .......... .......... .......... .......... .......... 36%  142M 0s\n",
            " 21000K .......... .......... .......... .......... .......... 36%  198M 0s\n",
            " 21050K .......... .......... .......... .......... .......... 36%  197M 0s\n",
            " 21100K .......... .......... .......... .......... .......... 37%  203M 0s\n",
            " 21150K .......... .......... .......... .......... .......... 37%  160M 0s\n",
            " 21200K .......... .......... .......... .......... .......... 37%  213M 0s\n",
            " 21250K .......... .......... .......... .......... .......... 37%  207M 0s\n",
            " 21300K .......... .......... .......... .......... .......... 37%  205M 0s\n",
            " 21350K .......... .......... .......... .......... .......... 37%  177M 0s\n",
            " 21400K .......... .......... .......... .......... .......... 37%  213M 0s\n",
            " 21450K .......... .......... .......... .......... .......... 37%  216M 0s\n",
            " 21500K .......... .......... .......... .......... .......... 37%  216M 0s\n",
            " 21550K .......... .......... .......... .......... .......... 37%  159M 0s\n",
            " 21600K .......... .......... .......... .......... .......... 37%  209M 0s\n",
            " 21650K .......... .......... .......... .......... .......... 38%  221M 0s\n",
            " 21700K .......... .......... .......... .......... .......... 38%  213M 0s\n",
            " 21750K .......... .......... .......... .......... .......... 38%  172M 0s\n",
            " 21800K .......... .......... .......... .......... .......... 38%  195M 0s\n",
            " 21850K .......... .......... .......... .......... .......... 38%  213M 0s\n",
            " 21900K .......... .......... .......... .......... .......... 38%  208M 0s\n",
            " 21950K .......... .......... .......... .......... .......... 38%  166M 0s\n",
            " 22000K .......... .......... .......... .......... .......... 38%  212M 0s\n",
            " 22050K .......... .......... .......... .......... .......... 38%  226M 0s\n",
            " 22100K .......... .......... .......... .......... .......... 38%  210M 0s\n",
            " 22150K .......... .......... .......... .......... .......... 38%  135M 0s\n",
            " 22200K .......... .......... .......... .......... .......... 38%  173M 0s\n",
            " 22250K .......... .......... .......... .......... .......... 39%  168M 0s\n",
            " 22300K .......... .......... .......... .......... .......... 39%  190M 0s\n",
            " 22350K .......... .......... .......... .......... .......... 39% 97.3M 0s\n",
            " 22400K .......... .......... .......... .......... .......... 39%  180M 0s\n",
            " 22450K .......... .......... .......... .......... .......... 39%  125M 0s\n",
            " 22500K .......... .......... .......... .......... .......... 39%  131M 0s\n",
            " 22550K .......... .......... .......... .......... .......... 39%  146M 0s\n",
            " 22600K .......... .......... .......... .......... .......... 39%  131M 0s\n",
            " 22650K .......... .......... .......... .......... .......... 39%  201M 0s\n",
            " 22700K .......... .......... .......... .......... .......... 39%  207M 0s\n",
            " 22750K .......... .......... .......... .......... .......... 39%  155M 0s\n",
            " 22800K .......... .......... .......... .......... .......... 40%  173M 0s\n",
            " 22850K .......... .......... .......... .......... .......... 40%  206M 0s\n",
            " 22900K .......... .......... .......... .......... .......... 40%  197M 0s\n",
            " 22950K .......... .......... .......... .......... .......... 40%  166M 0s\n",
            " 23000K .......... .......... .......... .......... .......... 40%  197M 0s\n",
            " 23050K .......... .......... .......... .......... .......... 40%  188M 0s\n",
            " 23100K .......... .......... .......... .......... .......... 40%  202M 0s\n",
            " 23150K .......... .......... .......... .......... .......... 40%  168M 0s\n",
            " 23200K .......... .......... .......... .......... .......... 40%  155M 0s\n",
            " 23250K .......... .......... .......... .......... .......... 40%  305M 0s\n",
            " 23300K .......... .......... .......... .......... .......... 40%  327M 0s\n",
            " 23350K .......... .......... .......... .......... .......... 40%  307M 0s\n",
            " 23400K .......... .......... .......... .......... .......... 41%  237M 0s\n",
            " 23450K .......... .......... .......... .......... .......... 41%  273M 0s\n",
            " 23500K .......... .......... .......... .......... .......... 41%  334M 0s\n",
            " 23550K .......... .......... .......... .......... .......... 41%  252M 0s\n",
            " 23600K .......... .......... .......... .......... .......... 41%  343M 0s\n",
            " 23650K .......... .......... .......... .......... .......... 41%  337M 0s\n",
            " 23700K .......... .......... .......... .......... .......... 41%  260M 0s\n",
            " 23750K .......... .......... .......... .......... .......... 41%  259M 0s\n",
            " 23800K .......... .......... .......... .......... .......... 41%  254M 0s\n",
            " 23850K .......... .......... .......... .......... .......... 41%  225M 0s\n",
            " 23900K .......... .......... .......... .......... .......... 41%  292M 0s\n",
            " 23950K .......... .......... .......... .......... .......... 42%  216M 0s\n",
            " 24000K .......... .......... .......... .......... .......... 42%  254M 0s\n",
            " 24050K .......... .......... .......... .......... .......... 42%  329M 0s\n",
            " 24100K .......... .......... .......... .......... .......... 42%  308M 0s\n",
            " 24150K .......... .......... .......... .......... .......... 42%  307M 0s\n",
            " 24200K .......... .......... .......... .......... .......... 42%  330M 0s\n",
            " 24250K .......... .......... .......... .......... .......... 42%  266M 0s\n",
            " 24300K .......... .......... .......... .......... .......... 42%  306M 0s\n",
            " 24350K .......... .......... .......... .......... .......... 42%  279M 0s\n",
            " 24400K .......... .......... .......... .......... .......... 42%  242M 0s\n",
            " 24450K .......... .......... .......... .......... .......... 42%  243M 0s\n",
            " 24500K .......... .......... .......... .......... .......... 42%  248M 0s\n",
            " 24550K .......... .......... .......... .......... .......... 43%  183M 0s\n",
            " 24600K .......... .......... .......... .......... .......... 43%  230M 0s\n",
            " 24650K .......... .......... .......... .......... .......... 43%  329M 0s\n",
            " 24700K .......... .......... .......... .......... .......... 43%  345M 0s\n",
            " 24750K .......... .......... .......... .......... .......... 43%  289M 0s\n",
            " 24800K .......... .......... .......... .......... .......... 43%  231M 0s\n",
            " 24850K .......... .......... .......... .......... .......... 43%  208M 0s\n",
            " 24900K .......... .......... .......... .......... .......... 43%  305M 0s\n",
            " 24950K .......... .......... .......... .......... .......... 43%  277M 0s\n",
            " 25000K .......... .......... .......... .......... .......... 43%  349M 0s\n",
            " 25050K .......... .......... .......... .......... .......... 43%  198M 0s\n",
            " 25100K .......... .......... .......... .......... .......... 44%  315M 0s\n",
            " 25150K .......... .......... .......... .......... .......... 44%  225M 0s\n",
            " 25200K .......... .......... .......... .......... .......... 44%  323M 0s\n",
            " 25250K .......... .......... .......... .......... .......... 44%  351M 0s\n",
            " 25300K .......... .......... .......... .......... .......... 44%  356M 0s\n",
            " 25350K .......... .......... .......... .......... .......... 44%  236M 0s\n",
            " 25400K .......... .......... .......... .......... .......... 44% 8.03M 0s\n",
            " 25450K .......... .......... .......... .......... .......... 44%  305M 0s\n",
            " 25500K .......... .......... .......... .......... .......... 44%  335M 0s\n",
            " 25550K .......... .......... .......... .......... .......... 44%  199M 0s\n",
            " 25600K .......... .......... .......... .......... .......... 44%  264M 0s\n",
            " 25650K .......... .......... .......... .......... .......... 45%  148M 0s\n",
            " 25700K .......... .......... .......... .......... .......... 45%  196M 0s\n",
            " 25750K .......... .......... .......... .......... .......... 45%  281M 0s\n",
            " 25800K .......... .......... .......... .......... .......... 45%  357M 0s\n",
            " 25850K .......... .......... .......... .......... .......... 45%  333M 0s\n",
            " 25900K .......... .......... .......... .......... .......... 45%  214M 0s\n",
            " 25950K .......... .......... .......... .......... .......... 45%  230M 0s\n",
            " 26000K .......... .......... .......... .......... .......... 45%  327M 0s\n",
            " 26050K .......... .......... .......... .......... .......... 45%  340M 0s\n",
            " 26100K .......... .......... .......... .......... .......... 45% 43.4M 0s\n",
            " 26150K .......... .......... .......... .......... .......... 45%  154M 0s\n",
            " 26200K .......... .......... .......... .......... .......... 45%  221M 0s\n",
            " 26250K .......... .......... .......... .......... .......... 46%  303M 0s\n",
            " 26300K .......... .......... .......... .......... .......... 46% 13.7M 0s\n",
            " 26350K .......... .......... .......... .......... .......... 46%  139M 0s\n",
            " 26400K .......... .......... .......... .......... .......... 46%  188M 0s\n",
            " 26450K .......... .......... .......... .......... .......... 46%  226M 0s\n",
            " 26500K .......... .......... .......... .......... .......... 46% 27.8M 0s\n",
            " 26550K .......... .......... .......... .......... .......... 46% 35.7M 0s\n",
            " 26600K .......... .......... .......... .......... .......... 46% 27.1M 0s\n",
            " 26650K .......... .......... .......... .......... .......... 46%  137M 0s\n",
            " 26700K .......... .......... .......... .......... .......... 46%  228M 0s\n",
            " 26750K .......... .......... .......... .......... .......... 46%  152M 0s\n",
            " 26800K .......... .......... .......... .......... .......... 47%  183M 0s\n",
            " 26850K .......... .......... .......... .......... .......... 47%  180M 0s\n",
            " 26900K .......... .......... .......... .......... .......... 47%  194M 0s\n",
            " 26950K .......... .......... .......... .......... .......... 47%  169M 0s\n",
            " 27000K .......... .......... .......... .......... .......... 47%  177M 0s\n",
            " 27050K .......... .......... .......... .......... .......... 47% 33.5M 0s\n",
            " 27100K .......... .......... .......... .......... .......... 47%  301M 0s\n",
            " 27150K .......... .......... .......... .......... .......... 47%  278M 0s\n",
            " 27200K .......... .......... .......... .......... .......... 47%  222M 0s\n",
            " 27250K .......... .......... .......... .......... .......... 47%  104M 0s\n",
            " 27300K .......... .......... .......... .......... .......... 47%  215M 0s\n",
            " 27350K .......... .......... .......... .......... .......... 47%  319M 0s\n",
            " 27400K .......... .......... .......... .......... .......... 48%  225M 0s\n",
            " 27450K .......... .......... .......... .......... .......... 48%  259M 0s\n",
            " 27500K .......... .......... .......... .......... .......... 48%  355M 0s\n",
            " 27550K .......... .......... .......... .......... .......... 48%  302M 0s\n",
            " 27600K .......... .......... .......... .......... .......... 48%  347M 0s\n",
            " 27650K .......... .......... .......... .......... .......... 48%  330M 0s\n",
            " 27700K .......... .......... .......... .......... .......... 48%  281M 0s\n",
            " 27750K .......... .......... .......... .......... .......... 48%  318M 0s\n",
            " 27800K .......... .......... .......... .......... .......... 48%  378M 0s\n",
            " 27850K .......... .......... .......... .......... .......... 48%  369M 0s\n",
            " 27900K .......... .......... .......... .......... .......... 48%  364M 0s\n",
            " 27950K .......... .......... .......... .......... .......... 49%  106M 0s\n",
            " 28000K .......... .......... .......... .......... .......... 49%  219M 0s\n",
            " 28050K .......... .......... .......... .......... .......... 49%  333M 0s\n",
            " 28100K .......... .......... .......... .......... .......... 49%  164M 0s\n",
            " 28150K .......... .......... .......... .......... .......... 49%  202M 0s\n",
            " 28200K .......... .......... .......... .......... .......... 49%  315M 0s\n",
            " 28250K .......... .......... .......... .......... .......... 49%  335M 0s\n",
            " 28300K .......... .......... .......... .......... .......... 49%  338M 0s\n",
            " 28350K .......... .......... .......... .......... .......... 49%  280M 0s\n",
            " 28400K .......... .......... .......... .......... .......... 49%  350M 0s\n",
            " 28450K .......... .......... .......... .......... .......... 49%  318M 0s\n",
            " 28500K .......... .......... .......... .......... .......... 50%  208M 0s\n",
            " 28550K .......... .......... .......... .......... .......... 50%  277M 0s\n",
            " 28600K .......... .......... .......... .......... .......... 50%  341M 0s\n",
            " 28650K .......... .......... .......... .......... .......... 50%  330M 0s\n",
            " 28700K .......... .......... .......... .......... .......... 50%  335M 0s\n",
            " 28750K .......... .......... .......... .......... .......... 50%  182M 0s\n",
            " 28800K .......... .......... .......... .......... .......... 50%  275M 0s\n",
            " 28850K .......... .......... .......... .......... .......... 50%  102M 0s\n",
            " 28900K .......... .......... .......... .......... .......... 50% 52.9M 0s\n",
            " 28950K .......... .......... .......... .......... .......... 50%  285M 0s\n",
            " 29000K .......... .......... .......... .......... .......... 50%  283M 0s\n",
            " 29050K .......... .......... .......... .......... .......... 50%  319M 0s\n",
            " 29100K .......... .......... .......... .......... .......... 51%  334M 0s\n",
            " 29150K .......... .......... .......... .......... .......... 51%  289M 0s\n",
            " 29200K .......... .......... .......... .......... .......... 51%  348M 0s\n",
            " 29250K .......... .......... .......... .......... .......... 51%  340M 0s\n",
            " 29300K .......... .......... .......... .......... .......... 51%  335M 0s\n",
            " 29350K .......... .......... .......... .......... .......... 51%  214M 0s\n",
            " 29400K .......... .......... .......... .......... .......... 51%  327M 0s\n",
            " 29450K .......... .......... .......... .......... .......... 51%  338M 0s\n",
            " 29500K .......... .......... .......... .......... .......... 51%  303M 0s\n",
            " 29550K .......... .......... .......... .......... .......... 51%  293M 0s\n",
            " 29600K .......... .......... .......... .......... .......... 51%  350M 0s\n",
            " 29650K .......... .......... .......... .......... .......... 52%  285M 0s\n",
            " 29700K .......... .......... .......... .......... .......... 52%  338M 0s\n",
            " 29750K .......... .......... .......... .......... .......... 52%  301M 0s\n",
            " 29800K .......... .......... .......... .......... .......... 52%  202M 0s\n",
            " 29850K .......... .......... .......... .......... .......... 52%  217M 0s\n",
            " 29900K .......... .......... .......... .......... .......... 52%  227M 0s\n",
            " 29950K .......... .......... .......... .......... .......... 52%  160M 0s\n",
            " 30000K .......... .......... .......... .......... .......... 52%  271M 0s\n",
            " 30050K .......... .......... .......... .......... .......... 52%  305M 0s\n",
            " 30100K .......... .......... .......... .......... .......... 52%  251M 0s\n",
            " 30150K .......... .......... .......... .......... .......... 52%  176M 0s\n",
            " 30200K .......... .......... .......... .......... .......... 52%  218M 0s\n",
            " 30250K .......... .......... .......... .......... .......... 53%  243M 0s\n",
            " 30300K .......... .......... .......... .......... .......... 53%  224M 0s\n",
            " 30350K .......... .......... .......... .......... .......... 53%  160M 0s\n",
            " 30400K .......... .......... .......... .......... .......... 53%  213M 0s\n",
            " 30450K .......... .......... .......... .......... .......... 53%  236M 0s\n",
            " 30500K .......... .......... .......... .......... .......... 53%  227M 0s\n",
            " 30550K .......... .......... .......... .......... .......... 53%  246M 0s\n",
            " 30600K .......... .......... .......... .......... .......... 53% 46.2M 0s\n",
            " 30650K .......... .......... .......... .......... .......... 53% 44.3M 0s\n",
            " 30700K .......... .......... .......... .......... .......... 53%  139M 0s\n",
            " 30750K .......... .......... .......... .......... .......... 53%  279M 0s\n",
            " 30800K .......... .......... .......... .......... .......... 54%  343M 0s\n",
            " 30850K .......... .......... .......... .......... .......... 54%  345M 0s\n",
            " 30900K .......... .......... .......... .......... .......... 54%  274M 0s\n",
            " 30950K .......... .......... .......... .......... .......... 54%  305M 0s\n",
            " 31000K .......... .......... .......... .......... .......... 54%  346M 0s\n",
            " 31050K .......... .......... .......... .......... .......... 54%  354M 0s\n",
            " 31100K .......... .......... .......... .......... .......... 54%  348M 0s\n",
            " 31150K .......... .......... .......... .......... .......... 54%  274M 0s\n",
            " 31200K .......... .......... .......... .......... .......... 54%  272M 0s\n",
            " 31250K .......... .......... .......... .......... .......... 54%  311M 0s\n",
            " 31300K .......... .......... .......... .......... .......... 54%  344M 0s\n",
            " 31350K .......... .......... .......... .......... .......... 54%  305M 0s\n",
            " 31400K .......... .......... .......... .......... .......... 55%  348M 0s\n",
            " 31450K .......... .......... .......... .......... .......... 55%  351M 0s\n",
            " 31500K .......... .......... .......... .......... .......... 55%  345M 0s\n",
            " 31550K .......... .......... .......... .......... .......... 55%  195M 0s\n",
            " 31600K .......... .......... .......... .......... .......... 55%  317M 0s\n",
            " 31650K .......... .......... .......... .......... .......... 55%  351M 0s\n",
            " 31700K .......... .......... .......... .......... .......... 55%  330M 0s\n",
            " 31750K .......... .......... .......... .......... .......... 55%  289M 0s\n",
            " 31800K .......... .......... .......... .......... .......... 55%  354M 0s\n",
            " 31850K .......... .......... .......... .......... .......... 55%  277M 0s\n",
            " 31900K .......... .......... .......... .......... .......... 55%  347M 0s\n",
            " 31950K .......... .......... .......... .......... .......... 56%  286M 0s\n",
            " 32000K .......... .......... .......... .......... .......... 56%  346M 0s\n",
            " 32050K .......... .......... .......... .......... .......... 56%  350M 0s\n",
            " 32100K .......... .......... .......... .......... .......... 56%  354M 0s\n",
            " 32150K .......... .......... .......... .......... .......... 56%  256M 0s\n",
            " 32200K .......... .......... .......... .......... .......... 56%  154M 0s\n",
            " 32250K .......... .......... .......... .......... .......... 56%  206M 0s\n",
            " 32300K .......... .......... .......... .......... .......... 56%  300M 0s\n",
            " 32350K .......... .......... .......... .......... .......... 56%  278M 0s\n",
            " 32400K .......... .......... .......... .......... .......... 56%  144M 0s\n",
            " 32450K .......... .......... .......... .......... .......... 56%  299M 0s\n",
            " 32500K .......... .......... .......... .......... .......... 57%  279M 0s\n",
            " 32550K .......... .......... .......... .......... .......... 57%  247M 0s\n",
            " 32600K .......... .......... .......... .......... .......... 57% 60.9M 0s\n",
            " 32650K .......... .......... .......... .......... .......... 57%  271M 0s\n",
            " 32700K .......... .......... .......... .......... .......... 57%  324M 0s\n",
            " 32750K .......... .......... .......... .......... .......... 57%  191M 0s\n",
            " 32800K .......... .......... .......... .......... .......... 57%  328M 0s\n",
            " 32850K .......... .......... .......... .......... .......... 57%  338M 0s\n",
            " 32900K .......... .......... .......... .......... .......... 57%  303M 0s\n",
            " 32950K .......... .......... .......... .......... .......... 57%  271M 0s\n",
            " 33000K .......... .......... .......... .......... .......... 57%  181M 0s\n",
            " 33050K .......... .......... .......... .......... .......... 57%  193M 0s\n",
            " 33100K .......... .......... .......... .......... .......... 58%  325M 0s\n",
            " 33150K .......... .......... .......... .......... .......... 58%  196M 0s\n",
            " 33200K .......... .......... .......... .......... .......... 58%  306M 0s\n",
            " 33250K .......... .......... .......... .......... .......... 58%  272M 0s\n",
            " 33300K .......... .......... .......... .......... .......... 58%  332M 0s\n",
            " 33350K .......... .......... .......... .......... .......... 58%  303M 0s\n",
            " 33400K .......... .......... .......... .......... .......... 58%  334M 0s\n",
            " 33450K .......... .......... .......... .......... .......... 58%  325M 0s\n",
            " 33500K .......... .......... .......... .......... .......... 58%  329M 0s\n",
            " 33550K .......... .......... .......... .......... .......... 58%  245M 0s\n",
            " 33600K .......... .......... .......... .......... .......... 58%  255M 0s\n",
            " 33650K .......... .......... .......... .......... .......... 59%  338M 0s\n",
            " 33700K .......... .......... .......... .......... .......... 59%  344M 0s\n",
            " 33750K .......... .......... .......... .......... .......... 59%  242M 0s\n",
            " 33800K .......... .......... .......... .......... .......... 59%  316M 0s\n",
            " 33850K .......... .......... .......... .......... .......... 59%  156M 0s\n",
            " 33900K .......... .......... .......... .......... .......... 59% 69.3M 0s\n",
            " 33950K .......... .......... .......... .......... .......... 59% 55.7M 0s\n",
            " 34000K .......... .......... .......... .......... .......... 59%  115M 0s\n",
            " 34050K .......... .......... .......... .......... .......... 59% 26.2M 0s\n",
            " 34100K .......... .......... .......... .......... .......... 59% 61.6M 0s\n",
            " 34150K .......... .......... .......... .......... .......... 59%  158M 0s\n",
            " 34200K .......... .......... .......... .......... .......... 59%  279M 0s\n",
            " 34250K .......... .......... .......... .......... .......... 60%  320M 0s\n",
            " 34300K .......... .......... .......... .......... .......... 60%  330M 0s\n",
            " 34350K .......... .......... .......... .......... .......... 60%  287M 0s\n",
            " 34400K .......... .......... .......... .......... .......... 60%  345M 0s\n",
            " 34450K .......... .......... .......... .......... .......... 60%  249M 0s\n",
            " 34500K .......... .......... .......... .......... .......... 60%  233M 0s\n",
            " 34550K .......... .......... .......... .......... .......... 60%  211M 0s\n",
            " 34600K .......... .......... .......... .......... .......... 60%  212M 0s\n",
            " 34650K .......... .......... .......... .......... .......... 60%  351M 0s\n",
            " 34700K .......... .......... .......... .......... .......... 60%  267M 0s\n",
            " 34750K .......... .......... .......... .......... .......... 60%  285M 0s\n",
            " 34800K .......... .......... .......... .......... .......... 61%  349M 0s\n",
            " 34850K .......... .......... .......... .......... .......... 61%  348M 0s\n",
            " 34900K .......... .......... .......... .......... .......... 61%  332M 0s\n",
            " 34950K .......... .......... .......... .......... .......... 61%  318M 0s\n",
            " 35000K .......... .......... .......... .......... .......... 61%  119M 0s\n",
            " 35050K .......... .......... .......... .......... .......... 61% 67.3M 0s\n",
            " 35100K .......... .......... .......... .......... .......... 61% 40.8M 0s\n",
            " 35150K .......... .......... .......... .......... .......... 61%  109M 0s\n",
            " 35200K .......... .......... .......... .......... .......... 61%  199M 0s\n",
            " 35250K .......... .......... .......... .......... .......... 61%  167M 0s\n",
            " 35300K .......... .......... .......... .......... .......... 61%  198M 0s\n",
            " 35350K .......... .......... .......... .......... .......... 61%  174M 0s\n",
            " 35400K .......... .......... .......... .......... .......... 62%  197M 0s\n",
            " 35450K .......... .......... .......... .......... .......... 62%  191M 0s\n",
            " 35500K .......... .......... .......... .......... .......... 62%  192M 0s\n",
            " 35550K .......... .......... .......... .......... .......... 62% 12.6M 0s\n",
            " 35600K .......... .......... .......... .......... .......... 62%  218M 0s\n",
            " 35650K .......... .......... .......... .......... .......... 62%  252M 0s\n",
            " 35700K .......... .......... .......... .......... .......... 62%  138M 0s\n",
            " 35750K .......... .......... .......... .......... .......... 62%  181M 0s\n",
            " 35800K .......... .......... .......... .......... .......... 62%  235M 0s\n",
            " 35850K .......... .......... .......... .......... .......... 62%  234M 0s\n",
            " 35900K .......... .......... .......... .......... .......... 62%  176M 0s\n",
            " 35950K .......... .......... .......... .......... .......... 63%  227M 0s\n",
            " 36000K .......... .......... .......... .......... .......... 63%  296M 0s\n",
            " 36050K .......... .......... .......... .......... .......... 63%  217M 0s\n",
            " 36100K .......... .......... .......... .......... .......... 63%  199M 0s\n",
            " 36150K .......... .......... .......... .......... .......... 63%  191M 0s\n",
            " 36200K .......... .......... .......... .......... .......... 63%  232M 0s\n",
            " 36250K .......... .......... .......... .......... .......... 63%  328M 0s\n",
            " 36300K .......... .......... .......... .......... .......... 63%  335M 0s\n",
            " 36350K .......... .......... .......... .......... .......... 63%  280M 0s\n",
            " 36400K .......... .......... .......... .......... .......... 63%  269M 0s\n",
            " 36450K .......... .......... .......... .......... .......... 63%  219M 0s\n",
            " 36500K .......... .......... .......... .......... .......... 64%  208M 0s\n",
            " 36550K .......... .......... .......... .......... .......... 64%  180M 0s\n",
            " 36600K .......... .......... .......... .......... .......... 64% 37.8M 0s\n",
            " 36650K .......... .......... .......... .......... .......... 64%  137M 0s\n",
            " 36700K .......... .......... .......... .......... .......... 64%  216M 0s\n",
            " 36750K .......... .......... .......... .......... .......... 64%  200M 0s\n",
            " 36800K .......... .......... .......... .......... .......... 64%  225M 0s\n",
            " 36850K .......... .......... .......... .......... .......... 64%  231M 0s\n",
            " 36900K .......... .......... .......... .......... .......... 64%  242M 0s\n",
            " 36950K .......... .......... .......... .......... .......... 64%  210M 0s\n",
            " 37000K .......... .......... .......... .......... .......... 64%  203M 0s\n",
            " 37050K .......... .......... .......... .......... .......... 64%  103M 0s\n",
            " 37100K .......... .......... .......... .......... .......... 65%  240M 0s\n",
            " 37150K .......... .......... .......... .......... .......... 65%  189M 0s\n",
            " 37200K .......... .......... .......... .......... .......... 65%  205M 0s\n",
            " 37250K .......... .......... .......... .......... .......... 65%  252M 0s\n",
            " 37300K .......... .......... .......... .......... .......... 65%  251M 0s\n",
            " 37350K .......... .......... .......... .......... .......... 65%  224M 0s\n",
            " 37400K .......... .......... .......... .......... .......... 65%  214M 0s\n",
            " 37450K .......... .......... .......... .......... .......... 65%  244M 0s\n",
            " 37500K .......... .......... .......... .......... .......... 65% 20.9M 0s\n",
            " 37550K .......... .......... .......... .......... .......... 65% 36.1M 0s\n",
            " 37600K .......... .......... .......... .......... .......... 65% 34.5M 0s\n",
            " 37650K .......... .......... .......... .......... .......... 66% 51.2M 0s\n",
            " 37700K .......... .......... .......... .......... .......... 66%  195M 0s\n",
            " 37750K .......... .......... .......... .......... .......... 66% 64.9M 0s\n",
            " 37800K .......... .......... .......... .......... .......... 66% 39.6M 0s\n",
            " 37850K .......... .......... .......... .......... .......... 66% 36.0M 0s\n",
            " 37900K .......... .......... .......... .......... .......... 66% 66.7M 0s\n",
            " 37950K .......... .......... .......... .......... .......... 66% 61.5M 0s\n",
            " 38000K .......... .......... .......... .......... .......... 66% 72.5M 0s\n",
            " 38050K .......... .......... .......... .......... .......... 66% 45.7M 0s\n",
            " 38100K .......... .......... .......... .......... .......... 66% 82.9M 0s\n",
            " 38150K .......... .......... .......... .......... .......... 66%  239M 0s\n",
            " 38200K .......... .......... .......... .......... .......... 66%  162M 0s\n",
            " 38250K .......... .......... .......... .......... .......... 67%  195M 0s\n",
            " 38300K .......... .......... .......... .......... .......... 67%  237M 0s\n",
            " 38350K .......... .......... .......... .......... .......... 67%  172M 0s\n",
            " 38400K .......... .......... .......... .......... .......... 67%  140M 0s\n",
            " 38450K .......... .......... .......... .......... .......... 67%  263M 0s\n",
            " 38500K .......... .......... .......... .......... .......... 67%  264M 0s\n",
            " 38550K .......... .......... .......... .......... .......... 67%  195M 0s\n",
            " 38600K .......... .......... .......... .......... .......... 67%  171M 0s\n",
            " 38650K .......... .......... .......... .......... .......... 67%  261M 0s\n",
            " 38700K .......... .......... .......... .......... .......... 67%  302M 0s\n",
            " 38750K .......... .......... .......... .......... .......... 67%  206M 0s\n",
            " 38800K .......... .......... .......... .......... .......... 68%  160M 0s\n",
            " 38850K .......... .......... .......... .......... .......... 68%  176M 0s\n",
            " 38900K .......... .......... .......... .......... .......... 68%  297M 0s\n",
            " 38950K .......... .......... .......... .......... .......... 68%  303M 0s\n",
            " 39000K .......... .......... .......... .......... .......... 68%  335M 0s\n",
            " 39050K .......... .......... .......... .......... .......... 68%  289M 0s\n",
            " 39100K .......... .......... .......... .......... .......... 68%  293M 0s\n",
            " 39150K .......... .......... .......... .......... .......... 68%  291M 0s\n",
            " 39200K .......... .......... .......... .......... .......... 68%  335M 0s\n",
            " 39250K .......... .......... .......... .......... .......... 68%  340M 0s\n",
            " 39300K .......... .......... .......... .......... .......... 68%  345M 0s\n",
            " 39350K .......... .......... .......... .......... .......... 69%  282M 0s\n",
            " 39400K .......... .......... .......... .......... .......... 69%  210M 0s\n",
            " 39450K .......... .......... .......... .......... .......... 69%  329M 0s\n",
            " 39500K .......... .......... .......... .......... .......... 69%  341M 0s\n",
            " 39550K .......... .......... .......... .......... .......... 69%  275M 0s\n",
            " 39600K .......... .......... .......... .......... .......... 69%  333M 0s\n",
            " 39650K .......... .......... .......... .......... .......... 69%  344M 0s\n",
            " 39700K .......... .......... .......... .......... .......... 69% 59.3M 0s\n",
            " 39750K .......... .......... .......... .......... .......... 69% 97.0M 0s\n",
            " 39800K .......... .......... .......... .......... .......... 69%  117M 0s\n",
            " 39850K .......... .......... .......... .......... .......... 69% 55.8M 0s\n",
            " 39900K .......... .......... .......... .......... .......... 69% 90.1M 0s\n",
            " 39950K .......... .......... .......... .......... .......... 70%  226M 0s\n",
            " 40000K .......... .......... .......... .......... .......... 70%  214M 0s\n",
            " 40050K .......... .......... .......... .......... .......... 70%  261M 0s\n",
            " 40100K .......... .......... .......... .......... .......... 70%  316M 0s\n",
            " 40150K .......... .......... .......... .......... .......... 70%  217M 0s\n",
            " 40200K .......... .......... .......... .......... .......... 70%  260M 0s\n",
            " 40250K .......... .......... .......... .......... .......... 70%  338M 0s\n",
            " 40300K .......... .......... .......... .......... .......... 70%  340M 0s\n",
            " 40350K .......... .......... .......... .......... .......... 70%  286M 0s\n",
            " 40400K .......... .......... .......... .......... .......... 70%  329M 0s\n",
            " 40450K .......... .......... .......... .......... .......... 70%  231M 0s\n",
            " 40500K .......... .......... .......... .......... .......... 71%  339M 0s\n",
            " 40550K .......... .......... .......... .......... .......... 71%  226M 0s\n",
            " 40600K .......... .......... .......... .......... .......... 71%  206M 0s\n",
            " 40650K .......... .......... .......... .......... .......... 71%  321M 0s\n",
            " 40700K .......... .......... .......... .......... .......... 71%  288M 0s\n",
            " 40750K .......... .......... .......... .......... .......... 71%  254M 0s\n",
            " 40800K .......... .......... .......... .......... .......... 71%  348M 0s\n",
            " 40850K .......... .......... .......... .......... .......... 71%  340M 0s\n",
            " 40900K .......... .......... .......... .......... .......... 71%  180M 0s\n",
            " 40950K .......... .......... .......... .......... .......... 71%  149M 0s\n",
            " 41000K .......... .......... .......... .......... .......... 71%  286M 0s\n",
            " 41050K .......... .......... .......... .......... .......... 71%  332M 0s\n",
            " 41100K .......... .......... .......... .......... .......... 72%  335M 0s\n",
            " 41150K .......... .......... .......... .......... .......... 72%  187M 0s\n",
            " 41200K .......... .......... .......... .......... .......... 72% 62.9M 0s\n",
            " 41250K .......... .......... .......... .......... .......... 72% 56.2M 0s\n",
            " 41300K .......... .......... .......... .......... .......... 72%  151M 0s\n",
            " 41350K .......... .......... .......... .......... .......... 72%  218M 0s\n",
            " 41400K .......... .......... .......... .......... .......... 72%  201M 0s\n",
            " 41450K .......... .......... .......... .......... .......... 72%  144M 0s\n",
            " 41500K .......... .......... .......... .......... .......... 72%  253M 0s\n",
            " 41550K .......... .......... .......... .......... .......... 72%  240M 0s\n",
            " 41600K .......... .......... .......... .......... .......... 72%  226M 0s\n",
            " 41650K .......... .......... .......... .......... .......... 73%  339M 0s\n",
            " 41700K .......... .......... .......... .......... .......... 73%  340M 0s\n",
            " 41750K .......... .......... .......... .......... .......... 73%  305M 0s\n",
            " 41800K .......... .......... .......... .......... .......... 73%  199M 0s\n",
            " 41850K .......... .......... .......... .......... .......... 73%  178M 0s\n",
            " 41900K .......... .......... .......... .......... .......... 73%  256M 0s\n",
            " 41950K .......... .......... .......... .......... .......... 73%  144M 0s\n",
            " 42000K .......... .......... .......... .......... .......... 73%  167M 0s\n",
            " 42050K .......... .......... .......... .......... .......... 73%  179M 0s\n",
            " 42100K .......... .......... .......... .......... .......... 73%  184M 0s\n",
            " 42150K .......... .......... .......... .......... .......... 73%  167M 0s\n",
            " 42200K .......... .......... .......... .......... .......... 73%  178M 0s\n",
            " 42250K .......... .......... .......... .......... .......... 74%  115M 0s\n",
            " 42300K .......... .......... .......... .......... .......... 74%  188M 0s\n",
            " 42350K .......... .......... .......... .......... .......... 74% 90.7M 0s\n",
            " 42400K .......... .......... .......... .......... .......... 74%  226M 0s\n",
            " 42450K .......... .......... .......... .......... .......... 74%  281M 0s\n",
            " 42500K .......... .......... .......... .......... .......... 74%  330M 0s\n",
            " 42550K .......... .......... .......... .......... .......... 74%  136M 0s\n",
            " 42600K .......... .......... .......... .......... .......... 74%  217M 0s\n",
            " 42650K .......... .......... .......... .......... .......... 74%  306M 0s\n",
            " 42700K .......... .......... .......... .......... .......... 74%  338M 0s\n",
            " 42750K .......... .......... .......... .......... .......... 74%  224M 0s\n",
            " 42800K .......... .......... .......... .......... .......... 75%  298M 0s\n",
            " 42850K .......... .......... .......... .......... .......... 75%  317M 0s\n",
            " 42900K .......... .......... .......... .......... .......... 75%  261M 0s\n",
            " 42950K .......... .......... .......... .......... .......... 75%  264M 0s\n",
            " 43000K .......... .......... .......... .......... .......... 75%  310M 0s\n",
            " 43050K .......... .......... .......... .......... .......... 75%  246M 0s\n",
            " 43100K .......... .......... .......... .......... .......... 75% 14.0M 0s\n",
            " 43150K .......... .......... .......... .......... .......... 75%  185M 0s\n",
            " 43200K .......... .......... .......... .......... .......... 75%  168M 0s\n",
            " 43250K .......... .......... .......... .......... .......... 75%  155M 0s\n",
            " 43300K .......... .......... .......... .......... .......... 75%  244M 0s\n",
            " 43350K .......... .......... .......... .......... .......... 76%  252M 0s\n",
            " 43400K .......... .......... .......... .......... .......... 76%  144M 0s\n",
            " 43450K .......... .......... .......... .......... .......... 76%  245M 0s\n",
            " 43500K .......... .......... .......... .......... .......... 76%  292M 0s\n",
            " 43550K .......... .......... .......... .......... .......... 76%  176M 0s\n",
            " 43600K .......... .......... .......... .......... .......... 76%  213M 0s\n",
            " 43650K .......... .......... .......... .......... .......... 76%  257M 0s\n",
            " 43700K .......... .......... .......... .......... .......... 76%  326M 0s\n",
            " 43750K .......... .......... .......... .......... .......... 76%  237M 0s\n",
            " 43800K .......... .......... .......... .......... .......... 76%  257M 0s\n",
            " 43850K .......... .......... .......... .......... .......... 76%  228M 0s\n",
            " 43900K .......... .......... .......... .......... .......... 76%  223M 0s\n",
            " 43950K .......... .......... .......... .......... .......... 77%  231M 0s\n",
            " 44000K .......... .......... .......... .......... .......... 77%  325M 0s\n",
            " 44050K .......... .......... .......... .......... .......... 77%  337M 0s\n",
            " 44100K .......... .......... .......... .......... .......... 77%  329M 0s\n",
            " 44150K .......... .......... .......... .......... .......... 77%  236M 0s\n",
            " 44200K .......... .......... .......... .......... .......... 77%  242M 0s\n",
            " 44250K .......... .......... .......... .......... .......... 77%  334M 0s\n",
            " 44300K .......... .......... .......... .......... .......... 77%  336M 0s\n",
            " 44350K .......... .......... .......... .......... .......... 77%  274M 0s\n",
            " 44400K .......... .......... .......... .......... .......... 77% 5.28M 0s\n",
            " 44450K .......... .......... .......... .......... .......... 77%  171M 0s\n",
            " 44500K .......... .......... .......... .......... .......... 78%  330M 0s\n",
            " 44550K .......... .......... .......... .......... .......... 78%  304M 0s\n",
            " 44600K .......... .......... .......... .......... .......... 78%  324M 0s\n",
            " 44650K .......... .......... .......... .......... .......... 78%  336M 0s\n",
            " 44700K .......... .......... .......... .......... .......... 78% 4.54M 0s\n",
            " 44750K .......... .......... .......... .......... .......... 78% 43.3M 0s\n",
            " 44800K .......... .......... .......... .......... .......... 78% 67.0M 0s\n",
            " 44850K .......... .......... .......... .......... .......... 78%  201M 0s\n",
            " 44900K .......... .......... .......... .......... .......... 78%  235M 0s\n",
            " 44950K .......... .......... .......... .......... .......... 78%  182M 0s\n",
            " 45000K .......... .......... .......... .......... .......... 78%  236M 0s\n",
            " 45050K .......... .......... .......... .......... .......... 78%  283M 0s\n",
            " 45100K .......... .......... .......... .......... .......... 79%  325M 0s\n",
            " 45150K .......... .......... .......... .......... .......... 79%  227M 0s\n",
            " 45200K .......... .......... .......... .......... .......... 79%  168M 0s\n",
            " 45250K .......... .......... .......... .......... .......... 79%  297M 0s\n",
            " 45300K .......... .......... .......... .......... .......... 79%  345M 0s\n",
            " 45350K .......... .......... .......... .......... .......... 79%  166M 0s\n",
            " 45400K .......... .......... .......... .......... .......... 79%  248M 0s\n",
            " 45450K .......... .......... .......... .......... .......... 79%  251M 0s\n",
            " 45500K .......... .......... .......... .......... .......... 79%  322M 0s\n",
            " 45550K .......... .......... .......... .......... .......... 79%  240M 0s\n",
            " 45600K .......... .......... .......... .......... .......... 79%  274M 0s\n",
            " 45650K .......... .......... .......... .......... .......... 80%  307M 0s\n",
            " 45700K .......... .......... .......... .......... .......... 80%  157M 0s\n",
            " 45750K .......... .......... .......... .......... .......... 80%  168M 0s\n",
            " 45800K .......... .......... .......... .......... .......... 80%  196M 0s\n",
            " 45850K .......... .......... .......... .......... .......... 80%  284M 0s\n",
            " 45900K .......... .......... .......... .......... .......... 80% 53.2M 0s\n",
            " 45950K .......... .......... .......... .......... .......... 80% 54.9M 0s\n",
            " 46000K .......... .......... .......... .......... .......... 80% 68.5M 0s\n",
            " 46050K .......... .......... .......... .......... .......... 80% 80.1M 0s\n",
            " 46100K .......... .......... .......... .......... .......... 80% 67.8M 0s\n",
            " 46150K .......... .......... .......... .......... .......... 80% 61.7M 0s\n",
            " 46200K .......... .......... .......... .......... .......... 81% 71.0M 0s\n",
            " 46250K .......... .......... .......... .......... .......... 81% 74.9M 0s\n",
            " 46300K .......... .......... .......... .......... .......... 81% 67.7M 0s\n",
            " 46350K .......... .......... .......... .......... .......... 81% 56.8M 0s\n",
            " 46400K .......... .......... .......... .......... .......... 81% 67.4M 0s\n",
            " 46450K .......... .......... .......... .......... .......... 81% 74.7M 0s\n",
            " 46500K .......... .......... .......... .......... .......... 81% 72.1M 0s\n",
            " 46550K .......... .......... .......... .......... .......... 81% 61.6M 0s\n",
            " 46600K .......... .......... .......... .......... .......... 81% 72.2M 0s\n",
            " 46650K .......... .......... .......... .......... .......... 81% 83.7M 0s\n",
            " 46700K .......... .......... .......... .......... .......... 81% 83.4M 0s\n",
            " 46750K .......... .......... .......... .......... .......... 81% 6.80M 0s\n",
            " 46800K .......... .......... .......... .......... .......... 82% 56.5M 0s\n",
            " 46850K .......... .......... .......... .......... .......... 82%  323M 0s\n",
            " 46900K .......... .......... .......... .......... .......... 82%  276M 0s\n",
            " 46950K .......... .......... .......... .......... .......... 82% 92.6M 0s\n",
            " 47000K .......... .......... .......... .......... .......... 82%  141M 0s\n",
            " 47050K .......... .......... .......... .......... .......... 82%  127M 0s\n",
            " 47100K .......... .......... .......... .......... .......... 82% 99.5M 0s\n",
            " 47150K .......... .......... .......... .......... .......... 82%  182M 0s\n",
            " 47200K .......... .......... .......... .......... .......... 82%  180M 0s\n",
            " 47250K .......... .......... .......... .......... .......... 82%  135M 0s\n",
            " 47300K .......... .......... .......... .......... .......... 82%  123M 0s\n",
            " 47350K .......... .......... .......... .......... .......... 83%  160M 0s\n",
            " 47400K .......... .......... .......... .......... .......... 83%  160M 0s\n",
            " 47450K .......... .......... .......... .......... .......... 83%  237M 0s\n",
            " 47500K .......... .......... .......... .......... .......... 83%  250M 0s\n",
            " 47550K .......... .......... .......... .......... .......... 83%  202M 0s\n",
            " 47600K .......... .......... .......... .......... .......... 83%  185M 0s\n",
            " 47650K .......... .......... .......... .......... .......... 83%  170M 0s\n",
            " 47700K .......... .......... .......... .......... .......... 83%  118M 0s\n",
            " 47750K .......... .......... .......... .......... .......... 83%  172M 0s\n",
            " 47800K .......... .......... .......... .......... .......... 83%  247M 0s\n",
            " 47850K .......... .......... .......... .......... .......... 83%  165M 0s\n",
            " 47900K .......... .......... .......... .......... .......... 83%  141M 0s\n",
            " 47950K .......... .......... .......... .......... .......... 84%  156M 0s\n",
            " 48000K .......... .......... .......... .......... .......... 84%  225M 0s\n",
            " 48050K .......... .......... .......... .......... .......... 84%  137M 0s\n",
            " 48100K .......... .......... .......... .......... .......... 84% 42.9M 0s\n",
            " 48150K .......... .......... .......... .......... .......... 84%  136M 0s\n",
            " 48200K .......... .......... .......... .......... .......... 84%  138M 0s\n",
            " 48250K .......... .......... .......... .......... .......... 84%  130M 0s\n",
            " 48300K .......... .......... .......... .......... .......... 84%  227M 0s\n",
            " 48350K .......... .......... .......... .......... .......... 84%  141M 0s\n",
            " 48400K .......... .......... .......... .......... .......... 84%  121M 0s\n",
            " 48450K .......... .......... .......... .......... .......... 84%  129M 0s\n",
            " 48500K .......... .......... .......... .......... .......... 85%  169M 0s\n",
            " 48550K .......... .......... .......... .......... .......... 85%  125M 0s\n",
            " 48600K .......... .......... .......... .......... .......... 85%  221M 0s\n",
            " 48650K .......... .......... .......... .......... .......... 85%  139M 0s\n",
            " 48700K .......... .......... .......... .......... .......... 85%  187M 0s\n",
            " 48750K .......... .......... .......... .......... .......... 85% 41.4M 0s\n",
            " 48800K .......... .......... .......... .......... .......... 85% 60.2M 0s\n",
            " 48850K .......... .......... .......... .......... .......... 85% 92.3M 0s\n",
            " 48900K .......... .......... .......... .......... .......... 85% 62.1M 0s\n",
            " 48950K .......... .......... .......... .......... .......... 85% 56.8M 0s\n",
            " 49000K .......... .......... .......... .......... .......... 85% 63.1M 0s\n",
            " 49050K .......... .......... .......... .......... .......... 85% 69.6M 0s\n",
            " 49100K .......... .......... .......... .......... .......... 86% 65.3M 0s\n",
            " 49150K .......... .......... .......... .......... .......... 86% 45.4M 0s\n",
            " 49200K .......... .......... .......... .......... .......... 86% 65.9M 0s\n",
            " 49250K .......... .......... .......... .......... .......... 86% 51.7M 0s\n",
            " 49300K .......... .......... .......... .......... .......... 86% 65.8M 0s\n",
            " 49350K .......... .......... .......... .......... .......... 86% 55.5M 0s\n",
            " 49400K .......... .......... .......... .......... .......... 86% 63.6M 0s\n",
            " 49450K .......... .......... .......... .......... .......... 86% 64.0M 0s\n",
            " 49500K .......... .......... .......... .......... .......... 86% 68.5M 0s\n",
            " 49550K .......... .......... .......... .......... .......... 86% 82.4M 0s\n",
            " 49600K .......... .......... .......... .......... .......... 86%  270M 0s\n",
            " 49650K .......... .......... .......... .......... .......... 87%  238M 0s\n",
            " 49700K .......... .......... .......... .......... .......... 87%  221M 0s\n",
            " 49750K .......... .......... .......... .......... .......... 87%  231M 0s\n",
            " 49800K .......... .......... .......... .......... .......... 87%  318M 0s\n",
            " 49850K .......... .......... .......... .......... .......... 87%  313M 0s\n",
            " 49900K .......... .......... .......... .......... .......... 87% 74.9M 0s\n",
            " 49950K .......... .......... .......... .......... .......... 87% 43.7M 0s\n",
            " 50000K .......... .......... .......... .......... .......... 87% 59.9M 0s\n",
            " 50050K .......... .......... .......... .......... .......... 87%  123M 0s\n",
            " 50100K .......... .......... .......... .......... .......... 87% 73.0M 0s\n",
            " 50150K .......... .......... .......... .......... .......... 87% 75.2M 0s\n",
            " 50200K .......... .......... .......... .......... .......... 88% 74.5M 0s\n",
            " 50250K .......... .......... .......... .......... .......... 88%  327M 0s\n",
            " 50300K .......... .......... .......... .......... .......... 88%  300M 0s\n",
            " 50350K .......... .......... .......... .......... .......... 88%  229M 0s\n",
            " 50400K .......... .......... .......... .......... .......... 88%  333M 0s\n",
            " 50450K .......... .......... .......... .......... .......... 88%  331M 0s\n",
            " 50500K .......... .......... .......... .......... .......... 88%  268M 0s\n",
            " 50550K .......... .......... .......... .......... .......... 88%  299M 0s\n",
            " 50600K .......... .......... .......... .......... .......... 88%  351M 0s\n",
            " 50650K .......... .......... .......... .......... .......... 88%  269M 0s\n",
            " 50700K .......... .......... .......... .......... .......... 88% 73.7M 0s\n",
            " 50750K .......... .......... .......... .......... .......... 88% 65.1M 0s\n",
            " 50800K .......... .......... .......... .......... .......... 89% 89.0M 0s\n",
            " 50850K .......... .......... .......... .......... .......... 89% 85.4M 0s\n",
            " 50900K .......... .......... .......... .......... .......... 89% 71.7M 0s\n",
            " 50950K .......... .......... .......... .......... .......... 89% 69.5M 0s\n",
            " 51000K .......... .......... .......... .......... .......... 89% 69.9M 0s\n",
            " 51050K .......... .......... .......... .......... .......... 89% 78.3M 0s\n",
            " 51100K .......... .......... .......... .......... .......... 89%  311M 0s\n",
            " 51150K .......... .......... .......... .......... .......... 89%  286M 0s\n",
            " 51200K .......... .......... .......... .......... .......... 89%  328M 0s\n",
            " 51250K .......... .......... .......... .......... .......... 89%  331M 0s\n",
            " 51300K .......... .......... .......... .......... .......... 89%  210M 0s\n",
            " 51350K .......... .......... .......... .......... .......... 90%  286M 0s\n",
            " 51400K .......... .......... .......... .......... .......... 90%  333M 0s\n",
            " 51450K .......... .......... .......... .......... .......... 90%  210M 0s\n",
            " 51500K .......... .......... .......... .......... .......... 90%  284M 0s\n",
            " 51550K .......... .......... .......... .......... .......... 90%  203M 0s\n",
            " 51600K .......... .......... .......... .......... .......... 90%  333M 0s\n",
            " 51650K .......... .......... .......... .......... .......... 90%  257M 0s\n",
            " 51700K .......... .......... .......... .......... .......... 90%  286M 0s\n",
            " 51750K .......... .......... .......... .......... .......... 90%  283M 0s\n",
            " 51800K .......... .......... .......... .......... .......... 90%  274M 0s\n",
            " 51850K .......... .......... .......... .......... .......... 90%  253M 0s\n",
            " 51900K .......... .......... .......... .......... .......... 90%  335M 0s\n",
            " 51950K .......... .......... .......... .......... .......... 91%  275M 0s\n",
            " 52000K .......... .......... .......... .......... .......... 91%  250M 0s\n",
            " 52050K .......... .......... .......... .......... .......... 91%  281M 0s\n",
            " 52100K .......... .......... .......... .......... .......... 91%  196M 0s\n",
            " 52150K .......... .......... .......... .......... .......... 91%  248M 0s\n",
            " 52200K .......... .......... .......... .......... .......... 91%  288M 0s\n",
            " 52250K .......... .......... .......... .......... .......... 91%  283M 0s\n",
            " 52300K .......... .......... .......... .......... .......... 91%  265M 0s\n",
            " 52350K .......... .......... .......... .......... .......... 91%  199M 0s\n",
            " 52400K .......... .......... .......... .......... .......... 91%  202M 0s\n",
            " 52450K .......... .......... .......... .......... .......... 91%  197M 0s\n",
            " 52500K .......... .......... .......... .......... .......... 92%  200M 0s\n",
            " 52550K .......... .......... .......... .......... .......... 92%  170M 0s\n",
            " 52600K .......... .......... .......... .......... .......... 92%  204M 0s\n",
            " 52650K .......... .......... .......... .......... .......... 92%  214M 0s\n",
            " 52700K .......... .......... .......... .......... .......... 92%  212M 0s\n",
            " 52750K .......... .......... .......... .......... .......... 92%  164M 0s\n",
            " 52800K .......... .......... .......... .......... .......... 92%  208M 0s\n",
            " 52850K .......... .......... .......... .......... .......... 92%  170M 0s\n",
            " 52900K .......... .......... .......... .......... .......... 92%  246M 0s\n",
            " 52950K .......... .......... .......... .......... .......... 92%  161M 0s\n",
            " 53000K .......... .......... .......... .......... .......... 92%  265M 0s\n",
            " 53050K .......... .......... .......... .......... .......... 92%  346M 0s\n",
            " 53100K .......... .......... .......... .......... .......... 93%  290M 0s\n",
            " 53150K .......... .......... .......... .......... .......... 93%  295M 0s\n",
            " 53200K .......... .......... .......... .......... .......... 93%  257M 0s\n",
            " 53250K .......... .......... .......... .......... .......... 93%  300M 0s\n",
            " 53300K .......... .......... .......... .......... .......... 93%  352M 0s\n",
            " 53350K .......... .......... .......... .......... .......... 93%  263M 0s\n",
            " 53400K .......... .......... .......... .......... .......... 93%  272M 0s\n",
            " 53450K .......... .......... .......... .......... .......... 93%  343M 0s\n",
            " 53500K .......... .......... .......... .......... .......... 93%  350M 0s\n",
            " 53550K .......... .......... .......... .......... .......... 93% 99.8M 0s\n",
            " 53600K .......... .......... .......... .......... .......... 93%  225M 0s\n",
            " 53650K .......... .......... .......... .......... .......... 94%  250M 0s\n",
            " 53700K .......... .......... .......... .......... .......... 94%  231M 0s\n",
            " 53750K .......... .......... .......... .......... .......... 94%  248M 0s\n",
            " 53800K .......... .......... .......... .......... .......... 94%  193M 0s\n",
            " 53850K .......... .......... .......... .......... .......... 94%  266M 0s\n",
            " 53900K .......... .......... .......... .......... .......... 94%  285M 0s\n",
            " 53950K .......... .......... .......... .......... .......... 94%  200M 0s\n",
            " 54000K .......... .......... .......... .......... .......... 94%  246M 0s\n",
            " 54050K .......... .......... .......... .......... .......... 94%  324M 0s\n",
            " 54100K .......... .......... .......... .......... .......... 94%  216M 0s\n",
            " 54150K .......... .......... .......... .......... .......... 94%  270M 0s\n",
            " 54200K .......... .......... .......... .......... .......... 95%  249M 0s\n",
            " 54250K .......... .......... .......... .......... .......... 95%  293M 0s\n",
            " 54300K .......... .......... .......... .......... .......... 95%  330M 0s\n",
            " 54350K .......... .......... .......... .......... .......... 95%  281M 0s\n",
            " 54400K .......... .......... .......... .......... .......... 95%  307M 0s\n",
            " 54450K .......... .......... .......... .......... .......... 95%  302M 0s\n",
            " 54500K .......... .......... .......... .......... .......... 95%  246M 0s\n",
            " 54550K .......... .......... .......... .......... .......... 95%  266M 0s\n",
            " 54600K .......... .......... .......... .......... .......... 95%  326M 0s\n",
            " 54650K .......... .......... .......... .......... .......... 95%  341M 0s\n",
            " 54700K .......... .......... .......... .......... .......... 95%  288M 0s\n",
            " 54750K .......... .......... .......... .......... .......... 95%  270M 0s\n",
            " 54800K .......... .......... .......... .......... .......... 96%  272M 0s\n",
            " 54850K .......... .......... .......... .......... .......... 96%  334M 0s\n",
            " 54900K .......... .......... .......... .......... .......... 96%  335M 0s\n",
            " 54950K .......... .......... .......... .......... .......... 96%  273M 0s\n",
            " 55000K .......... .......... .......... .......... .......... 96%  306M 0s\n",
            " 55050K .......... .......... .......... .......... .......... 96%  344M 0s\n",
            " 55100K .......... .......... .......... .......... .......... 96%  286M 0s\n",
            " 55150K .......... .......... .......... .......... .......... 96%  181M 0s\n",
            " 55200K .......... .......... .......... .......... .......... 96%  306M 0s\n",
            " 55250K .......... .......... .......... .......... .......... 96%  314M 0s\n",
            " 55300K .......... .......... .......... .......... .......... 96%  325M 0s\n",
            " 55350K .......... .......... .......... .......... .......... 97%  114M 0s\n",
            " 55400K .......... .......... .......... .......... .......... 97%  291M 0s\n",
            " 55450K .......... .......... .......... .......... .......... 97%  139M 0s\n",
            " 55500K .......... .......... .......... .......... .......... 97%  313M 0s\n",
            " 55550K .......... .......... .......... .......... .......... 97%  138M 0s\n",
            " 55600K .......... .......... .......... .......... .......... 97%  298M 0s\n",
            " 55650K .......... .......... .......... .......... .......... 97%  336M 0s\n",
            " 55700K .......... .......... .......... .......... .......... 97%  322M 0s\n",
            " 55750K .......... .......... .......... .......... .......... 97%  308M 0s\n",
            " 55800K .......... .......... .......... .......... .......... 97%  340M 0s\n",
            " 55850K .......... .......... .......... .......... .......... 97% 61.1M 0s\n",
            " 55900K .......... .......... .......... .......... .......... 97%  118M 0s\n",
            " 55950K .......... .......... .......... .......... .......... 98%  254M 0s\n",
            " 56000K .......... .......... .......... .......... .......... 98%  294M 0s\n",
            " 56050K .......... .......... .......... .......... .......... 98%  304M 0s\n",
            " 56100K .......... .......... .......... .......... .......... 98%  228M 0s\n",
            " 56150K .......... .......... .......... .......... .......... 98%  215M 0s\n",
            " 56200K .......... .......... .......... .......... .......... 98%  315M 0s\n",
            " 56250K .......... .......... .......... .......... .......... 98%  329M 0s\n",
            " 56300K .......... .......... .......... .......... .......... 98%  320M 0s\n",
            " 56350K .......... .......... .......... .......... .......... 98%  268M 0s\n",
            " 56400K .......... .......... .......... .......... .......... 98%  330M 0s\n",
            " 56450K .......... .......... .......... .......... .......... 98%  265M 0s\n",
            " 56500K .......... .......... .......... .......... .......... 99%  310M 0s\n",
            " 56550K .......... .......... .......... .......... .......... 99%  290M 0s\n",
            " 56600K .......... .......... .......... .......... .......... 99%  316M 0s\n",
            " 56650K .......... .......... .......... .......... .......... 99%  319M 0s\n",
            " 56700K .......... .......... .......... .......... .......... 99% 8.33M 0s\n",
            " 56750K .......... .......... .......... .......... .......... 99% 52.0M 0s\n",
            " 56800K .......... .......... .......... .......... .......... 99% 65.8M 0s\n",
            " 56850K .......... .......... .......... .......... .......... 99% 65.7M 0s\n",
            " 56900K .......... .......... .......... .......... .......... 99% 68.4M 0s\n",
            " 56950K .......... .......... .......... .......... .......... 99% 5.32M 0s\n",
            " 57000K .......... .......... .......... .......... .......... 99% 66.7M 0s\n",
            " 57050K .......... .......... .......... .......... ........  100% 79.7M=0.5s\n",
            "\n",
            "2022-01-07 14:12:19 (121 MB/s) - ‘Miniconda3-4.5.4-Linux-x86_64.sh.5’ saved [58468498/58468498]\n",
            "\n",
            "Python 3.6.5 :: Anaconda, Inc.\n"
          ]
        }
      ]
    },
    {
      "cell_type": "code",
      "source": [
        "!which conda # should return /usr/local/bin/conda\n"
      ],
      "metadata": {
        "colab": {
          "base_uri": "https://localhost:8080/"
        },
        "id": "qxrcIjOaUXC9",
        "outputId": "87a70eeb-c6ef-4982-e2b4-8451374cf21f"
      },
      "execution_count": 234,
      "outputs": [
        {
          "output_type": "stream",
          "name": "stdout",
          "text": [
            "/usr/local/bin/conda\n"
          ]
        }
      ]
    },
    {
      "cell_type": "code",
      "source": [
        "!conda --version # should return 4.5.4\n"
      ],
      "metadata": {
        "colab": {
          "base_uri": "https://localhost:8080/"
        },
        "id": "SiJyulqhUclO",
        "outputId": "747edd31-72eb-404c-affb-17309a5b81b8"
      },
      "execution_count": 235,
      "outputs": [
        {
          "output_type": "stream",
          "name": "stdout",
          "text": [
            "conda 4.5.4\n"
          ]
        }
      ]
    },
    {
      "cell_type": "code",
      "source": [
        "!which python # still returns /usr/local/bin/python\n"
      ],
      "metadata": {
        "colab": {
          "base_uri": "https://localhost:8080/"
        },
        "id": "zGfKShNWUgj8",
        "outputId": "85aebfd1-10ba-4dd1-80fb-70ffa8c5bd44"
      },
      "execution_count": 236,
      "outputs": [
        {
          "output_type": "stream",
          "name": "stdout",
          "text": [
            "/usr/local/bin/python\n"
          ]
        }
      ]
    },
    {
      "cell_type": "code",
      "source": [
        "!python --version # now returns Python 3.6.5 :: Anaconda, Inc.\n"
      ],
      "metadata": {
        "colab": {
          "base_uri": "https://localhost:8080/"
        },
        "id": "2evMmVX4Uj1-",
        "outputId": "e4558183-dd58-4c9c-d4a0-ad262cb7b79c"
      },
      "execution_count": 237,
      "outputs": [
        {
          "output_type": "stream",
          "name": "stdout",
          "text": [
            "Python 3.6.5 :: Anaconda, Inc.\n"
          ]
        }
      ]
    },
    {
      "cell_type": "code",
      "source": [
        "%%bash\n",
        "conda install --channel defaults conda python=3.6 --yes\n",
        "conda update --channel defaults --all --yes"
      ],
      "metadata": {
        "colab": {
          "base_uri": "https://localhost:8080/"
        },
        "id": "suMv7w0UUovr",
        "outputId": "e2307ab5-ee75-4178-be20-f06b643b93bd"
      },
      "execution_count": 238,
      "outputs": [
        {
          "output_type": "stream",
          "name": "stdout",
          "text": [
            "Solving environment: ...working... done\n",
            "\n",
            "## Package Plan ##\n",
            "\n",
            "  environment location: /usr/local\n",
            "\n",
            "  added / updated specs: \n",
            "    - conda\n",
            "    - python=3.6\n",
            "\n",
            "\n",
            "The following packages will be UPDATED:\n",
            "\n",
            "    ca-certificates: 2018.03.07-0          --> 2021.10.26-h06a4308_2   \n",
            "    certifi:         2018.4.16-py36_0      --> 2021.5.30-py36h06a4308_0\n",
            "    cffi:            1.11.5-py36h9745a5d_0 --> 1.14.6-py36h400218f_0   \n",
            "    conda:           4.5.4-py36_0          --> 4.10.3-py36h06a4308_0   \n",
            "    cryptography:    2.2.2-py36h14c3975_0  --> 35.0.0-py36hd23ed53_0   \n",
            "    libffi:          3.2.1-hd88cf55_4      --> 3.3-he6710b0_2          \n",
            "    libgcc-ng:       7.2.0-hdf63c60_3      --> 9.1.0-hdf63c60_0        \n",
            "    libstdcxx-ng:    7.2.0-hdf63c60_3      --> 9.1.0-hdf63c60_0        \n",
            "    ncurses:         6.1-hf484d3e_0        --> 6.3-h7f8727e_2          \n",
            "    openssl:         1.0.2o-h20670df_0     --> 1.1.1l-h7f8727e_0       \n",
            "    python:          3.6.5-hc3d631a_2      --> 3.6.13-h12debd9_1       \n",
            "    readline:        7.0-ha6073c6_4        --> 8.1-h27cfd23_0          \n",
            "    sqlite:          3.23.1-he433501_0     --> 3.37.0-hc218d9a_0       \n",
            "    tk:              8.6.7-hc745277_3      --> 8.6.11-h1ccaba5_0       \n",
            "    xz:              5.2.4-h14c3975_4      --> 5.2.5-h7b6447c_0        \n",
            "\n",
            "Preparing transaction: ...working... done\n",
            "Verifying transaction: ...working... done\n",
            "Executing transaction: ...working... done\n",
            "Collecting package metadata (current_repodata.json): ...working... done\n",
            "Solving environment: ...working... done\n",
            "\n",
            "## Package Plan ##\n",
            "\n",
            "  environment location: /usr/local\n",
            "\n",
            "\n",
            "The following packages will be UPDATED:\n",
            "\n",
            "  idna               pkgs/main/linux-64::idna-2.6-py36h82f~ --> pkgs/main/noarch::idna-3.3-pyhd3eb1b0_0\n",
            "  libgcc-ng                                9.1.0-hdf63c60_0 --> 9.3.0-h5101ec6_17\n",
            "  libstdcxx-ng                             9.1.0-hdf63c60_0 --> 9.3.0-hd4cf53a_17\n",
            "  pip                                         10.0.1-py36_0 --> 21.2.2-py36h06a4308_0\n",
            "  pycparser          pkgs/main/linux-64::pycparser-2.18-py~ --> pkgs/main/noarch::pycparser-2.21-pyhd3eb1b0_0\n",
            "  pyopenssl          pkgs/main/linux-64::pyopenssl-18.0.0-~ --> pkgs/main/noarch::pyopenssl-21.0.0-pyhd3eb1b0_1\n",
            "  pysocks                                      1.6.8-py36_0 --> 1.7.1-py36h06a4308_0\n",
            "  requests           pkgs/main/linux-64::requests-2.18.4-p~ --> pkgs/main/noarch::requests-2.26.0-pyhd3eb1b0_0\n",
            "  ruamel_yaml                        0.15.37-py36h14c3975_2 --> 0.15.100-py36h27cfd23_0\n",
            "  setuptools                                  39.2.0-py36_0 --> 58.0.4-py36h06a4308_0\n",
            "  six                pkgs/main/linux-64::six-1.11.0-py36h3~ --> pkgs/main/noarch::six-1.16.0-pyhd3eb1b0_0\n",
            "  urllib3            pkgs/main/linux-64::urllib3-1.22-py36~ --> pkgs/main/noarch::urllib3-1.26.7-pyhd3eb1b0_0\n",
            "  wheel              pkgs/main/linux-64::wheel-0.31.1-py36~ --> pkgs/main/noarch::wheel-0.37.0-pyhd3eb1b0_1\n",
            "  yaml                                     0.1.7-had09818_2 --> 0.2.5-h7b6447c_0\n",
            "  zlib                                    1.2.11-ha838bed_2 --> 1.2.11-h7f8727e_4\n",
            "\n",
            "The following packages will be DOWNGRADED:\n",
            "\n",
            "  pycosat                              0.6.3-py36h0a5515d_0 --> 0.6.3-py36h27cfd23_0\n",
            "\n",
            "\n",
            "Preparing transaction: ...working... done\n",
            "Verifying transaction: ...working... done\n",
            "Executing transaction: ...working... done\n"
          ]
        },
        {
          "output_type": "stream",
          "name": "stderr",
          "text": [
            "/usr/local/lib/python3.6/site-packages/cryptography/hazmat/backends/openssl/x509.py:18: CryptographyDeprecationWarning: This version of cryptography contains a temporary pyOpenSSL fallback path. Upgrade pyOpenSSL now.\n",
            "  utils.DeprecatedIn35,\n",
            "\n",
            "The environment is inconsistent, please check the package plan carefully\n",
            "The following packages are causing the inconsistency:\n",
            "\n",
            "  - conda-forge/linux-64::numpy==1.19.5=py36hfc0c790_2\n",
            "  - conda-forge/linux-64::scikit-learn==0.24.2=py36h2fdd933_1\n",
            "  - conda-forge/linux-64::scipy==1.5.3=py36h9e8f40b_0\n",
            "  - conda-forge/linux-64::libopenblas==0.3.17=pthreads_h8fe5266_1\n",
            "  - conda-forge/linux-64::xgboost==1.4.0=py36h5fab9bb_0\n",
            "  - conda-forge/linux-64::libblas==3.9.0=11_linux64_openblas\n",
            "  - conda-forge/linux-64::libxgboost==1.4.0=h9c3ff4c_0\n",
            "  - conda-forge/linux-64::libcblas==3.9.0=11_linux64_openblas\n",
            "  - conda-forge/linux-64::liblapack==3.9.0=11_linux64_openblas\n",
            "  - conda-forge/linux-64::py-xgboost==1.4.0=py36h5fab9bb_0\n",
            "\n",
            "\n",
            "==> WARNING: A newer version of conda exists. <==\n",
            "  current version: 4.10.3\n",
            "  latest version: 4.11.0\n",
            "\n",
            "Please update conda by running\n",
            "\n",
            "    $ conda update -n base -c defaults conda\n",
            "\n",
            "\n"
          ]
        }
      ]
    },
    {
      "cell_type": "code",
      "source": [
        "!conda --version # now returns 4.8.3\n"
      ],
      "metadata": {
        "colab": {
          "base_uri": "https://localhost:8080/"
        },
        "id": "vQV7OMvgU95R",
        "outputId": "dd26c1f8-8ffd-40b0-d64e-482135a35e49"
      },
      "execution_count": 239,
      "outputs": [
        {
          "output_type": "stream",
          "name": "stdout",
          "text": [
            "conda 4.10.3\n"
          ]
        }
      ]
    },
    {
      "cell_type": "code",
      "source": [
        "!python --version # now returns Python 3.6.10 :: Anaconda, Inc.\n"
      ],
      "metadata": {
        "colab": {
          "base_uri": "https://localhost:8080/"
        },
        "id": "xJgkuv-OVFYb",
        "outputId": "1b5aee7b-c92f-44b7-b02f-ba2505c63e18"
      },
      "execution_count": 240,
      "outputs": [
        {
          "output_type": "stream",
          "name": "stdout",
          "text": [
            "Python 3.6.13 :: Anaconda, Inc.\n"
          ]
        }
      ]
    },
    {
      "cell_type": "code",
      "source": [
        "import sys\n",
        "sys.path"
      ],
      "metadata": {
        "colab": {
          "base_uri": "https://localhost:8080/"
        },
        "id": "PfJ_wNPtVKmA",
        "outputId": "c0e2d625-9ae6-49be-fcca-f841f77842f1"
      },
      "execution_count": 241,
      "outputs": [
        {
          "output_type": "execute_result",
          "data": {
            "text/plain": [
              "['',\n",
              " '/content',\n",
              " '/env/python',\n",
              " '/usr/lib/python37.zip',\n",
              " '/usr/lib/python3.7',\n",
              " '/usr/lib/python3.7/lib-dynload',\n",
              " '/usr/local/lib/python3.7/dist-packages',\n",
              " '/usr/lib/python3/dist-packages',\n",
              " '/usr/local/lib/python3.7/dist-packages/IPython/extensions',\n",
              " '/root/.ipython',\n",
              " '/usr/local/lib/python3.6/site-packages',\n",
              " '/usr/local/lib/python3.6/site-packages',\n",
              " '/usr/local/lib/python3.6/site-packages',\n",
              " '/usr/local/lib/python3.6/site-packages',\n",
              " '/usr/local/lib/python3.6/site-packages']"
            ]
          },
          "metadata": {},
          "execution_count": 241
        }
      ]
    },
    {
      "cell_type": "code",
      "source": [
        "['',  \n",
        " '/env/python',\n",
        " '/usr/lib/python36.zip',\n",
        " '/usr/lib/python3.6',\n",
        " '/usr/lib/python3.6/lib-dynload',\n",
        " '/usr/local/lib/python3.6/dist-packages', # pre-installed packages\n",
        " '/usr/lib/python3/dist-packages',\n",
        " '/usr/local/lib/python3.6/dist-packages/IPython/extensions',\n",
        " '/root/.ipython']"
      ],
      "metadata": {
        "colab": {
          "base_uri": "https://localhost:8080/"
        },
        "id": "m4caCxK4VOVG",
        "outputId": "c9b9a654-5381-4547-8016-42d2c7d4ef09"
      },
      "execution_count": 242,
      "outputs": [
        {
          "output_type": "execute_result",
          "data": {
            "text/plain": [
              "['',\n",
              " '/env/python',\n",
              " '/usr/lib/python36.zip',\n",
              " '/usr/lib/python3.6',\n",
              " '/usr/lib/python3.6/lib-dynload',\n",
              " '/usr/local/lib/python3.6/dist-packages',\n",
              " '/usr/lib/python3/dist-packages',\n",
              " '/usr/local/lib/python3.6/dist-packages/IPython/extensions',\n",
              " '/root/.ipython']"
            ]
          },
          "metadata": {},
          "execution_count": 242
        }
      ]
    },
    {
      "cell_type": "code",
      "source": [
        "!ls /usr/local/lib/python3.6/dist-packages"
      ],
      "metadata": {
        "id": "c3Gsch0iVSNU"
      },
      "execution_count": 243,
      "outputs": []
    },
    {
      "cell_type": "code",
      "source": [
        "import sys\n",
        "_ = (sys.path\n",
        "        .append(\"/usr/local/lib/python3.6/site-packages\"))"
      ],
      "metadata": {
        "id": "tdXf3Lb-VV3u"
      },
      "execution_count": 244,
      "outputs": []
    },
    {
      "cell_type": "code",
      "source": [
        "#!conda install --channel conda-forge featuretools --yes\n"
      ],
      "metadata": {
        "id": "8Z0dmkCRVku7"
      },
      "execution_count": 245,
      "outputs": []
    },
    {
      "cell_type": "code",
      "source": [
        "!conda install -c conda-forge xgboost --yes"
      ],
      "metadata": {
        "colab": {
          "base_uri": "https://localhost:8080/"
        },
        "id": "uTu7F_Y7Qp1H",
        "outputId": "e26e1ff7-5520-49db-9eb2-f2e534138944"
      },
      "execution_count": 246,
      "outputs": [
        {
          "output_type": "stream",
          "name": "stdout",
          "text": [
            "Collecting package metadata (current_repodata.json): - \b\b\\ \b\b| \b\b/ \b\b- \b\b\\ \b\b| \b\b/ \b\b- \b\b\\ \b\b| \b\b/ \b\b- \b\b\\ \b\b| \b\b/ \b\b- \b\b\\ \b\b| \b\b/ \b\b- \b\b\\ \b\b| \b\bdone\n",
            "Solving environment: - \b\b\\ \b\b| \b\b/ \b\b- \b\b\\ \b\b| \b\b/ \b\b- \b\b\\ \b\b| \b\b/ \b\b- \b\b\\ \b\b| \b\b/ \b\b- \b\b\\ \b\b| \b\b/ \b\bdone\n",
            "\n",
            "\n",
            "==> WARNING: A newer version of conda exists. <==\n",
            "  current version: 4.10.3\n",
            "  latest version: 4.11.0\n",
            "\n",
            "Please update conda by running\n",
            "\n",
            "    $ conda update -n base -c defaults conda\n",
            "\n",
            "\n",
            "\n",
            "## Package Plan ##\n",
            "\n",
            "  environment location: /usr/local\n",
            "\n",
            "  added / updated specs:\n",
            "    - xgboost\n",
            "\n",
            "\n",
            "The following packages will be SUPERSEDED by a higher-priority channel:\n",
            "\n",
            "  ca-certificates    pkgs/main::ca-certificates-2021.10.26~ --> conda-forge::ca-certificates-2021.10.8-ha878542_0\n",
            "\n",
            "\n",
            "Preparing transaction: \\ \b\bdone\n",
            "Verifying transaction: / \b\bdone\n",
            "Executing transaction: \\ \b\bdone\n"
          ]
        }
      ]
    },
    {
      "cell_type": "code",
      "source": [
        "from autoviz.AutoViz_Class import AutoViz_Class\n"
      ],
      "metadata": {
        "id": "ppbLt9raRAIr"
      },
      "execution_count": 247,
      "outputs": []
    },
    {
      "cell_type": "code",
      "source": [
        "AV = AutoViz_Class()"
      ],
      "metadata": {
        "id": "1r8A5XpdSUTg"
      },
      "execution_count": 248,
      "outputs": []
    },
    {
      "cell_type": "code",
      "source": [
        "pip install https://github.com/pandas-profiling/pandas-profiling/archive/master.zip\n"
      ],
      "metadata": {
        "colab": {
          "base_uri": "https://localhost:8080/"
        },
        "id": "FZzZV--91jX_",
        "outputId": "bb7d83b1-f932-4636-f731-7abfbae990e9"
      },
      "execution_count": 249,
      "outputs": [
        {
          "output_type": "stream",
          "name": "stdout",
          "text": [
            "Collecting https://github.com/pandas-profiling/pandas-profiling/archive/master.zip\n",
            "  Using cached https://github.com/pandas-profiling/pandas-profiling/archive/master.zip\n",
            "Requirement already satisfied: joblib~=1.1.0 in /usr/local/lib/python3.6/site-packages (from pandas-profiling==3.1.1) (1.1.0)\n",
            "Requirement already satisfied: scipy>=1.4.1 in /usr/local/lib/python3.6/site-packages (from pandas-profiling==3.1.1) (1.5.3)\n",
            "Requirement already satisfied: pandas!=1.0.0,!=1.0.1,!=1.0.2,!=1.1.0,>=0.25.3 in /usr/local/lib/python3.6/site-packages (from pandas-profiling==3.1.1) (1.1.5)\n",
            "Requirement already satisfied: matplotlib>=3.2.0 in /usr/local/lib/python3.6/site-packages (from pandas-profiling==3.1.1) (3.3.4)\n",
            "Requirement already satisfied: pydantic>=1.8.1 in /usr/local/lib/python3.6/site-packages (from pandas-profiling==3.1.1) (1.9.0)\n",
            "Requirement already satisfied: PyYAML>=5.0.0 in /usr/local/lib/python3.6/site-packages (from pandas-profiling==3.1.1) (6.0)\n",
            "Requirement already satisfied: jinja2>=2.11.1 in /usr/local/lib/python3.6/site-packages (from pandas-profiling==3.1.1) (3.0.3)\n",
            "Requirement already satisfied: markupsafe~=2.0.1 in /usr/local/lib/python3.6/site-packages (from pandas-profiling==3.1.1) (2.0.1)\n",
            "Requirement already satisfied: visions[type_image_path]==0.7.4 in /usr/local/lib/python3.6/site-packages (from pandas-profiling==3.1.1) (0.7.4)\n",
            "Requirement already satisfied: numpy>=1.16.0 in /usr/local/lib/python3.6/site-packages (from pandas-profiling==3.1.1) (1.19.5)\n",
            "Requirement already satisfied: htmlmin>=0.1.12 in /usr/local/lib/python3.6/site-packages (from pandas-profiling==3.1.1) (0.1.12)\n",
            "Requirement already satisfied: missingno>=0.4.2 in /usr/local/lib/python3.6/site-packages (from pandas-profiling==3.1.1) (0.5.0)\n",
            "Requirement already satisfied: phik>=0.11.1 in /usr/local/lib/python3.6/site-packages (from pandas-profiling==3.1.1) (0.12.0)\n",
            "Requirement already satisfied: tangled-up-in-unicode==0.2.0 in /usr/local/lib/python3.6/site-packages (from pandas-profiling==3.1.1) (0.2.0)\n",
            "Requirement already satisfied: requests>=2.24.0 in /usr/local/lib/python3.6/site-packages (from pandas-profiling==3.1.1) (2.26.0)\n",
            "Requirement already satisfied: tqdm>=4.48.2 in /usr/local/lib/python3.6/site-packages (from pandas-profiling==3.1.1) (4.62.3)\n",
            "Requirement already satisfied: seaborn>=0.10.1 in /usr/local/lib/python3.6/site-packages (from pandas-profiling==3.1.1) (0.11.2)\n",
            "Requirement already satisfied: multimethod>=1.4 in /usr/local/lib/python3.6/site-packages (from pandas-profiling==3.1.1) (1.5)\n",
            "Requirement already satisfied: networkx>=2.4 in /usr/local/lib/python3.6/site-packages (from visions[type_image_path]==0.7.4->pandas-profiling==3.1.1) (2.5.1)\n",
            "Requirement already satisfied: attrs>=19.3.0 in /usr/local/lib/python3.6/site-packages (from visions[type_image_path]==0.7.4->pandas-profiling==3.1.1) (21.4.0)\n",
            "Requirement already satisfied: Pillow in /usr/local/lib/python3.6/site-packages (from visions[type_image_path]==0.7.4->pandas-profiling==3.1.1) (8.4.0)\n",
            "Requirement already satisfied: imagehash in /usr/local/lib/python3.6/site-packages (from visions[type_image_path]==0.7.4->pandas-profiling==3.1.1) (4.2.1)\n",
            "Requirement already satisfied: python-dateutil>=2.1 in /usr/local/lib/python3.6/site-packages (from matplotlib>=3.2.0->pandas-profiling==3.1.1) (2.8.2)\n",
            "Requirement already satisfied: kiwisolver>=1.0.1 in /usr/local/lib/python3.6/site-packages (from matplotlib>=3.2.0->pandas-profiling==3.1.1) (1.3.1)\n",
            "Requirement already satisfied: cycler>=0.10 in /usr/local/lib/python3.6/site-packages (from matplotlib>=3.2.0->pandas-profiling==3.1.1) (0.11.0)\n",
            "Requirement already satisfied: pyparsing!=2.0.4,!=2.1.2,!=2.1.6,>=2.0.3 in /usr/local/lib/python3.6/site-packages (from matplotlib>=3.2.0->pandas-profiling==3.1.1) (3.0.6)\n",
            "Requirement already satisfied: decorator<5,>=4.3 in /usr/local/lib/python3.6/site-packages (from networkx>=2.4->visions[type_image_path]==0.7.4->pandas-profiling==3.1.1) (4.4.2)\n",
            "Requirement already satisfied: pytz>=2017.2 in /usr/local/lib/python3.6/site-packages (from pandas!=1.0.0,!=1.0.1,!=1.0.2,!=1.1.0,>=0.25.3->pandas-profiling==3.1.1) (2021.3)\n",
            "Requirement already satisfied: typing-extensions>=3.7.4.3 in /usr/local/lib/python3.6/site-packages (from pydantic>=1.8.1->pandas-profiling==3.1.1) (4.0.1)\n",
            "Requirement already satisfied: dataclasses>=0.6 in /usr/local/lib/python3.6/site-packages (from pydantic>=1.8.1->pandas-profiling==3.1.1) (0.8)\n",
            "Requirement already satisfied: six>=1.5 in /usr/local/lib/python3.6/site-packages (from python-dateutil>=2.1->matplotlib>=3.2.0->pandas-profiling==3.1.1) (1.16.0)\n",
            "Requirement already satisfied: certifi>=2017.4.17 in /usr/local/lib/python3.6/site-packages (from requests>=2.24.0->pandas-profiling==3.1.1) (2021.5.30)\n",
            "Requirement already satisfied: charset-normalizer~=2.0.0 in /usr/local/lib/python3.6/site-packages (from requests>=2.24.0->pandas-profiling==3.1.1) (2.0.4)\n",
            "Requirement already satisfied: urllib3<1.27,>=1.21.1 in /usr/local/lib/python3.6/site-packages (from requests>=2.24.0->pandas-profiling==3.1.1) (1.26.7)\n",
            "Requirement already satisfied: idna<4,>=2.5 in /usr/local/lib/python3.6/site-packages (from requests>=2.24.0->pandas-profiling==3.1.1) (3.3)\n",
            "Requirement already satisfied: PyWavelets in /usr/local/lib/python3.6/site-packages (from imagehash->visions[type_image_path]==0.7.4->pandas-profiling==3.1.1) (1.1.1)\n",
            "\u001b[33mWARNING: Running pip as the 'root' user can result in broken permissions and conflicting behaviour with the system package manager. It is recommended to use a virtual environment instead: https://pip.pypa.io/warnings/venv\u001b[0m\n"
          ]
        }
      ]
    },
    {
      "cell_type": "code",
      "source": [
        "filename = \"\"\n",
        "sep = \",\"\n",
        "dft = AV.AutoViz(\n",
        "    \"\",\n",
        "    sep,\n",
        "    \"target\",\n",
        "    full_df,\n",
        "    header=0,\n",
        "    verbose=0,\n",
        "    lowess=False,\n",
        "    chart_format=\"svg\",\n",
        "    max_rows_analyzed=150000,\n",
        "    max_cols_analyzed=30,\n",
        ")"
      ],
      "metadata": {
        "colab": {
          "base_uri": "https://localhost:8080/",
          "height": 1000
        },
        "id": "CCRYkCSMSdxf",
        "outputId": "9757388b-e116-45e5-91b0-ce6a4bfb5003"
      },
      "execution_count": 250,
      "outputs": [
        {
          "output_type": "stream",
          "name": "stdout",
          "text": [
            "Shape of your Data Set loaded: (323, 14)\n",
            "############## C L A S S I F Y I N G  V A R I A B L E S  ####################\n",
            "Classifying variables in data set...\n",
            "    13 Predictors classified...\n",
            "        No variables removed since no ID or low-information variables found in data set\n",
            "\n",
            "################ Regression VISUALIZATION Started #####################\n"
          ]
        },
        {
          "output_type": "error",
          "ename": "ImportError",
          "evalue": "ignored",
          "traceback": [
            "\u001b[0;31m---------------------------------------------------------------------------\u001b[0m",
            "\u001b[0;31mImportError\u001b[0m                               Traceback (most recent call last)",
            "\u001b[0;32m/usr/local/lib/python3.7/dist-packages/IPython/core/formatters.py\u001b[0m in \u001b[0;36m__call__\u001b[0;34m(self, obj)\u001b[0m\n\u001b[1;32m    332\u001b[0m                 \u001b[0;32mpass\u001b[0m\u001b[0;34m\u001b[0m\u001b[0;34m\u001b[0m\u001b[0m\n\u001b[1;32m    333\u001b[0m             \u001b[0;32melse\u001b[0m\u001b[0;34m:\u001b[0m\u001b[0;34m\u001b[0m\u001b[0;34m\u001b[0m\u001b[0m\n\u001b[0;32m--> 334\u001b[0;31m                 \u001b[0;32mreturn\u001b[0m \u001b[0mprinter\u001b[0m\u001b[0;34m(\u001b[0m\u001b[0mobj\u001b[0m\u001b[0;34m)\u001b[0m\u001b[0;34m\u001b[0m\u001b[0;34m\u001b[0m\u001b[0m\n\u001b[0m\u001b[1;32m    335\u001b[0m             \u001b[0;31m# Finally look for special method names\u001b[0m\u001b[0;34m\u001b[0m\u001b[0;34m\u001b[0m\u001b[0;34m\u001b[0m\u001b[0m\n\u001b[1;32m    336\u001b[0m             \u001b[0mmethod\u001b[0m \u001b[0;34m=\u001b[0m \u001b[0mget_real_method\u001b[0m\u001b[0;34m(\u001b[0m\u001b[0mobj\u001b[0m\u001b[0;34m,\u001b[0m \u001b[0mself\u001b[0m\u001b[0;34m.\u001b[0m\u001b[0mprint_method\u001b[0m\u001b[0;34m)\u001b[0m\u001b[0;34m\u001b[0m\u001b[0;34m\u001b[0m\u001b[0m\n",
            "\u001b[0;32m/usr/local/lib/python3.7/dist-packages/IPython/core/pylabtools.py\u001b[0m in \u001b[0;36m<lambda>\u001b[0;34m(fig)\u001b[0m\n\u001b[1;32m    239\u001b[0m \u001b[0;34m\u001b[0m\u001b[0m\n\u001b[1;32m    240\u001b[0m     \u001b[0;32mif\u001b[0m \u001b[0;34m'png'\u001b[0m \u001b[0;32min\u001b[0m \u001b[0mformats\u001b[0m\u001b[0;34m:\u001b[0m\u001b[0;34m\u001b[0m\u001b[0;34m\u001b[0m\u001b[0m\n\u001b[0;32m--> 241\u001b[0;31m         \u001b[0mpng_formatter\u001b[0m\u001b[0;34m.\u001b[0m\u001b[0mfor_type\u001b[0m\u001b[0;34m(\u001b[0m\u001b[0mFigure\u001b[0m\u001b[0;34m,\u001b[0m \u001b[0;32mlambda\u001b[0m \u001b[0mfig\u001b[0m\u001b[0;34m:\u001b[0m \u001b[0mprint_figure\u001b[0m\u001b[0;34m(\u001b[0m\u001b[0mfig\u001b[0m\u001b[0;34m,\u001b[0m \u001b[0;34m'png'\u001b[0m\u001b[0;34m,\u001b[0m \u001b[0;34m**\u001b[0m\u001b[0mkwargs\u001b[0m\u001b[0;34m)\u001b[0m\u001b[0;34m)\u001b[0m\u001b[0;34m\u001b[0m\u001b[0;34m\u001b[0m\u001b[0m\n\u001b[0m\u001b[1;32m    242\u001b[0m     \u001b[0;32mif\u001b[0m \u001b[0;34m'retina'\u001b[0m \u001b[0;32min\u001b[0m \u001b[0mformats\u001b[0m \u001b[0;32mor\u001b[0m \u001b[0;34m'png2x'\u001b[0m \u001b[0;32min\u001b[0m \u001b[0mformats\u001b[0m\u001b[0;34m:\u001b[0m\u001b[0;34m\u001b[0m\u001b[0;34m\u001b[0m\u001b[0m\n\u001b[1;32m    243\u001b[0m         \u001b[0mpng_formatter\u001b[0m\u001b[0;34m.\u001b[0m\u001b[0mfor_type\u001b[0m\u001b[0;34m(\u001b[0m\u001b[0mFigure\u001b[0m\u001b[0;34m,\u001b[0m \u001b[0;32mlambda\u001b[0m \u001b[0mfig\u001b[0m\u001b[0;34m:\u001b[0m \u001b[0mretina_figure\u001b[0m\u001b[0;34m(\u001b[0m\u001b[0mfig\u001b[0m\u001b[0;34m,\u001b[0m \u001b[0;34m**\u001b[0m\u001b[0mkwargs\u001b[0m\u001b[0;34m)\u001b[0m\u001b[0;34m)\u001b[0m\u001b[0;34m\u001b[0m\u001b[0;34m\u001b[0m\u001b[0m\n",
            "\u001b[0;32m/usr/local/lib/python3.7/dist-packages/IPython/core/pylabtools.py\u001b[0m in \u001b[0;36mprint_figure\u001b[0;34m(fig, fmt, bbox_inches, **kwargs)\u001b[0m\n\u001b[1;32m    123\u001b[0m \u001b[0;34m\u001b[0m\u001b[0m\n\u001b[1;32m    124\u001b[0m     \u001b[0mbytes_io\u001b[0m \u001b[0;34m=\u001b[0m \u001b[0mBytesIO\u001b[0m\u001b[0;34m(\u001b[0m\u001b[0;34m)\u001b[0m\u001b[0;34m\u001b[0m\u001b[0;34m\u001b[0m\u001b[0m\n\u001b[0;32m--> 125\u001b[0;31m     \u001b[0mfig\u001b[0m\u001b[0;34m.\u001b[0m\u001b[0mcanvas\u001b[0m\u001b[0;34m.\u001b[0m\u001b[0mprint_figure\u001b[0m\u001b[0;34m(\u001b[0m\u001b[0mbytes_io\u001b[0m\u001b[0;34m,\u001b[0m \u001b[0;34m**\u001b[0m\u001b[0mkw\u001b[0m\u001b[0;34m)\u001b[0m\u001b[0;34m\u001b[0m\u001b[0;34m\u001b[0m\u001b[0m\n\u001b[0m\u001b[1;32m    126\u001b[0m     \u001b[0mdata\u001b[0m \u001b[0;34m=\u001b[0m \u001b[0mbytes_io\u001b[0m\u001b[0;34m.\u001b[0m\u001b[0mgetvalue\u001b[0m\u001b[0;34m(\u001b[0m\u001b[0;34m)\u001b[0m\u001b[0;34m\u001b[0m\u001b[0;34m\u001b[0m\u001b[0m\n\u001b[1;32m    127\u001b[0m     \u001b[0;32mif\u001b[0m \u001b[0mfmt\u001b[0m \u001b[0;34m==\u001b[0m \u001b[0;34m'svg'\u001b[0m\u001b[0;34m:\u001b[0m\u001b[0;34m\u001b[0m\u001b[0;34m\u001b[0m\u001b[0m\n",
            "\u001b[0;32m/usr/local/lib/python3.7/dist-packages/matplotlib/backend_bases.py\u001b[0m in \u001b[0;36mprint_figure\u001b[0;34m(self, filename, dpi, facecolor, edgecolor, orientation, format, bbox_inches, **kwargs)\u001b[0m\n\u001b[1;32m   2092\u001b[0m         \u001b[0mratio\u001b[0m \u001b[0;34m:\u001b[0m \u001b[0mfloat\u001b[0m\u001b[0;34m\u001b[0m\u001b[0;34m\u001b[0m\u001b[0m\n\u001b[1;32m   2093\u001b[0m             \u001b[0mThe\u001b[0m \u001b[0mratio\u001b[0m \u001b[0mof\u001b[0m \u001b[0mlogical\u001b[0m \u001b[0mto\u001b[0m \u001b[0mphysical\u001b[0m \u001b[0mpixels\u001b[0m \u001b[0mused\u001b[0m \u001b[0;32mfor\u001b[0m \u001b[0mthe\u001b[0m \u001b[0mcanvas\u001b[0m\u001b[0;34m.\u001b[0m\u001b[0;34m\u001b[0m\u001b[0;34m\u001b[0m\u001b[0m\n\u001b[0;32m-> 2094\u001b[0;31m \u001b[0;34m\u001b[0m\u001b[0m\n\u001b[0m\u001b[1;32m   2095\u001b[0m         \u001b[0mReturns\u001b[0m\u001b[0;34m\u001b[0m\u001b[0;34m\u001b[0m\u001b[0m\n\u001b[1;32m   2096\u001b[0m         \u001b[0;34m-\u001b[0m\u001b[0;34m-\u001b[0m\u001b[0;34m-\u001b[0m\u001b[0;34m-\u001b[0m\u001b[0;34m-\u001b[0m\u001b[0;34m-\u001b[0m\u001b[0;34m-\u001b[0m\u001b[0;34m\u001b[0m\u001b[0;34m\u001b[0m\u001b[0m\n",
            "\u001b[0;32m/usr/local/lib/python3.7/dist-packages/matplotlib/backend_bases.py\u001b[0m in \u001b[0;36m_get_renderer\u001b[0;34m(figure, print_method)\u001b[0m\n\u001b[1;32m   1558\u001b[0m     \u001b[0mfigure\u001b[0m\u001b[0;34m.\u001b[0m\u001b[0mdraw_without_rendering\u001b[0m\u001b[0;34m(\u001b[0m\u001b[0;34m)\u001b[0m\u001b[0;34m\u001b[0m\u001b[0;34m\u001b[0m\u001b[0m\n\u001b[1;32m   1559\u001b[0m \u001b[0;34m\u001b[0m\u001b[0m\n\u001b[0;32m-> 1560\u001b[0;31m \u001b[0;34m\u001b[0m\u001b[0m\n\u001b[0m\u001b[1;32m   1561\u001b[0m \u001b[0;32mdef\u001b[0m \u001b[0m_is_non_interactive_terminal_ipython\u001b[0m\u001b[0;34m(\u001b[0m\u001b[0mip\u001b[0m\u001b[0;34m)\u001b[0m\u001b[0;34m:\u001b[0m\u001b[0;34m\u001b[0m\u001b[0;34m\u001b[0m\u001b[0m\n\u001b[1;32m   1562\u001b[0m     \"\"\"\n",
            "\u001b[0;32m/usr/local/lib/python3.7/dist-packages/matplotlib/backends/backend_agg.py\u001b[0m in \u001b[0;36mprint_png\u001b[0;34m(self, filename_or_obj, metadata, pil_kwargs, *args, **kwargs)\u001b[0m\n\u001b[1;32m    503\u001b[0m             \u001b[0mMetadata\u001b[0m \u001b[0;32min\u001b[0m \u001b[0mthe\u001b[0m \u001b[0mPNG\u001b[0m \u001b[0mfile\u001b[0m \u001b[0;32mas\u001b[0m \u001b[0mkey\u001b[0m\u001b[0;34m-\u001b[0m\u001b[0mvalue\u001b[0m \u001b[0mpairs\u001b[0m \u001b[0mof\u001b[0m \u001b[0mbytes\u001b[0m \u001b[0;32mor\u001b[0m \u001b[0mlatin\u001b[0m\u001b[0;34m-\u001b[0m\u001b[0;36m1\u001b[0m\u001b[0;34m\u001b[0m\u001b[0;34m\u001b[0m\u001b[0m\n\u001b[1;32m    504\u001b[0m             \u001b[0mencodable\u001b[0m \u001b[0mstrings\u001b[0m\u001b[0;34m.\u001b[0m\u001b[0;34m\u001b[0m\u001b[0;34m\u001b[0m\u001b[0m\n\u001b[0;32m--> 505\u001b[0;31m             \u001b[0mAccording\u001b[0m \u001b[0mto\u001b[0m \u001b[0mthe\u001b[0m \u001b[0mPNG\u001b[0m \u001b[0mspecification\u001b[0m\u001b[0;34m,\u001b[0m \u001b[0mkeys\u001b[0m \u001b[0mmust\u001b[0m \u001b[0mbe\u001b[0m \u001b[0mshorter\u001b[0m \u001b[0mthan\u001b[0m \u001b[0;36m79\u001b[0m\u001b[0;34m\u001b[0m\u001b[0;34m\u001b[0m\u001b[0m\n\u001b[0m\u001b[1;32m    506\u001b[0m             \u001b[0mchars\u001b[0m\u001b[0;34m.\u001b[0m\u001b[0;34m\u001b[0m\u001b[0;34m\u001b[0m\u001b[0m\n\u001b[1;32m    507\u001b[0m \u001b[0;34m\u001b[0m\u001b[0m\n",
            "\u001b[0;31mImportError\u001b[0m: cannot import name '_png' from 'matplotlib' (/usr/local/lib/python3.7/dist-packages/matplotlib/__init__.py)"
          ]
        },
        {
          "output_type": "display_data",
          "data": {
            "text/plain": [
              "<Figure size 1500x2400 with 12 Axes>"
            ]
          },
          "metadata": {}
        },
        {
          "output_type": "stream",
          "name": "stdout",
          "text": [
            "Number of All Scatter Plots = 78\n"
          ]
        },
        {
          "output_type": "error",
          "ename": "ImportError",
          "evalue": "ignored",
          "traceback": [
            "\u001b[0;31m---------------------------------------------------------------------------\u001b[0m",
            "\u001b[0;31mImportError\u001b[0m                               Traceback (most recent call last)",
            "\u001b[0;32m/usr/local/lib/python3.7/dist-packages/IPython/core/formatters.py\u001b[0m in \u001b[0;36m__call__\u001b[0;34m(self, obj)\u001b[0m\n\u001b[1;32m    332\u001b[0m                 \u001b[0;32mpass\u001b[0m\u001b[0;34m\u001b[0m\u001b[0;34m\u001b[0m\u001b[0m\n\u001b[1;32m    333\u001b[0m             \u001b[0;32melse\u001b[0m\u001b[0;34m:\u001b[0m\u001b[0;34m\u001b[0m\u001b[0;34m\u001b[0m\u001b[0m\n\u001b[0;32m--> 334\u001b[0;31m                 \u001b[0;32mreturn\u001b[0m \u001b[0mprinter\u001b[0m\u001b[0;34m(\u001b[0m\u001b[0mobj\u001b[0m\u001b[0;34m)\u001b[0m\u001b[0;34m\u001b[0m\u001b[0;34m\u001b[0m\u001b[0m\n\u001b[0m\u001b[1;32m    335\u001b[0m             \u001b[0;31m# Finally look for special method names\u001b[0m\u001b[0;34m\u001b[0m\u001b[0;34m\u001b[0m\u001b[0;34m\u001b[0m\u001b[0m\n\u001b[1;32m    336\u001b[0m             \u001b[0mmethod\u001b[0m \u001b[0;34m=\u001b[0m \u001b[0mget_real_method\u001b[0m\u001b[0;34m(\u001b[0m\u001b[0mobj\u001b[0m\u001b[0;34m,\u001b[0m \u001b[0mself\u001b[0m\u001b[0;34m.\u001b[0m\u001b[0mprint_method\u001b[0m\u001b[0;34m)\u001b[0m\u001b[0;34m\u001b[0m\u001b[0;34m\u001b[0m\u001b[0m\n",
            "\u001b[0;32m/usr/local/lib/python3.7/dist-packages/IPython/core/pylabtools.py\u001b[0m in \u001b[0;36m<lambda>\u001b[0;34m(fig)\u001b[0m\n\u001b[1;32m    239\u001b[0m \u001b[0;34m\u001b[0m\u001b[0m\n\u001b[1;32m    240\u001b[0m     \u001b[0;32mif\u001b[0m \u001b[0;34m'png'\u001b[0m \u001b[0;32min\u001b[0m \u001b[0mformats\u001b[0m\u001b[0;34m:\u001b[0m\u001b[0;34m\u001b[0m\u001b[0;34m\u001b[0m\u001b[0m\n\u001b[0;32m--> 241\u001b[0;31m         \u001b[0mpng_formatter\u001b[0m\u001b[0;34m.\u001b[0m\u001b[0mfor_type\u001b[0m\u001b[0;34m(\u001b[0m\u001b[0mFigure\u001b[0m\u001b[0;34m,\u001b[0m \u001b[0;32mlambda\u001b[0m \u001b[0mfig\u001b[0m\u001b[0;34m:\u001b[0m \u001b[0mprint_figure\u001b[0m\u001b[0;34m(\u001b[0m\u001b[0mfig\u001b[0m\u001b[0;34m,\u001b[0m \u001b[0;34m'png'\u001b[0m\u001b[0;34m,\u001b[0m \u001b[0;34m**\u001b[0m\u001b[0mkwargs\u001b[0m\u001b[0;34m)\u001b[0m\u001b[0;34m)\u001b[0m\u001b[0;34m\u001b[0m\u001b[0;34m\u001b[0m\u001b[0m\n\u001b[0m\u001b[1;32m    242\u001b[0m     \u001b[0;32mif\u001b[0m \u001b[0;34m'retina'\u001b[0m \u001b[0;32min\u001b[0m \u001b[0mformats\u001b[0m \u001b[0;32mor\u001b[0m \u001b[0;34m'png2x'\u001b[0m \u001b[0;32min\u001b[0m \u001b[0mformats\u001b[0m\u001b[0;34m:\u001b[0m\u001b[0;34m\u001b[0m\u001b[0;34m\u001b[0m\u001b[0m\n\u001b[1;32m    243\u001b[0m         \u001b[0mpng_formatter\u001b[0m\u001b[0;34m.\u001b[0m\u001b[0mfor_type\u001b[0m\u001b[0;34m(\u001b[0m\u001b[0mFigure\u001b[0m\u001b[0;34m,\u001b[0m \u001b[0;32mlambda\u001b[0m \u001b[0mfig\u001b[0m\u001b[0;34m:\u001b[0m \u001b[0mretina_figure\u001b[0m\u001b[0;34m(\u001b[0m\u001b[0mfig\u001b[0m\u001b[0;34m,\u001b[0m \u001b[0;34m**\u001b[0m\u001b[0mkwargs\u001b[0m\u001b[0;34m)\u001b[0m\u001b[0;34m)\u001b[0m\u001b[0;34m\u001b[0m\u001b[0;34m\u001b[0m\u001b[0m\n",
            "\u001b[0;32m/usr/local/lib/python3.7/dist-packages/IPython/core/pylabtools.py\u001b[0m in \u001b[0;36mprint_figure\u001b[0;34m(fig, fmt, bbox_inches, **kwargs)\u001b[0m\n\u001b[1;32m    123\u001b[0m \u001b[0;34m\u001b[0m\u001b[0m\n\u001b[1;32m    124\u001b[0m     \u001b[0mbytes_io\u001b[0m \u001b[0;34m=\u001b[0m \u001b[0mBytesIO\u001b[0m\u001b[0;34m(\u001b[0m\u001b[0;34m)\u001b[0m\u001b[0;34m\u001b[0m\u001b[0;34m\u001b[0m\u001b[0m\n\u001b[0;32m--> 125\u001b[0;31m     \u001b[0mfig\u001b[0m\u001b[0;34m.\u001b[0m\u001b[0mcanvas\u001b[0m\u001b[0;34m.\u001b[0m\u001b[0mprint_figure\u001b[0m\u001b[0;34m(\u001b[0m\u001b[0mbytes_io\u001b[0m\u001b[0;34m,\u001b[0m \u001b[0;34m**\u001b[0m\u001b[0mkw\u001b[0m\u001b[0;34m)\u001b[0m\u001b[0;34m\u001b[0m\u001b[0;34m\u001b[0m\u001b[0m\n\u001b[0m\u001b[1;32m    126\u001b[0m     \u001b[0mdata\u001b[0m \u001b[0;34m=\u001b[0m \u001b[0mbytes_io\u001b[0m\u001b[0;34m.\u001b[0m\u001b[0mgetvalue\u001b[0m\u001b[0;34m(\u001b[0m\u001b[0;34m)\u001b[0m\u001b[0;34m\u001b[0m\u001b[0;34m\u001b[0m\u001b[0m\n\u001b[1;32m    127\u001b[0m     \u001b[0;32mif\u001b[0m \u001b[0mfmt\u001b[0m \u001b[0;34m==\u001b[0m \u001b[0;34m'svg'\u001b[0m\u001b[0;34m:\u001b[0m\u001b[0;34m\u001b[0m\u001b[0;34m\u001b[0m\u001b[0m\n",
            "\u001b[0;32m/usr/local/lib/python3.7/dist-packages/matplotlib/backend_bases.py\u001b[0m in \u001b[0;36mprint_figure\u001b[0;34m(self, filename, dpi, facecolor, edgecolor, orientation, format, bbox_inches, **kwargs)\u001b[0m\n\u001b[1;32m   2092\u001b[0m         \u001b[0mratio\u001b[0m \u001b[0;34m:\u001b[0m \u001b[0mfloat\u001b[0m\u001b[0;34m\u001b[0m\u001b[0;34m\u001b[0m\u001b[0m\n\u001b[1;32m   2093\u001b[0m             \u001b[0mThe\u001b[0m \u001b[0mratio\u001b[0m \u001b[0mof\u001b[0m \u001b[0mlogical\u001b[0m \u001b[0mto\u001b[0m \u001b[0mphysical\u001b[0m \u001b[0mpixels\u001b[0m \u001b[0mused\u001b[0m \u001b[0;32mfor\u001b[0m \u001b[0mthe\u001b[0m \u001b[0mcanvas\u001b[0m\u001b[0;34m.\u001b[0m\u001b[0;34m\u001b[0m\u001b[0;34m\u001b[0m\u001b[0m\n\u001b[0;32m-> 2094\u001b[0;31m \u001b[0;34m\u001b[0m\u001b[0m\n\u001b[0m\u001b[1;32m   2095\u001b[0m         \u001b[0mReturns\u001b[0m\u001b[0;34m\u001b[0m\u001b[0;34m\u001b[0m\u001b[0m\n\u001b[1;32m   2096\u001b[0m         \u001b[0;34m-\u001b[0m\u001b[0;34m-\u001b[0m\u001b[0;34m-\u001b[0m\u001b[0;34m-\u001b[0m\u001b[0;34m-\u001b[0m\u001b[0;34m-\u001b[0m\u001b[0;34m-\u001b[0m\u001b[0;34m\u001b[0m\u001b[0;34m\u001b[0m\u001b[0m\n",
            "\u001b[0;32m/usr/local/lib/python3.7/dist-packages/matplotlib/backend_bases.py\u001b[0m in \u001b[0;36m_get_renderer\u001b[0;34m(figure, print_method)\u001b[0m\n\u001b[1;32m   1558\u001b[0m     \u001b[0mfigure\u001b[0m\u001b[0;34m.\u001b[0m\u001b[0mdraw_without_rendering\u001b[0m\u001b[0;34m(\u001b[0m\u001b[0;34m)\u001b[0m\u001b[0;34m\u001b[0m\u001b[0;34m\u001b[0m\u001b[0m\n\u001b[1;32m   1559\u001b[0m \u001b[0;34m\u001b[0m\u001b[0m\n\u001b[0;32m-> 1560\u001b[0;31m \u001b[0;34m\u001b[0m\u001b[0m\n\u001b[0m\u001b[1;32m   1561\u001b[0m \u001b[0;32mdef\u001b[0m \u001b[0m_is_non_interactive_terminal_ipython\u001b[0m\u001b[0;34m(\u001b[0m\u001b[0mip\u001b[0m\u001b[0;34m)\u001b[0m\u001b[0;34m:\u001b[0m\u001b[0;34m\u001b[0m\u001b[0;34m\u001b[0m\u001b[0m\n\u001b[1;32m   1562\u001b[0m     \"\"\"\n",
            "\u001b[0;32m/usr/local/lib/python3.7/dist-packages/matplotlib/backends/backend_agg.py\u001b[0m in \u001b[0;36mprint_png\u001b[0;34m(self, filename_or_obj, metadata, pil_kwargs, *args, **kwargs)\u001b[0m\n\u001b[1;32m    503\u001b[0m             \u001b[0mMetadata\u001b[0m \u001b[0;32min\u001b[0m \u001b[0mthe\u001b[0m \u001b[0mPNG\u001b[0m \u001b[0mfile\u001b[0m \u001b[0;32mas\u001b[0m \u001b[0mkey\u001b[0m\u001b[0;34m-\u001b[0m\u001b[0mvalue\u001b[0m \u001b[0mpairs\u001b[0m \u001b[0mof\u001b[0m \u001b[0mbytes\u001b[0m \u001b[0;32mor\u001b[0m \u001b[0mlatin\u001b[0m\u001b[0;34m-\u001b[0m\u001b[0;36m1\u001b[0m\u001b[0;34m\u001b[0m\u001b[0;34m\u001b[0m\u001b[0m\n\u001b[1;32m    504\u001b[0m             \u001b[0mencodable\u001b[0m \u001b[0mstrings\u001b[0m\u001b[0;34m.\u001b[0m\u001b[0;34m\u001b[0m\u001b[0;34m\u001b[0m\u001b[0m\n\u001b[0;32m--> 505\u001b[0;31m             \u001b[0mAccording\u001b[0m \u001b[0mto\u001b[0m \u001b[0mthe\u001b[0m \u001b[0mPNG\u001b[0m \u001b[0mspecification\u001b[0m\u001b[0;34m,\u001b[0m \u001b[0mkeys\u001b[0m \u001b[0mmust\u001b[0m \u001b[0mbe\u001b[0m \u001b[0mshorter\u001b[0m \u001b[0mthan\u001b[0m \u001b[0;36m79\u001b[0m\u001b[0;34m\u001b[0m\u001b[0;34m\u001b[0m\u001b[0m\n\u001b[0m\u001b[1;32m    506\u001b[0m             \u001b[0mchars\u001b[0m\u001b[0;34m.\u001b[0m\u001b[0;34m\u001b[0m\u001b[0;34m\u001b[0m\u001b[0m\n\u001b[1;32m    507\u001b[0m \u001b[0;34m\u001b[0m\u001b[0m\n",
            "\u001b[0;31mImportError\u001b[0m: cannot import name '_png' from 'matplotlib' (/usr/local/lib/python3.7/dist-packages/matplotlib/__init__.py)"
          ]
        },
        {
          "output_type": "display_data",
          "data": {
            "text/plain": [
              "<Figure size 1500x13200 with 66 Axes>"
            ]
          },
          "metadata": {}
        },
        {
          "output_type": "error",
          "ename": "ImportError",
          "evalue": "ignored",
          "traceback": [
            "\u001b[0;31m---------------------------------------------------------------------------\u001b[0m",
            "\u001b[0;31mImportError\u001b[0m                               Traceback (most recent call last)",
            "\u001b[0;32m/usr/local/lib/python3.7/dist-packages/IPython/core/formatters.py\u001b[0m in \u001b[0;36m__call__\u001b[0;34m(self, obj)\u001b[0m\n\u001b[1;32m    332\u001b[0m                 \u001b[0;32mpass\u001b[0m\u001b[0;34m\u001b[0m\u001b[0;34m\u001b[0m\u001b[0m\n\u001b[1;32m    333\u001b[0m             \u001b[0;32melse\u001b[0m\u001b[0;34m:\u001b[0m\u001b[0;34m\u001b[0m\u001b[0;34m\u001b[0m\u001b[0m\n\u001b[0;32m--> 334\u001b[0;31m                 \u001b[0;32mreturn\u001b[0m \u001b[0mprinter\u001b[0m\u001b[0;34m(\u001b[0m\u001b[0mobj\u001b[0m\u001b[0;34m)\u001b[0m\u001b[0;34m\u001b[0m\u001b[0;34m\u001b[0m\u001b[0m\n\u001b[0m\u001b[1;32m    335\u001b[0m             \u001b[0;31m# Finally look for special method names\u001b[0m\u001b[0;34m\u001b[0m\u001b[0;34m\u001b[0m\u001b[0;34m\u001b[0m\u001b[0m\n\u001b[1;32m    336\u001b[0m             \u001b[0mmethod\u001b[0m \u001b[0;34m=\u001b[0m \u001b[0mget_real_method\u001b[0m\u001b[0;34m(\u001b[0m\u001b[0mobj\u001b[0m\u001b[0;34m,\u001b[0m \u001b[0mself\u001b[0m\u001b[0;34m.\u001b[0m\u001b[0mprint_method\u001b[0m\u001b[0;34m)\u001b[0m\u001b[0;34m\u001b[0m\u001b[0;34m\u001b[0m\u001b[0m\n",
            "\u001b[0;32m/usr/local/lib/python3.7/dist-packages/IPython/core/pylabtools.py\u001b[0m in \u001b[0;36m<lambda>\u001b[0;34m(fig)\u001b[0m\n\u001b[1;32m    239\u001b[0m \u001b[0;34m\u001b[0m\u001b[0m\n\u001b[1;32m    240\u001b[0m     \u001b[0;32mif\u001b[0m \u001b[0;34m'png'\u001b[0m \u001b[0;32min\u001b[0m \u001b[0mformats\u001b[0m\u001b[0;34m:\u001b[0m\u001b[0;34m\u001b[0m\u001b[0;34m\u001b[0m\u001b[0m\n\u001b[0;32m--> 241\u001b[0;31m         \u001b[0mpng_formatter\u001b[0m\u001b[0;34m.\u001b[0m\u001b[0mfor_type\u001b[0m\u001b[0;34m(\u001b[0m\u001b[0mFigure\u001b[0m\u001b[0;34m,\u001b[0m \u001b[0;32mlambda\u001b[0m \u001b[0mfig\u001b[0m\u001b[0;34m:\u001b[0m \u001b[0mprint_figure\u001b[0m\u001b[0;34m(\u001b[0m\u001b[0mfig\u001b[0m\u001b[0;34m,\u001b[0m \u001b[0;34m'png'\u001b[0m\u001b[0;34m,\u001b[0m \u001b[0;34m**\u001b[0m\u001b[0mkwargs\u001b[0m\u001b[0;34m)\u001b[0m\u001b[0;34m)\u001b[0m\u001b[0;34m\u001b[0m\u001b[0;34m\u001b[0m\u001b[0m\n\u001b[0m\u001b[1;32m    242\u001b[0m     \u001b[0;32mif\u001b[0m \u001b[0;34m'retina'\u001b[0m \u001b[0;32min\u001b[0m \u001b[0mformats\u001b[0m \u001b[0;32mor\u001b[0m \u001b[0;34m'png2x'\u001b[0m \u001b[0;32min\u001b[0m \u001b[0mformats\u001b[0m\u001b[0;34m:\u001b[0m\u001b[0;34m\u001b[0m\u001b[0;34m\u001b[0m\u001b[0m\n\u001b[1;32m    243\u001b[0m         \u001b[0mpng_formatter\u001b[0m\u001b[0;34m.\u001b[0m\u001b[0mfor_type\u001b[0m\u001b[0;34m(\u001b[0m\u001b[0mFigure\u001b[0m\u001b[0;34m,\u001b[0m \u001b[0;32mlambda\u001b[0m \u001b[0mfig\u001b[0m\u001b[0;34m:\u001b[0m \u001b[0mretina_figure\u001b[0m\u001b[0;34m(\u001b[0m\u001b[0mfig\u001b[0m\u001b[0;34m,\u001b[0m \u001b[0;34m**\u001b[0m\u001b[0mkwargs\u001b[0m\u001b[0;34m)\u001b[0m\u001b[0;34m)\u001b[0m\u001b[0;34m\u001b[0m\u001b[0;34m\u001b[0m\u001b[0m\n",
            "\u001b[0;32m/usr/local/lib/python3.7/dist-packages/IPython/core/pylabtools.py\u001b[0m in \u001b[0;36mprint_figure\u001b[0;34m(fig, fmt, bbox_inches, **kwargs)\u001b[0m\n\u001b[1;32m    123\u001b[0m \u001b[0;34m\u001b[0m\u001b[0m\n\u001b[1;32m    124\u001b[0m     \u001b[0mbytes_io\u001b[0m \u001b[0;34m=\u001b[0m \u001b[0mBytesIO\u001b[0m\u001b[0;34m(\u001b[0m\u001b[0;34m)\u001b[0m\u001b[0;34m\u001b[0m\u001b[0;34m\u001b[0m\u001b[0m\n\u001b[0;32m--> 125\u001b[0;31m     \u001b[0mfig\u001b[0m\u001b[0;34m.\u001b[0m\u001b[0mcanvas\u001b[0m\u001b[0;34m.\u001b[0m\u001b[0mprint_figure\u001b[0m\u001b[0;34m(\u001b[0m\u001b[0mbytes_io\u001b[0m\u001b[0;34m,\u001b[0m \u001b[0;34m**\u001b[0m\u001b[0mkw\u001b[0m\u001b[0;34m)\u001b[0m\u001b[0;34m\u001b[0m\u001b[0;34m\u001b[0m\u001b[0m\n\u001b[0m\u001b[1;32m    126\u001b[0m     \u001b[0mdata\u001b[0m \u001b[0;34m=\u001b[0m \u001b[0mbytes_io\u001b[0m\u001b[0;34m.\u001b[0m\u001b[0mgetvalue\u001b[0m\u001b[0;34m(\u001b[0m\u001b[0;34m)\u001b[0m\u001b[0;34m\u001b[0m\u001b[0;34m\u001b[0m\u001b[0m\n\u001b[1;32m    127\u001b[0m     \u001b[0;32mif\u001b[0m \u001b[0mfmt\u001b[0m \u001b[0;34m==\u001b[0m \u001b[0;34m'svg'\u001b[0m\u001b[0;34m:\u001b[0m\u001b[0;34m\u001b[0m\u001b[0;34m\u001b[0m\u001b[0m\n",
            "\u001b[0;32m/usr/local/lib/python3.7/dist-packages/matplotlib/backend_bases.py\u001b[0m in \u001b[0;36mprint_figure\u001b[0;34m(self, filename, dpi, facecolor, edgecolor, orientation, format, bbox_inches, **kwargs)\u001b[0m\n\u001b[1;32m   2092\u001b[0m         \u001b[0mratio\u001b[0m \u001b[0;34m:\u001b[0m \u001b[0mfloat\u001b[0m\u001b[0;34m\u001b[0m\u001b[0;34m\u001b[0m\u001b[0m\n\u001b[1;32m   2093\u001b[0m             \u001b[0mThe\u001b[0m \u001b[0mratio\u001b[0m \u001b[0mof\u001b[0m \u001b[0mlogical\u001b[0m \u001b[0mto\u001b[0m \u001b[0mphysical\u001b[0m \u001b[0mpixels\u001b[0m \u001b[0mused\u001b[0m \u001b[0;32mfor\u001b[0m \u001b[0mthe\u001b[0m \u001b[0mcanvas\u001b[0m\u001b[0;34m.\u001b[0m\u001b[0;34m\u001b[0m\u001b[0;34m\u001b[0m\u001b[0m\n\u001b[0;32m-> 2094\u001b[0;31m \u001b[0;34m\u001b[0m\u001b[0m\n\u001b[0m\u001b[1;32m   2095\u001b[0m         \u001b[0mReturns\u001b[0m\u001b[0;34m\u001b[0m\u001b[0;34m\u001b[0m\u001b[0m\n\u001b[1;32m   2096\u001b[0m         \u001b[0;34m-\u001b[0m\u001b[0;34m-\u001b[0m\u001b[0;34m-\u001b[0m\u001b[0;34m-\u001b[0m\u001b[0;34m-\u001b[0m\u001b[0;34m-\u001b[0m\u001b[0;34m-\u001b[0m\u001b[0;34m\u001b[0m\u001b[0;34m\u001b[0m\u001b[0m\n",
            "\u001b[0;32m/usr/local/lib/python3.7/dist-packages/matplotlib/backend_bases.py\u001b[0m in \u001b[0;36m_get_renderer\u001b[0;34m(figure, print_method)\u001b[0m\n\u001b[1;32m   1558\u001b[0m     \u001b[0mfigure\u001b[0m\u001b[0;34m.\u001b[0m\u001b[0mdraw_without_rendering\u001b[0m\u001b[0;34m(\u001b[0m\u001b[0;34m)\u001b[0m\u001b[0;34m\u001b[0m\u001b[0;34m\u001b[0m\u001b[0m\n\u001b[1;32m   1559\u001b[0m \u001b[0;34m\u001b[0m\u001b[0m\n\u001b[0;32m-> 1560\u001b[0;31m \u001b[0;34m\u001b[0m\u001b[0m\n\u001b[0m\u001b[1;32m   1561\u001b[0m \u001b[0;32mdef\u001b[0m \u001b[0m_is_non_interactive_terminal_ipython\u001b[0m\u001b[0;34m(\u001b[0m\u001b[0mip\u001b[0m\u001b[0;34m)\u001b[0m\u001b[0;34m:\u001b[0m\u001b[0;34m\u001b[0m\u001b[0;34m\u001b[0m\u001b[0m\n\u001b[1;32m   1562\u001b[0m     \"\"\"\n",
            "\u001b[0;32m/usr/local/lib/python3.7/dist-packages/matplotlib/backends/backend_agg.py\u001b[0m in \u001b[0;36mprint_png\u001b[0;34m(self, filename_or_obj, metadata, pil_kwargs, *args, **kwargs)\u001b[0m\n\u001b[1;32m    503\u001b[0m             \u001b[0mMetadata\u001b[0m \u001b[0;32min\u001b[0m \u001b[0mthe\u001b[0m \u001b[0mPNG\u001b[0m \u001b[0mfile\u001b[0m \u001b[0;32mas\u001b[0m \u001b[0mkey\u001b[0m\u001b[0;34m-\u001b[0m\u001b[0mvalue\u001b[0m \u001b[0mpairs\u001b[0m \u001b[0mof\u001b[0m \u001b[0mbytes\u001b[0m \u001b[0;32mor\u001b[0m \u001b[0mlatin\u001b[0m\u001b[0;34m-\u001b[0m\u001b[0;36m1\u001b[0m\u001b[0;34m\u001b[0m\u001b[0;34m\u001b[0m\u001b[0m\n\u001b[1;32m    504\u001b[0m             \u001b[0mencodable\u001b[0m \u001b[0mstrings\u001b[0m\u001b[0;34m.\u001b[0m\u001b[0;34m\u001b[0m\u001b[0;34m\u001b[0m\u001b[0m\n\u001b[0;32m--> 505\u001b[0;31m             \u001b[0mAccording\u001b[0m \u001b[0mto\u001b[0m \u001b[0mthe\u001b[0m \u001b[0mPNG\u001b[0m \u001b[0mspecification\u001b[0m\u001b[0;34m,\u001b[0m \u001b[0mkeys\u001b[0m \u001b[0mmust\u001b[0m \u001b[0mbe\u001b[0m \u001b[0mshorter\u001b[0m \u001b[0mthan\u001b[0m \u001b[0;36m79\u001b[0m\u001b[0;34m\u001b[0m\u001b[0;34m\u001b[0m\u001b[0m\n\u001b[0m\u001b[1;32m    506\u001b[0m             \u001b[0mchars\u001b[0m\u001b[0;34m.\u001b[0m\u001b[0;34m\u001b[0m\u001b[0;34m\u001b[0m\u001b[0m\n\u001b[1;32m    507\u001b[0m \u001b[0;34m\u001b[0m\u001b[0m\n",
            "\u001b[0;31mImportError\u001b[0m: cannot import name '_png' from 'matplotlib' (/usr/local/lib/python3.7/dist-packages/matplotlib/__init__.py)"
          ]
        },
        {
          "output_type": "display_data",
          "data": {
            "text/plain": [
              "<Figure size 1500x6500 with 39 Axes>"
            ]
          },
          "metadata": {}
        },
        {
          "output_type": "error",
          "ename": "ImportError",
          "evalue": "ignored",
          "traceback": [
            "\u001b[0;31m---------------------------------------------------------------------------\u001b[0m",
            "\u001b[0;31mImportError\u001b[0m                               Traceback (most recent call last)",
            "\u001b[0;32m/usr/local/lib/python3.7/dist-packages/IPython/core/formatters.py\u001b[0m in \u001b[0;36m__call__\u001b[0;34m(self, obj)\u001b[0m\n\u001b[1;32m    332\u001b[0m                 \u001b[0;32mpass\u001b[0m\u001b[0;34m\u001b[0m\u001b[0;34m\u001b[0m\u001b[0m\n\u001b[1;32m    333\u001b[0m             \u001b[0;32melse\u001b[0m\u001b[0;34m:\u001b[0m\u001b[0;34m\u001b[0m\u001b[0;34m\u001b[0m\u001b[0m\n\u001b[0;32m--> 334\u001b[0;31m                 \u001b[0;32mreturn\u001b[0m \u001b[0mprinter\u001b[0m\u001b[0;34m(\u001b[0m\u001b[0mobj\u001b[0m\u001b[0;34m)\u001b[0m\u001b[0;34m\u001b[0m\u001b[0;34m\u001b[0m\u001b[0m\n\u001b[0m\u001b[1;32m    335\u001b[0m             \u001b[0;31m# Finally look for special method names\u001b[0m\u001b[0;34m\u001b[0m\u001b[0;34m\u001b[0m\u001b[0;34m\u001b[0m\u001b[0m\n\u001b[1;32m    336\u001b[0m             \u001b[0mmethod\u001b[0m \u001b[0;34m=\u001b[0m \u001b[0mget_real_method\u001b[0m\u001b[0;34m(\u001b[0m\u001b[0mobj\u001b[0m\u001b[0;34m,\u001b[0m \u001b[0mself\u001b[0m\u001b[0;34m.\u001b[0m\u001b[0mprint_method\u001b[0m\u001b[0;34m)\u001b[0m\u001b[0;34m\u001b[0m\u001b[0;34m\u001b[0m\u001b[0m\n",
            "\u001b[0;32m/usr/local/lib/python3.7/dist-packages/IPython/core/pylabtools.py\u001b[0m in \u001b[0;36m<lambda>\u001b[0;34m(fig)\u001b[0m\n\u001b[1;32m    239\u001b[0m \u001b[0;34m\u001b[0m\u001b[0m\n\u001b[1;32m    240\u001b[0m     \u001b[0;32mif\u001b[0m \u001b[0;34m'png'\u001b[0m \u001b[0;32min\u001b[0m \u001b[0mformats\u001b[0m\u001b[0;34m:\u001b[0m\u001b[0;34m\u001b[0m\u001b[0;34m\u001b[0m\u001b[0m\n\u001b[0;32m--> 241\u001b[0;31m         \u001b[0mpng_formatter\u001b[0m\u001b[0;34m.\u001b[0m\u001b[0mfor_type\u001b[0m\u001b[0;34m(\u001b[0m\u001b[0mFigure\u001b[0m\u001b[0;34m,\u001b[0m \u001b[0;32mlambda\u001b[0m \u001b[0mfig\u001b[0m\u001b[0;34m:\u001b[0m \u001b[0mprint_figure\u001b[0m\u001b[0;34m(\u001b[0m\u001b[0mfig\u001b[0m\u001b[0;34m,\u001b[0m \u001b[0;34m'png'\u001b[0m\u001b[0;34m,\u001b[0m \u001b[0;34m**\u001b[0m\u001b[0mkwargs\u001b[0m\u001b[0;34m)\u001b[0m\u001b[0;34m)\u001b[0m\u001b[0;34m\u001b[0m\u001b[0;34m\u001b[0m\u001b[0m\n\u001b[0m\u001b[1;32m    242\u001b[0m     \u001b[0;32mif\u001b[0m \u001b[0;34m'retina'\u001b[0m \u001b[0;32min\u001b[0m \u001b[0mformats\u001b[0m \u001b[0;32mor\u001b[0m \u001b[0;34m'png2x'\u001b[0m \u001b[0;32min\u001b[0m \u001b[0mformats\u001b[0m\u001b[0;34m:\u001b[0m\u001b[0;34m\u001b[0m\u001b[0;34m\u001b[0m\u001b[0m\n\u001b[1;32m    243\u001b[0m         \u001b[0mpng_formatter\u001b[0m\u001b[0;34m.\u001b[0m\u001b[0mfor_type\u001b[0m\u001b[0;34m(\u001b[0m\u001b[0mFigure\u001b[0m\u001b[0;34m,\u001b[0m \u001b[0;32mlambda\u001b[0m \u001b[0mfig\u001b[0m\u001b[0;34m:\u001b[0m \u001b[0mretina_figure\u001b[0m\u001b[0;34m(\u001b[0m\u001b[0mfig\u001b[0m\u001b[0;34m,\u001b[0m \u001b[0;34m**\u001b[0m\u001b[0mkwargs\u001b[0m\u001b[0;34m)\u001b[0m\u001b[0;34m)\u001b[0m\u001b[0;34m\u001b[0m\u001b[0;34m\u001b[0m\u001b[0m\n",
            "\u001b[0;32m/usr/local/lib/python3.7/dist-packages/IPython/core/pylabtools.py\u001b[0m in \u001b[0;36mprint_figure\u001b[0;34m(fig, fmt, bbox_inches, **kwargs)\u001b[0m\n\u001b[1;32m    123\u001b[0m \u001b[0;34m\u001b[0m\u001b[0m\n\u001b[1;32m    124\u001b[0m     \u001b[0mbytes_io\u001b[0m \u001b[0;34m=\u001b[0m \u001b[0mBytesIO\u001b[0m\u001b[0;34m(\u001b[0m\u001b[0;34m)\u001b[0m\u001b[0;34m\u001b[0m\u001b[0;34m\u001b[0m\u001b[0m\n\u001b[0;32m--> 125\u001b[0;31m     \u001b[0mfig\u001b[0m\u001b[0;34m.\u001b[0m\u001b[0mcanvas\u001b[0m\u001b[0;34m.\u001b[0m\u001b[0mprint_figure\u001b[0m\u001b[0;34m(\u001b[0m\u001b[0mbytes_io\u001b[0m\u001b[0;34m,\u001b[0m \u001b[0;34m**\u001b[0m\u001b[0mkw\u001b[0m\u001b[0;34m)\u001b[0m\u001b[0;34m\u001b[0m\u001b[0;34m\u001b[0m\u001b[0m\n\u001b[0m\u001b[1;32m    126\u001b[0m     \u001b[0mdata\u001b[0m \u001b[0;34m=\u001b[0m \u001b[0mbytes_io\u001b[0m\u001b[0;34m.\u001b[0m\u001b[0mgetvalue\u001b[0m\u001b[0;34m(\u001b[0m\u001b[0;34m)\u001b[0m\u001b[0;34m\u001b[0m\u001b[0;34m\u001b[0m\u001b[0m\n\u001b[1;32m    127\u001b[0m     \u001b[0;32mif\u001b[0m \u001b[0mfmt\u001b[0m \u001b[0;34m==\u001b[0m \u001b[0;34m'svg'\u001b[0m\u001b[0;34m:\u001b[0m\u001b[0;34m\u001b[0m\u001b[0;34m\u001b[0m\u001b[0m\n",
            "\u001b[0;32m/usr/local/lib/python3.7/dist-packages/matplotlib/backend_bases.py\u001b[0m in \u001b[0;36mprint_figure\u001b[0;34m(self, filename, dpi, facecolor, edgecolor, orientation, format, bbox_inches, **kwargs)\u001b[0m\n\u001b[1;32m   2092\u001b[0m         \u001b[0mratio\u001b[0m \u001b[0;34m:\u001b[0m \u001b[0mfloat\u001b[0m\u001b[0;34m\u001b[0m\u001b[0;34m\u001b[0m\u001b[0m\n\u001b[1;32m   2093\u001b[0m             \u001b[0mThe\u001b[0m \u001b[0mratio\u001b[0m \u001b[0mof\u001b[0m \u001b[0mlogical\u001b[0m \u001b[0mto\u001b[0m \u001b[0mphysical\u001b[0m \u001b[0mpixels\u001b[0m \u001b[0mused\u001b[0m \u001b[0;32mfor\u001b[0m \u001b[0mthe\u001b[0m \u001b[0mcanvas\u001b[0m\u001b[0;34m.\u001b[0m\u001b[0;34m\u001b[0m\u001b[0;34m\u001b[0m\u001b[0m\n\u001b[0;32m-> 2094\u001b[0;31m \u001b[0;34m\u001b[0m\u001b[0m\n\u001b[0m\u001b[1;32m   2095\u001b[0m         \u001b[0mReturns\u001b[0m\u001b[0;34m\u001b[0m\u001b[0;34m\u001b[0m\u001b[0m\n\u001b[1;32m   2096\u001b[0m         \u001b[0;34m-\u001b[0m\u001b[0;34m-\u001b[0m\u001b[0;34m-\u001b[0m\u001b[0;34m-\u001b[0m\u001b[0;34m-\u001b[0m\u001b[0;34m-\u001b[0m\u001b[0;34m-\u001b[0m\u001b[0;34m\u001b[0m\u001b[0;34m\u001b[0m\u001b[0m\n",
            "\u001b[0;32m/usr/local/lib/python3.7/dist-packages/matplotlib/backend_bases.py\u001b[0m in \u001b[0;36m_get_renderer\u001b[0;34m(figure, print_method)\u001b[0m\n\u001b[1;32m   1558\u001b[0m     \u001b[0mfigure\u001b[0m\u001b[0;34m.\u001b[0m\u001b[0mdraw_without_rendering\u001b[0m\u001b[0;34m(\u001b[0m\u001b[0;34m)\u001b[0m\u001b[0;34m\u001b[0m\u001b[0;34m\u001b[0m\u001b[0m\n\u001b[1;32m   1559\u001b[0m \u001b[0;34m\u001b[0m\u001b[0m\n\u001b[0;32m-> 1560\u001b[0;31m \u001b[0;34m\u001b[0m\u001b[0m\n\u001b[0m\u001b[1;32m   1561\u001b[0m \u001b[0;32mdef\u001b[0m \u001b[0m_is_non_interactive_terminal_ipython\u001b[0m\u001b[0;34m(\u001b[0m\u001b[0mip\u001b[0m\u001b[0;34m)\u001b[0m\u001b[0;34m:\u001b[0m\u001b[0;34m\u001b[0m\u001b[0;34m\u001b[0m\u001b[0m\n\u001b[1;32m   1562\u001b[0m     \"\"\"\n",
            "\u001b[0;32m/usr/local/lib/python3.7/dist-packages/matplotlib/backends/backend_agg.py\u001b[0m in \u001b[0;36mprint_png\u001b[0;34m(self, filename_or_obj, metadata, pil_kwargs, *args, **kwargs)\u001b[0m\n\u001b[1;32m    503\u001b[0m             \u001b[0mMetadata\u001b[0m \u001b[0;32min\u001b[0m \u001b[0mthe\u001b[0m \u001b[0mPNG\u001b[0m \u001b[0mfile\u001b[0m \u001b[0;32mas\u001b[0m \u001b[0mkey\u001b[0m\u001b[0;34m-\u001b[0m\u001b[0mvalue\u001b[0m \u001b[0mpairs\u001b[0m \u001b[0mof\u001b[0m \u001b[0mbytes\u001b[0m \u001b[0;32mor\u001b[0m \u001b[0mlatin\u001b[0m\u001b[0;34m-\u001b[0m\u001b[0;36m1\u001b[0m\u001b[0;34m\u001b[0m\u001b[0;34m\u001b[0m\u001b[0m\n\u001b[1;32m    504\u001b[0m             \u001b[0mencodable\u001b[0m \u001b[0mstrings\u001b[0m\u001b[0;34m.\u001b[0m\u001b[0;34m\u001b[0m\u001b[0;34m\u001b[0m\u001b[0m\n\u001b[0;32m--> 505\u001b[0;31m             \u001b[0mAccording\u001b[0m \u001b[0mto\u001b[0m \u001b[0mthe\u001b[0m \u001b[0mPNG\u001b[0m \u001b[0mspecification\u001b[0m\u001b[0;34m,\u001b[0m \u001b[0mkeys\u001b[0m \u001b[0mmust\u001b[0m \u001b[0mbe\u001b[0m \u001b[0mshorter\u001b[0m \u001b[0mthan\u001b[0m \u001b[0;36m79\u001b[0m\u001b[0;34m\u001b[0m\u001b[0;34m\u001b[0m\u001b[0m\n\u001b[0m\u001b[1;32m    506\u001b[0m             \u001b[0mchars\u001b[0m\u001b[0;34m.\u001b[0m\u001b[0;34m\u001b[0m\u001b[0;34m\u001b[0m\u001b[0m\n\u001b[1;32m    507\u001b[0m \u001b[0;34m\u001b[0m\u001b[0m\n",
            "\u001b[0;31mImportError\u001b[0m: cannot import name '_png' from 'matplotlib' (/usr/local/lib/python3.7/dist-packages/matplotlib/__init__.py)"
          ]
        },
        {
          "output_type": "display_data",
          "data": {
            "text/plain": [
              "<Figure size 1500x500 with 1 Axes>"
            ]
          },
          "metadata": {}
        },
        {
          "output_type": "error",
          "ename": "ImportError",
          "evalue": "ignored",
          "traceback": [
            "\u001b[0;31m---------------------------------------------------------------------------\u001b[0m",
            "\u001b[0;31mImportError\u001b[0m                               Traceback (most recent call last)",
            "\u001b[0;32m/usr/local/lib/python3.7/dist-packages/IPython/core/formatters.py\u001b[0m in \u001b[0;36m__call__\u001b[0;34m(self, obj)\u001b[0m\n\u001b[1;32m    332\u001b[0m                 \u001b[0;32mpass\u001b[0m\u001b[0;34m\u001b[0m\u001b[0;34m\u001b[0m\u001b[0m\n\u001b[1;32m    333\u001b[0m             \u001b[0;32melse\u001b[0m\u001b[0;34m:\u001b[0m\u001b[0;34m\u001b[0m\u001b[0;34m\u001b[0m\u001b[0m\n\u001b[0;32m--> 334\u001b[0;31m                 \u001b[0;32mreturn\u001b[0m \u001b[0mprinter\u001b[0m\u001b[0;34m(\u001b[0m\u001b[0mobj\u001b[0m\u001b[0;34m)\u001b[0m\u001b[0;34m\u001b[0m\u001b[0;34m\u001b[0m\u001b[0m\n\u001b[0m\u001b[1;32m    335\u001b[0m             \u001b[0;31m# Finally look for special method names\u001b[0m\u001b[0;34m\u001b[0m\u001b[0;34m\u001b[0m\u001b[0;34m\u001b[0m\u001b[0m\n\u001b[1;32m    336\u001b[0m             \u001b[0mmethod\u001b[0m \u001b[0;34m=\u001b[0m \u001b[0mget_real_method\u001b[0m\u001b[0;34m(\u001b[0m\u001b[0mobj\u001b[0m\u001b[0;34m,\u001b[0m \u001b[0mself\u001b[0m\u001b[0;34m.\u001b[0m\u001b[0mprint_method\u001b[0m\u001b[0;34m)\u001b[0m\u001b[0;34m\u001b[0m\u001b[0;34m\u001b[0m\u001b[0m\n",
            "\u001b[0;32m/usr/local/lib/python3.7/dist-packages/IPython/core/pylabtools.py\u001b[0m in \u001b[0;36m<lambda>\u001b[0;34m(fig)\u001b[0m\n\u001b[1;32m    239\u001b[0m \u001b[0;34m\u001b[0m\u001b[0m\n\u001b[1;32m    240\u001b[0m     \u001b[0;32mif\u001b[0m \u001b[0;34m'png'\u001b[0m \u001b[0;32min\u001b[0m \u001b[0mformats\u001b[0m\u001b[0;34m:\u001b[0m\u001b[0;34m\u001b[0m\u001b[0;34m\u001b[0m\u001b[0m\n\u001b[0;32m--> 241\u001b[0;31m         \u001b[0mpng_formatter\u001b[0m\u001b[0;34m.\u001b[0m\u001b[0mfor_type\u001b[0m\u001b[0;34m(\u001b[0m\u001b[0mFigure\u001b[0m\u001b[0;34m,\u001b[0m \u001b[0;32mlambda\u001b[0m \u001b[0mfig\u001b[0m\u001b[0;34m:\u001b[0m \u001b[0mprint_figure\u001b[0m\u001b[0;34m(\u001b[0m\u001b[0mfig\u001b[0m\u001b[0;34m,\u001b[0m \u001b[0;34m'png'\u001b[0m\u001b[0;34m,\u001b[0m \u001b[0;34m**\u001b[0m\u001b[0mkwargs\u001b[0m\u001b[0;34m)\u001b[0m\u001b[0;34m)\u001b[0m\u001b[0;34m\u001b[0m\u001b[0;34m\u001b[0m\u001b[0m\n\u001b[0m\u001b[1;32m    242\u001b[0m     \u001b[0;32mif\u001b[0m \u001b[0;34m'retina'\u001b[0m \u001b[0;32min\u001b[0m \u001b[0mformats\u001b[0m \u001b[0;32mor\u001b[0m \u001b[0;34m'png2x'\u001b[0m \u001b[0;32min\u001b[0m \u001b[0mformats\u001b[0m\u001b[0;34m:\u001b[0m\u001b[0;34m\u001b[0m\u001b[0;34m\u001b[0m\u001b[0m\n\u001b[1;32m    243\u001b[0m         \u001b[0mpng_formatter\u001b[0m\u001b[0;34m.\u001b[0m\u001b[0mfor_type\u001b[0m\u001b[0;34m(\u001b[0m\u001b[0mFigure\u001b[0m\u001b[0;34m,\u001b[0m \u001b[0;32mlambda\u001b[0m \u001b[0mfig\u001b[0m\u001b[0;34m:\u001b[0m \u001b[0mretina_figure\u001b[0m\u001b[0;34m(\u001b[0m\u001b[0mfig\u001b[0m\u001b[0;34m,\u001b[0m \u001b[0;34m**\u001b[0m\u001b[0mkwargs\u001b[0m\u001b[0;34m)\u001b[0m\u001b[0;34m)\u001b[0m\u001b[0;34m\u001b[0m\u001b[0;34m\u001b[0m\u001b[0m\n",
            "\u001b[0;32m/usr/local/lib/python3.7/dist-packages/IPython/core/pylabtools.py\u001b[0m in \u001b[0;36mprint_figure\u001b[0;34m(fig, fmt, bbox_inches, **kwargs)\u001b[0m\n\u001b[1;32m    123\u001b[0m \u001b[0;34m\u001b[0m\u001b[0m\n\u001b[1;32m    124\u001b[0m     \u001b[0mbytes_io\u001b[0m \u001b[0;34m=\u001b[0m \u001b[0mBytesIO\u001b[0m\u001b[0;34m(\u001b[0m\u001b[0;34m)\u001b[0m\u001b[0;34m\u001b[0m\u001b[0;34m\u001b[0m\u001b[0m\n\u001b[0;32m--> 125\u001b[0;31m     \u001b[0mfig\u001b[0m\u001b[0;34m.\u001b[0m\u001b[0mcanvas\u001b[0m\u001b[0;34m.\u001b[0m\u001b[0mprint_figure\u001b[0m\u001b[0;34m(\u001b[0m\u001b[0mbytes_io\u001b[0m\u001b[0;34m,\u001b[0m \u001b[0;34m**\u001b[0m\u001b[0mkw\u001b[0m\u001b[0;34m)\u001b[0m\u001b[0;34m\u001b[0m\u001b[0;34m\u001b[0m\u001b[0m\n\u001b[0m\u001b[1;32m    126\u001b[0m     \u001b[0mdata\u001b[0m \u001b[0;34m=\u001b[0m \u001b[0mbytes_io\u001b[0m\u001b[0;34m.\u001b[0m\u001b[0mgetvalue\u001b[0m\u001b[0;34m(\u001b[0m\u001b[0;34m)\u001b[0m\u001b[0;34m\u001b[0m\u001b[0;34m\u001b[0m\u001b[0m\n\u001b[1;32m    127\u001b[0m     \u001b[0;32mif\u001b[0m \u001b[0mfmt\u001b[0m \u001b[0;34m==\u001b[0m \u001b[0;34m'svg'\u001b[0m\u001b[0;34m:\u001b[0m\u001b[0;34m\u001b[0m\u001b[0;34m\u001b[0m\u001b[0m\n",
            "\u001b[0;32m/usr/local/lib/python3.7/dist-packages/matplotlib/backend_bases.py\u001b[0m in \u001b[0;36mprint_figure\u001b[0;34m(self, filename, dpi, facecolor, edgecolor, orientation, format, bbox_inches, **kwargs)\u001b[0m\n\u001b[1;32m   2092\u001b[0m         \u001b[0mratio\u001b[0m \u001b[0;34m:\u001b[0m \u001b[0mfloat\u001b[0m\u001b[0;34m\u001b[0m\u001b[0;34m\u001b[0m\u001b[0m\n\u001b[1;32m   2093\u001b[0m             \u001b[0mThe\u001b[0m \u001b[0mratio\u001b[0m \u001b[0mof\u001b[0m \u001b[0mlogical\u001b[0m \u001b[0mto\u001b[0m \u001b[0mphysical\u001b[0m \u001b[0mpixels\u001b[0m \u001b[0mused\u001b[0m \u001b[0;32mfor\u001b[0m \u001b[0mthe\u001b[0m \u001b[0mcanvas\u001b[0m\u001b[0;34m.\u001b[0m\u001b[0;34m\u001b[0m\u001b[0;34m\u001b[0m\u001b[0m\n\u001b[0;32m-> 2094\u001b[0;31m \u001b[0;34m\u001b[0m\u001b[0m\n\u001b[0m\u001b[1;32m   2095\u001b[0m         \u001b[0mReturns\u001b[0m\u001b[0;34m\u001b[0m\u001b[0;34m\u001b[0m\u001b[0m\n\u001b[1;32m   2096\u001b[0m         \u001b[0;34m-\u001b[0m\u001b[0;34m-\u001b[0m\u001b[0;34m-\u001b[0m\u001b[0;34m-\u001b[0m\u001b[0;34m-\u001b[0m\u001b[0;34m-\u001b[0m\u001b[0;34m-\u001b[0m\u001b[0;34m\u001b[0m\u001b[0;34m\u001b[0m\u001b[0m\n",
            "\u001b[0;32m/usr/local/lib/python3.7/dist-packages/matplotlib/backend_bases.py\u001b[0m in \u001b[0;36m_get_renderer\u001b[0;34m(figure, print_method)\u001b[0m\n\u001b[1;32m   1558\u001b[0m     \u001b[0mfigure\u001b[0m\u001b[0;34m.\u001b[0m\u001b[0mdraw_without_rendering\u001b[0m\u001b[0;34m(\u001b[0m\u001b[0;34m)\u001b[0m\u001b[0;34m\u001b[0m\u001b[0;34m\u001b[0m\u001b[0m\n\u001b[1;32m   1559\u001b[0m \u001b[0;34m\u001b[0m\u001b[0m\n\u001b[0;32m-> 1560\u001b[0;31m \u001b[0;34m\u001b[0m\u001b[0m\n\u001b[0m\u001b[1;32m   1561\u001b[0m \u001b[0;32mdef\u001b[0m \u001b[0m_is_non_interactive_terminal_ipython\u001b[0m\u001b[0;34m(\u001b[0m\u001b[0mip\u001b[0m\u001b[0;34m)\u001b[0m\u001b[0;34m:\u001b[0m\u001b[0;34m\u001b[0m\u001b[0;34m\u001b[0m\u001b[0m\n\u001b[1;32m   1562\u001b[0m     \"\"\"\n",
            "\u001b[0;32m/usr/local/lib/python3.7/dist-packages/matplotlib/backends/backend_agg.py\u001b[0m in \u001b[0;36mprint_png\u001b[0;34m(self, filename_or_obj, metadata, pil_kwargs, *args, **kwargs)\u001b[0m\n\u001b[1;32m    503\u001b[0m             \u001b[0mMetadata\u001b[0m \u001b[0;32min\u001b[0m \u001b[0mthe\u001b[0m \u001b[0mPNG\u001b[0m \u001b[0mfile\u001b[0m \u001b[0;32mas\u001b[0m \u001b[0mkey\u001b[0m\u001b[0;34m-\u001b[0m\u001b[0mvalue\u001b[0m \u001b[0mpairs\u001b[0m \u001b[0mof\u001b[0m \u001b[0mbytes\u001b[0m \u001b[0;32mor\u001b[0m \u001b[0mlatin\u001b[0m\u001b[0;34m-\u001b[0m\u001b[0;36m1\u001b[0m\u001b[0;34m\u001b[0m\u001b[0;34m\u001b[0m\u001b[0m\n\u001b[1;32m    504\u001b[0m             \u001b[0mencodable\u001b[0m \u001b[0mstrings\u001b[0m\u001b[0;34m.\u001b[0m\u001b[0;34m\u001b[0m\u001b[0;34m\u001b[0m\u001b[0m\n\u001b[0;32m--> 505\u001b[0;31m             \u001b[0mAccording\u001b[0m \u001b[0mto\u001b[0m \u001b[0mthe\u001b[0m \u001b[0mPNG\u001b[0m \u001b[0mspecification\u001b[0m\u001b[0;34m,\u001b[0m \u001b[0mkeys\u001b[0m \u001b[0mmust\u001b[0m \u001b[0mbe\u001b[0m \u001b[0mshorter\u001b[0m \u001b[0mthan\u001b[0m \u001b[0;36m79\u001b[0m\u001b[0;34m\u001b[0m\u001b[0;34m\u001b[0m\u001b[0m\n\u001b[0m\u001b[1;32m    506\u001b[0m             \u001b[0mchars\u001b[0m\u001b[0;34m.\u001b[0m\u001b[0;34m\u001b[0m\u001b[0;34m\u001b[0m\u001b[0m\n\u001b[1;32m    507\u001b[0m \u001b[0;34m\u001b[0m\u001b[0m\n",
            "\u001b[0;31mImportError\u001b[0m: cannot import name '_png' from 'matplotlib' (/usr/local/lib/python3.7/dist-packages/matplotlib/__init__.py)"
          ]
        },
        {
          "output_type": "display_data",
          "data": {
            "text/plain": [
              "<Figure size 1500x400 with 1 Axes>"
            ]
          },
          "metadata": {}
        },
        {
          "output_type": "error",
          "ename": "ImportError",
          "evalue": "ignored",
          "traceback": [
            "\u001b[0;31m---------------------------------------------------------------------------\u001b[0m",
            "\u001b[0;31mImportError\u001b[0m                               Traceback (most recent call last)",
            "\u001b[0;32m/usr/local/lib/python3.7/dist-packages/IPython/core/formatters.py\u001b[0m in \u001b[0;36m__call__\u001b[0;34m(self, obj)\u001b[0m\n\u001b[1;32m    332\u001b[0m                 \u001b[0;32mpass\u001b[0m\u001b[0;34m\u001b[0m\u001b[0;34m\u001b[0m\u001b[0m\n\u001b[1;32m    333\u001b[0m             \u001b[0;32melse\u001b[0m\u001b[0;34m:\u001b[0m\u001b[0;34m\u001b[0m\u001b[0;34m\u001b[0m\u001b[0m\n\u001b[0;32m--> 334\u001b[0;31m                 \u001b[0;32mreturn\u001b[0m \u001b[0mprinter\u001b[0m\u001b[0;34m(\u001b[0m\u001b[0mobj\u001b[0m\u001b[0;34m)\u001b[0m\u001b[0;34m\u001b[0m\u001b[0;34m\u001b[0m\u001b[0m\n\u001b[0m\u001b[1;32m    335\u001b[0m             \u001b[0;31m# Finally look for special method names\u001b[0m\u001b[0;34m\u001b[0m\u001b[0;34m\u001b[0m\u001b[0;34m\u001b[0m\u001b[0m\n\u001b[1;32m    336\u001b[0m             \u001b[0mmethod\u001b[0m \u001b[0;34m=\u001b[0m \u001b[0mget_real_method\u001b[0m\u001b[0;34m(\u001b[0m\u001b[0mobj\u001b[0m\u001b[0;34m,\u001b[0m \u001b[0mself\u001b[0m\u001b[0;34m.\u001b[0m\u001b[0mprint_method\u001b[0m\u001b[0;34m)\u001b[0m\u001b[0;34m\u001b[0m\u001b[0;34m\u001b[0m\u001b[0m\n",
            "\u001b[0;32m/usr/local/lib/python3.7/dist-packages/IPython/core/pylabtools.py\u001b[0m in \u001b[0;36m<lambda>\u001b[0;34m(fig)\u001b[0m\n\u001b[1;32m    239\u001b[0m \u001b[0;34m\u001b[0m\u001b[0m\n\u001b[1;32m    240\u001b[0m     \u001b[0;32mif\u001b[0m \u001b[0;34m'png'\u001b[0m \u001b[0;32min\u001b[0m \u001b[0mformats\u001b[0m\u001b[0;34m:\u001b[0m\u001b[0;34m\u001b[0m\u001b[0;34m\u001b[0m\u001b[0m\n\u001b[0;32m--> 241\u001b[0;31m         \u001b[0mpng_formatter\u001b[0m\u001b[0;34m.\u001b[0m\u001b[0mfor_type\u001b[0m\u001b[0;34m(\u001b[0m\u001b[0mFigure\u001b[0m\u001b[0;34m,\u001b[0m \u001b[0;32mlambda\u001b[0m \u001b[0mfig\u001b[0m\u001b[0;34m:\u001b[0m \u001b[0mprint_figure\u001b[0m\u001b[0;34m(\u001b[0m\u001b[0mfig\u001b[0m\u001b[0;34m,\u001b[0m \u001b[0;34m'png'\u001b[0m\u001b[0;34m,\u001b[0m \u001b[0;34m**\u001b[0m\u001b[0mkwargs\u001b[0m\u001b[0;34m)\u001b[0m\u001b[0;34m)\u001b[0m\u001b[0;34m\u001b[0m\u001b[0;34m\u001b[0m\u001b[0m\n\u001b[0m\u001b[1;32m    242\u001b[0m     \u001b[0;32mif\u001b[0m \u001b[0;34m'retina'\u001b[0m \u001b[0;32min\u001b[0m \u001b[0mformats\u001b[0m \u001b[0;32mor\u001b[0m \u001b[0;34m'png2x'\u001b[0m \u001b[0;32min\u001b[0m \u001b[0mformats\u001b[0m\u001b[0;34m:\u001b[0m\u001b[0;34m\u001b[0m\u001b[0;34m\u001b[0m\u001b[0m\n\u001b[1;32m    243\u001b[0m         \u001b[0mpng_formatter\u001b[0m\u001b[0;34m.\u001b[0m\u001b[0mfor_type\u001b[0m\u001b[0;34m(\u001b[0m\u001b[0mFigure\u001b[0m\u001b[0;34m,\u001b[0m \u001b[0;32mlambda\u001b[0m \u001b[0mfig\u001b[0m\u001b[0;34m:\u001b[0m \u001b[0mretina_figure\u001b[0m\u001b[0;34m(\u001b[0m\u001b[0mfig\u001b[0m\u001b[0;34m,\u001b[0m \u001b[0;34m**\u001b[0m\u001b[0mkwargs\u001b[0m\u001b[0;34m)\u001b[0m\u001b[0;34m)\u001b[0m\u001b[0;34m\u001b[0m\u001b[0;34m\u001b[0m\u001b[0m\n",
            "\u001b[0;32m/usr/local/lib/python3.7/dist-packages/IPython/core/pylabtools.py\u001b[0m in \u001b[0;36mprint_figure\u001b[0;34m(fig, fmt, bbox_inches, **kwargs)\u001b[0m\n\u001b[1;32m    123\u001b[0m \u001b[0;34m\u001b[0m\u001b[0m\n\u001b[1;32m    124\u001b[0m     \u001b[0mbytes_io\u001b[0m \u001b[0;34m=\u001b[0m \u001b[0mBytesIO\u001b[0m\u001b[0;34m(\u001b[0m\u001b[0;34m)\u001b[0m\u001b[0;34m\u001b[0m\u001b[0;34m\u001b[0m\u001b[0m\n\u001b[0;32m--> 125\u001b[0;31m     \u001b[0mfig\u001b[0m\u001b[0;34m.\u001b[0m\u001b[0mcanvas\u001b[0m\u001b[0;34m.\u001b[0m\u001b[0mprint_figure\u001b[0m\u001b[0;34m(\u001b[0m\u001b[0mbytes_io\u001b[0m\u001b[0;34m,\u001b[0m \u001b[0;34m**\u001b[0m\u001b[0mkw\u001b[0m\u001b[0;34m)\u001b[0m\u001b[0;34m\u001b[0m\u001b[0;34m\u001b[0m\u001b[0m\n\u001b[0m\u001b[1;32m    126\u001b[0m     \u001b[0mdata\u001b[0m \u001b[0;34m=\u001b[0m \u001b[0mbytes_io\u001b[0m\u001b[0;34m.\u001b[0m\u001b[0mgetvalue\u001b[0m\u001b[0;34m(\u001b[0m\u001b[0;34m)\u001b[0m\u001b[0;34m\u001b[0m\u001b[0;34m\u001b[0m\u001b[0m\n\u001b[1;32m    127\u001b[0m     \u001b[0;32mif\u001b[0m \u001b[0mfmt\u001b[0m \u001b[0;34m==\u001b[0m \u001b[0;34m'svg'\u001b[0m\u001b[0;34m:\u001b[0m\u001b[0;34m\u001b[0m\u001b[0;34m\u001b[0m\u001b[0m\n",
            "\u001b[0;32m/usr/local/lib/python3.7/dist-packages/matplotlib/backend_bases.py\u001b[0m in \u001b[0;36mprint_figure\u001b[0;34m(self, filename, dpi, facecolor, edgecolor, orientation, format, bbox_inches, **kwargs)\u001b[0m\n\u001b[1;32m   2092\u001b[0m         \u001b[0mratio\u001b[0m \u001b[0;34m:\u001b[0m \u001b[0mfloat\u001b[0m\u001b[0;34m\u001b[0m\u001b[0;34m\u001b[0m\u001b[0m\n\u001b[1;32m   2093\u001b[0m             \u001b[0mThe\u001b[0m \u001b[0mratio\u001b[0m \u001b[0mof\u001b[0m \u001b[0mlogical\u001b[0m \u001b[0mto\u001b[0m \u001b[0mphysical\u001b[0m \u001b[0mpixels\u001b[0m \u001b[0mused\u001b[0m \u001b[0;32mfor\u001b[0m \u001b[0mthe\u001b[0m \u001b[0mcanvas\u001b[0m\u001b[0;34m.\u001b[0m\u001b[0;34m\u001b[0m\u001b[0;34m\u001b[0m\u001b[0m\n\u001b[0;32m-> 2094\u001b[0;31m \u001b[0;34m\u001b[0m\u001b[0m\n\u001b[0m\u001b[1;32m   2095\u001b[0m         \u001b[0mReturns\u001b[0m\u001b[0;34m\u001b[0m\u001b[0;34m\u001b[0m\u001b[0m\n\u001b[1;32m   2096\u001b[0m         \u001b[0;34m-\u001b[0m\u001b[0;34m-\u001b[0m\u001b[0;34m-\u001b[0m\u001b[0;34m-\u001b[0m\u001b[0;34m-\u001b[0m\u001b[0;34m-\u001b[0m\u001b[0;34m-\u001b[0m\u001b[0;34m\u001b[0m\u001b[0;34m\u001b[0m\u001b[0m\n",
            "\u001b[0;32m/usr/local/lib/python3.7/dist-packages/matplotlib/backend_bases.py\u001b[0m in \u001b[0;36m_get_renderer\u001b[0;34m(figure, print_method)\u001b[0m\n\u001b[1;32m   1558\u001b[0m     \u001b[0mfigure\u001b[0m\u001b[0;34m.\u001b[0m\u001b[0mdraw_without_rendering\u001b[0m\u001b[0;34m(\u001b[0m\u001b[0;34m)\u001b[0m\u001b[0;34m\u001b[0m\u001b[0;34m\u001b[0m\u001b[0m\n\u001b[1;32m   1559\u001b[0m \u001b[0;34m\u001b[0m\u001b[0m\n\u001b[0;32m-> 1560\u001b[0;31m \u001b[0;34m\u001b[0m\u001b[0m\n\u001b[0m\u001b[1;32m   1561\u001b[0m \u001b[0;32mdef\u001b[0m \u001b[0m_is_non_interactive_terminal_ipython\u001b[0m\u001b[0;34m(\u001b[0m\u001b[0mip\u001b[0m\u001b[0;34m)\u001b[0m\u001b[0;34m:\u001b[0m\u001b[0;34m\u001b[0m\u001b[0;34m\u001b[0m\u001b[0m\n\u001b[1;32m   1562\u001b[0m     \"\"\"\n",
            "\u001b[0;32m/usr/local/lib/python3.7/dist-packages/matplotlib/backends/backend_agg.py\u001b[0m in \u001b[0;36mprint_png\u001b[0;34m(self, filename_or_obj, metadata, pil_kwargs, *args, **kwargs)\u001b[0m\n\u001b[1;32m    503\u001b[0m             \u001b[0mMetadata\u001b[0m \u001b[0;32min\u001b[0m \u001b[0mthe\u001b[0m \u001b[0mPNG\u001b[0m \u001b[0mfile\u001b[0m \u001b[0;32mas\u001b[0m \u001b[0mkey\u001b[0m\u001b[0;34m-\u001b[0m\u001b[0mvalue\u001b[0m \u001b[0mpairs\u001b[0m \u001b[0mof\u001b[0m \u001b[0mbytes\u001b[0m \u001b[0;32mor\u001b[0m \u001b[0mlatin\u001b[0m\u001b[0;34m-\u001b[0m\u001b[0;36m1\u001b[0m\u001b[0;34m\u001b[0m\u001b[0;34m\u001b[0m\u001b[0m\n\u001b[1;32m    504\u001b[0m             \u001b[0mencodable\u001b[0m \u001b[0mstrings\u001b[0m\u001b[0;34m.\u001b[0m\u001b[0;34m\u001b[0m\u001b[0;34m\u001b[0m\u001b[0m\n\u001b[0;32m--> 505\u001b[0;31m             \u001b[0mAccording\u001b[0m \u001b[0mto\u001b[0m \u001b[0mthe\u001b[0m \u001b[0mPNG\u001b[0m \u001b[0mspecification\u001b[0m\u001b[0;34m,\u001b[0m \u001b[0mkeys\u001b[0m \u001b[0mmust\u001b[0m \u001b[0mbe\u001b[0m \u001b[0mshorter\u001b[0m \u001b[0mthan\u001b[0m \u001b[0;36m79\u001b[0m\u001b[0;34m\u001b[0m\u001b[0;34m\u001b[0m\u001b[0m\n\u001b[0m\u001b[1;32m    506\u001b[0m             \u001b[0mchars\u001b[0m\u001b[0;34m.\u001b[0m\u001b[0;34m\u001b[0m\u001b[0;34m\u001b[0m\u001b[0m\n\u001b[1;32m    507\u001b[0m \u001b[0;34m\u001b[0m\u001b[0m\n",
            "\u001b[0;31mImportError\u001b[0m: cannot import name '_png' from 'matplotlib' (/usr/local/lib/python3.7/dist-packages/matplotlib/__init__.py)"
          ]
        },
        {
          "output_type": "display_data",
          "data": {
            "text/plain": [
              "<Figure size 1500x400 with 1 Axes>"
            ]
          },
          "metadata": {}
        },
        {
          "output_type": "error",
          "ename": "ImportError",
          "evalue": "ignored",
          "traceback": [
            "\u001b[0;31m---------------------------------------------------------------------------\u001b[0m",
            "\u001b[0;31mImportError\u001b[0m                               Traceback (most recent call last)",
            "\u001b[0;32m/usr/local/lib/python3.7/dist-packages/IPython/core/formatters.py\u001b[0m in \u001b[0;36m__call__\u001b[0;34m(self, obj)\u001b[0m\n\u001b[1;32m    332\u001b[0m                 \u001b[0;32mpass\u001b[0m\u001b[0;34m\u001b[0m\u001b[0;34m\u001b[0m\u001b[0m\n\u001b[1;32m    333\u001b[0m             \u001b[0;32melse\u001b[0m\u001b[0;34m:\u001b[0m\u001b[0;34m\u001b[0m\u001b[0;34m\u001b[0m\u001b[0m\n\u001b[0;32m--> 334\u001b[0;31m                 \u001b[0;32mreturn\u001b[0m \u001b[0mprinter\u001b[0m\u001b[0;34m(\u001b[0m\u001b[0mobj\u001b[0m\u001b[0;34m)\u001b[0m\u001b[0;34m\u001b[0m\u001b[0;34m\u001b[0m\u001b[0m\n\u001b[0m\u001b[1;32m    335\u001b[0m             \u001b[0;31m# Finally look for special method names\u001b[0m\u001b[0;34m\u001b[0m\u001b[0;34m\u001b[0m\u001b[0;34m\u001b[0m\u001b[0m\n\u001b[1;32m    336\u001b[0m             \u001b[0mmethod\u001b[0m \u001b[0;34m=\u001b[0m \u001b[0mget_real_method\u001b[0m\u001b[0;34m(\u001b[0m\u001b[0mobj\u001b[0m\u001b[0;34m,\u001b[0m \u001b[0mself\u001b[0m\u001b[0;34m.\u001b[0m\u001b[0mprint_method\u001b[0m\u001b[0;34m)\u001b[0m\u001b[0;34m\u001b[0m\u001b[0;34m\u001b[0m\u001b[0m\n",
            "\u001b[0;32m/usr/local/lib/python3.7/dist-packages/IPython/core/pylabtools.py\u001b[0m in \u001b[0;36m<lambda>\u001b[0;34m(fig)\u001b[0m\n\u001b[1;32m    239\u001b[0m \u001b[0;34m\u001b[0m\u001b[0m\n\u001b[1;32m    240\u001b[0m     \u001b[0;32mif\u001b[0m \u001b[0;34m'png'\u001b[0m \u001b[0;32min\u001b[0m \u001b[0mformats\u001b[0m\u001b[0;34m:\u001b[0m\u001b[0;34m\u001b[0m\u001b[0;34m\u001b[0m\u001b[0m\n\u001b[0;32m--> 241\u001b[0;31m         \u001b[0mpng_formatter\u001b[0m\u001b[0;34m.\u001b[0m\u001b[0mfor_type\u001b[0m\u001b[0;34m(\u001b[0m\u001b[0mFigure\u001b[0m\u001b[0;34m,\u001b[0m \u001b[0;32mlambda\u001b[0m \u001b[0mfig\u001b[0m\u001b[0;34m:\u001b[0m \u001b[0mprint_figure\u001b[0m\u001b[0;34m(\u001b[0m\u001b[0mfig\u001b[0m\u001b[0;34m,\u001b[0m \u001b[0;34m'png'\u001b[0m\u001b[0;34m,\u001b[0m \u001b[0;34m**\u001b[0m\u001b[0mkwargs\u001b[0m\u001b[0;34m)\u001b[0m\u001b[0;34m)\u001b[0m\u001b[0;34m\u001b[0m\u001b[0;34m\u001b[0m\u001b[0m\n\u001b[0m\u001b[1;32m    242\u001b[0m     \u001b[0;32mif\u001b[0m \u001b[0;34m'retina'\u001b[0m \u001b[0;32min\u001b[0m \u001b[0mformats\u001b[0m \u001b[0;32mor\u001b[0m \u001b[0;34m'png2x'\u001b[0m \u001b[0;32min\u001b[0m \u001b[0mformats\u001b[0m\u001b[0;34m:\u001b[0m\u001b[0;34m\u001b[0m\u001b[0;34m\u001b[0m\u001b[0m\n\u001b[1;32m    243\u001b[0m         \u001b[0mpng_formatter\u001b[0m\u001b[0;34m.\u001b[0m\u001b[0mfor_type\u001b[0m\u001b[0;34m(\u001b[0m\u001b[0mFigure\u001b[0m\u001b[0;34m,\u001b[0m \u001b[0;32mlambda\u001b[0m \u001b[0mfig\u001b[0m\u001b[0;34m:\u001b[0m \u001b[0mretina_figure\u001b[0m\u001b[0;34m(\u001b[0m\u001b[0mfig\u001b[0m\u001b[0;34m,\u001b[0m \u001b[0;34m**\u001b[0m\u001b[0mkwargs\u001b[0m\u001b[0;34m)\u001b[0m\u001b[0;34m)\u001b[0m\u001b[0;34m\u001b[0m\u001b[0;34m\u001b[0m\u001b[0m\n",
            "\u001b[0;32m/usr/local/lib/python3.7/dist-packages/IPython/core/pylabtools.py\u001b[0m in \u001b[0;36mprint_figure\u001b[0;34m(fig, fmt, bbox_inches, **kwargs)\u001b[0m\n\u001b[1;32m    123\u001b[0m \u001b[0;34m\u001b[0m\u001b[0m\n\u001b[1;32m    124\u001b[0m     \u001b[0mbytes_io\u001b[0m \u001b[0;34m=\u001b[0m \u001b[0mBytesIO\u001b[0m\u001b[0;34m(\u001b[0m\u001b[0;34m)\u001b[0m\u001b[0;34m\u001b[0m\u001b[0;34m\u001b[0m\u001b[0m\n\u001b[0;32m--> 125\u001b[0;31m     \u001b[0mfig\u001b[0m\u001b[0;34m.\u001b[0m\u001b[0mcanvas\u001b[0m\u001b[0;34m.\u001b[0m\u001b[0mprint_figure\u001b[0m\u001b[0;34m(\u001b[0m\u001b[0mbytes_io\u001b[0m\u001b[0;34m,\u001b[0m \u001b[0;34m**\u001b[0m\u001b[0mkw\u001b[0m\u001b[0;34m)\u001b[0m\u001b[0;34m\u001b[0m\u001b[0;34m\u001b[0m\u001b[0m\n\u001b[0m\u001b[1;32m    126\u001b[0m     \u001b[0mdata\u001b[0m \u001b[0;34m=\u001b[0m \u001b[0mbytes_io\u001b[0m\u001b[0;34m.\u001b[0m\u001b[0mgetvalue\u001b[0m\u001b[0;34m(\u001b[0m\u001b[0;34m)\u001b[0m\u001b[0;34m\u001b[0m\u001b[0;34m\u001b[0m\u001b[0m\n\u001b[1;32m    127\u001b[0m     \u001b[0;32mif\u001b[0m \u001b[0mfmt\u001b[0m \u001b[0;34m==\u001b[0m \u001b[0;34m'svg'\u001b[0m\u001b[0;34m:\u001b[0m\u001b[0;34m\u001b[0m\u001b[0;34m\u001b[0m\u001b[0m\n",
            "\u001b[0;32m/usr/local/lib/python3.7/dist-packages/matplotlib/backend_bases.py\u001b[0m in \u001b[0;36mprint_figure\u001b[0;34m(self, filename, dpi, facecolor, edgecolor, orientation, format, bbox_inches, **kwargs)\u001b[0m\n\u001b[1;32m   2092\u001b[0m         \u001b[0mratio\u001b[0m \u001b[0;34m:\u001b[0m \u001b[0mfloat\u001b[0m\u001b[0;34m\u001b[0m\u001b[0;34m\u001b[0m\u001b[0m\n\u001b[1;32m   2093\u001b[0m             \u001b[0mThe\u001b[0m \u001b[0mratio\u001b[0m \u001b[0mof\u001b[0m \u001b[0mlogical\u001b[0m \u001b[0mto\u001b[0m \u001b[0mphysical\u001b[0m \u001b[0mpixels\u001b[0m \u001b[0mused\u001b[0m \u001b[0;32mfor\u001b[0m \u001b[0mthe\u001b[0m \u001b[0mcanvas\u001b[0m\u001b[0;34m.\u001b[0m\u001b[0;34m\u001b[0m\u001b[0;34m\u001b[0m\u001b[0m\n\u001b[0;32m-> 2094\u001b[0;31m \u001b[0;34m\u001b[0m\u001b[0m\n\u001b[0m\u001b[1;32m   2095\u001b[0m         \u001b[0mReturns\u001b[0m\u001b[0;34m\u001b[0m\u001b[0;34m\u001b[0m\u001b[0m\n\u001b[1;32m   2096\u001b[0m         \u001b[0;34m-\u001b[0m\u001b[0;34m-\u001b[0m\u001b[0;34m-\u001b[0m\u001b[0;34m-\u001b[0m\u001b[0;34m-\u001b[0m\u001b[0;34m-\u001b[0m\u001b[0;34m-\u001b[0m\u001b[0;34m\u001b[0m\u001b[0;34m\u001b[0m\u001b[0m\n",
            "\u001b[0;32m/usr/local/lib/python3.7/dist-packages/matplotlib/backend_bases.py\u001b[0m in \u001b[0;36m_get_renderer\u001b[0;34m(figure, print_method)\u001b[0m\n\u001b[1;32m   1558\u001b[0m     \u001b[0mfigure\u001b[0m\u001b[0;34m.\u001b[0m\u001b[0mdraw_without_rendering\u001b[0m\u001b[0;34m(\u001b[0m\u001b[0;34m)\u001b[0m\u001b[0;34m\u001b[0m\u001b[0;34m\u001b[0m\u001b[0m\n\u001b[1;32m   1559\u001b[0m \u001b[0;34m\u001b[0m\u001b[0m\n\u001b[0;32m-> 1560\u001b[0;31m \u001b[0;34m\u001b[0m\u001b[0m\n\u001b[0m\u001b[1;32m   1561\u001b[0m \u001b[0;32mdef\u001b[0m \u001b[0m_is_non_interactive_terminal_ipython\u001b[0m\u001b[0;34m(\u001b[0m\u001b[0mip\u001b[0m\u001b[0;34m)\u001b[0m\u001b[0;34m:\u001b[0m\u001b[0;34m\u001b[0m\u001b[0;34m\u001b[0m\u001b[0m\n\u001b[1;32m   1562\u001b[0m     \"\"\"\n",
            "\u001b[0;32m/usr/local/lib/python3.7/dist-packages/matplotlib/backends/backend_agg.py\u001b[0m in \u001b[0;36mprint_png\u001b[0;34m(self, filename_or_obj, metadata, pil_kwargs, *args, **kwargs)\u001b[0m\n\u001b[1;32m    503\u001b[0m             \u001b[0mMetadata\u001b[0m \u001b[0;32min\u001b[0m \u001b[0mthe\u001b[0m \u001b[0mPNG\u001b[0m \u001b[0mfile\u001b[0m \u001b[0;32mas\u001b[0m \u001b[0mkey\u001b[0m\u001b[0;34m-\u001b[0m\u001b[0mvalue\u001b[0m \u001b[0mpairs\u001b[0m \u001b[0mof\u001b[0m \u001b[0mbytes\u001b[0m \u001b[0;32mor\u001b[0m \u001b[0mlatin\u001b[0m\u001b[0;34m-\u001b[0m\u001b[0;36m1\u001b[0m\u001b[0;34m\u001b[0m\u001b[0;34m\u001b[0m\u001b[0m\n\u001b[1;32m    504\u001b[0m             \u001b[0mencodable\u001b[0m \u001b[0mstrings\u001b[0m\u001b[0;34m.\u001b[0m\u001b[0;34m\u001b[0m\u001b[0;34m\u001b[0m\u001b[0m\n\u001b[0;32m--> 505\u001b[0;31m             \u001b[0mAccording\u001b[0m \u001b[0mto\u001b[0m \u001b[0mthe\u001b[0m \u001b[0mPNG\u001b[0m \u001b[0mspecification\u001b[0m\u001b[0;34m,\u001b[0m \u001b[0mkeys\u001b[0m \u001b[0mmust\u001b[0m \u001b[0mbe\u001b[0m \u001b[0mshorter\u001b[0m \u001b[0mthan\u001b[0m \u001b[0;36m79\u001b[0m\u001b[0;34m\u001b[0m\u001b[0;34m\u001b[0m\u001b[0m\n\u001b[0m\u001b[1;32m    506\u001b[0m             \u001b[0mchars\u001b[0m\u001b[0;34m.\u001b[0m\u001b[0;34m\u001b[0m\u001b[0;34m\u001b[0m\u001b[0m\n\u001b[1;32m    507\u001b[0m \u001b[0;34m\u001b[0m\u001b[0m\n",
            "\u001b[0;31mImportError\u001b[0m: cannot import name '_png' from 'matplotlib' (/usr/local/lib/python3.7/dist-packages/matplotlib/__init__.py)"
          ]
        },
        {
          "output_type": "display_data",
          "data": {
            "text/plain": [
              "<Figure size 2000x2000 with 2 Axes>"
            ]
          },
          "metadata": {}
        },
        {
          "output_type": "stream",
          "name": "stdout",
          "text": [
            "No categorical or numeric vars in data set. Hence no bar charts.\n",
            "All Plots done\n",
            "Time to run AutoViz = 11 seconds \n",
            "\n",
            " ###################### AUTO VISUALIZATION Completed ########################\n"
          ]
        }
      ]
    },
    {
      "cell_type": "code",
      "source": [
        "pip install pandas-profiling notebook"
      ],
      "metadata": {
        "colab": {
          "base_uri": "https://localhost:8080/"
        },
        "id": "16uP0UOAaI2M",
        "outputId": "b2b5f876-585f-4cf9-8b95-b065ef431c02"
      },
      "execution_count": 251,
      "outputs": [
        {
          "output_type": "stream",
          "name": "stdout",
          "text": [
            "Requirement already satisfied: pandas-profiling in /usr/local/lib/python3.6/site-packages (3.1.1)\n",
            "Requirement already satisfied: notebook in /usr/local/lib/python3.6/site-packages (6.4.6)\n",
            "Requirement already satisfied: scipy>=1.4.1 in /usr/local/lib/python3.6/site-packages (from pandas-profiling) (1.5.3)\n",
            "Requirement already satisfied: pandas!=1.0.0,!=1.0.1,!=1.0.2,!=1.1.0,>=0.25.3 in /usr/local/lib/python3.6/site-packages (from pandas-profiling) (1.1.5)\n",
            "Requirement already satisfied: visions[type_image_path]==0.7.4 in /usr/local/lib/python3.6/site-packages (from pandas-profiling) (0.7.4)\n",
            "Requirement already satisfied: numpy>=1.16.0 in /usr/local/lib/python3.6/site-packages (from pandas-profiling) (1.19.5)\n",
            "Requirement already satisfied: missingno>=0.4.2 in /usr/local/lib/python3.6/site-packages (from pandas-profiling) (0.5.0)\n",
            "Requirement already satisfied: seaborn>=0.10.1 in /usr/local/lib/python3.6/site-packages (from pandas-profiling) (0.11.2)\n",
            "Requirement already satisfied: multimethod>=1.4 in /usr/local/lib/python3.6/site-packages (from pandas-profiling) (1.5)\n",
            "Requirement already satisfied: pydantic>=1.8.1 in /usr/local/lib/python3.6/site-packages (from pandas-profiling) (1.9.0)\n",
            "Requirement already satisfied: PyYAML>=5.0.0 in /usr/local/lib/python3.6/site-packages (from pandas-profiling) (6.0)\n",
            "Requirement already satisfied: htmlmin>=0.1.12 in /usr/local/lib/python3.6/site-packages (from pandas-profiling) (0.1.12)\n",
            "Requirement already satisfied: jinja2>=2.11.1 in /usr/local/lib/python3.6/site-packages (from pandas-profiling) (3.0.3)\n",
            "Requirement already satisfied: markupsafe~=2.0.1 in /usr/local/lib/python3.6/site-packages (from pandas-profiling) (2.0.1)\n",
            "Requirement already satisfied: phik>=0.11.1 in /usr/local/lib/python3.6/site-packages (from pandas-profiling) (0.12.0)\n",
            "Requirement already satisfied: matplotlib>=3.2.0 in /usr/local/lib/python3.6/site-packages (from pandas-profiling) (3.3.4)\n",
            "Requirement already satisfied: joblib~=1.1.0 in /usr/local/lib/python3.6/site-packages (from pandas-profiling) (1.1.0)\n",
            "Requirement already satisfied: requests>=2.24.0 in /usr/local/lib/python3.6/site-packages (from pandas-profiling) (2.26.0)\n",
            "Requirement already satisfied: tangled-up-in-unicode==0.2.0 in /usr/local/lib/python3.6/site-packages (from pandas-profiling) (0.2.0)\n",
            "Requirement already satisfied: tqdm>=4.48.2 in /usr/local/lib/python3.6/site-packages (from pandas-profiling) (4.62.3)\n",
            "Requirement already satisfied: attrs>=19.3.0 in /usr/local/lib/python3.6/site-packages (from visions[type_image_path]==0.7.4->pandas-profiling) (21.4.0)\n",
            "Requirement already satisfied: networkx>=2.4 in /usr/local/lib/python3.6/site-packages (from visions[type_image_path]==0.7.4->pandas-profiling) (2.5.1)\n",
            "Requirement already satisfied: Pillow in /usr/local/lib/python3.6/site-packages (from visions[type_image_path]==0.7.4->pandas-profiling) (8.4.0)\n",
            "Requirement already satisfied: imagehash in /usr/local/lib/python3.6/site-packages (from visions[type_image_path]==0.7.4->pandas-profiling) (4.2.1)\n",
            "Requirement already satisfied: pyzmq>=17 in /usr/local/lib/python3.6/site-packages (from notebook) (22.3.0)\n",
            "Requirement already satisfied: Send2Trash>=1.8.0 in /usr/local/lib/python3.6/site-packages (from notebook) (1.8.0)\n",
            "Requirement already satisfied: terminado>=0.8.3 in /usr/local/lib/python3.6/site-packages (from notebook) (0.12.1)\n",
            "Requirement already satisfied: jupyter-client>=5.3.4 in /usr/local/lib/python3.6/site-packages (from notebook) (7.1.0)\n",
            "Requirement already satisfied: nbconvert in /usr/local/lib/python3.6/site-packages (from notebook) (6.0.7)\n",
            "Requirement already satisfied: argon2-cffi in /usr/local/lib/python3.6/site-packages (from notebook) (21.3.0)\n",
            "Requirement already satisfied: nbformat in /usr/local/lib/python3.6/site-packages (from notebook) (5.1.3)\n",
            "Requirement already satisfied: nest-asyncio>=1.5 in /usr/local/lib/python3.6/site-packages (from notebook) (1.5.4)\n",
            "Requirement already satisfied: jupyter-core>=4.6.1 in /usr/local/lib/python3.6/site-packages (from notebook) (4.9.1)\n",
            "Requirement already satisfied: traitlets>=4.2.1 in /usr/local/lib/python3.6/site-packages (from notebook) (4.3.3)\n",
            "Requirement already satisfied: ipykernel in /usr/local/lib/python3.6/site-packages (from notebook) (5.5.6)\n",
            "Requirement already satisfied: ipython-genutils in /usr/local/lib/python3.6/site-packages (from notebook) (0.2.0)\n",
            "Requirement already satisfied: tornado>=6.1 in /usr/local/lib/python3.6/site-packages (from notebook) (6.1)\n",
            "Requirement already satisfied: prometheus-client in /usr/local/lib/python3.6/site-packages (from notebook) (0.12.0)\n",
            "Requirement already satisfied: python-dateutil>=2.1 in /usr/local/lib/python3.6/site-packages (from jupyter-client>=5.3.4->notebook) (2.8.2)\n",
            "Requirement already satisfied: entrypoints in /usr/local/lib/python3.6/site-packages (from jupyter-client>=5.3.4->notebook) (0.3)\n",
            "Requirement already satisfied: cycler>=0.10 in /usr/local/lib/python3.6/site-packages (from matplotlib>=3.2.0->pandas-profiling) (0.11.0)\n",
            "Requirement already satisfied: kiwisolver>=1.0.1 in /usr/local/lib/python3.6/site-packages (from matplotlib>=3.2.0->pandas-profiling) (1.3.1)\n",
            "Requirement already satisfied: pyparsing!=2.0.4,!=2.1.2,!=2.1.6,>=2.0.3 in /usr/local/lib/python3.6/site-packages (from matplotlib>=3.2.0->pandas-profiling) (3.0.6)\n",
            "Requirement already satisfied: decorator<5,>=4.3 in /usr/local/lib/python3.6/site-packages (from networkx>=2.4->visions[type_image_path]==0.7.4->pandas-profiling) (4.4.2)\n",
            "Requirement already satisfied: pytz>=2017.2 in /usr/local/lib/python3.6/site-packages (from pandas!=1.0.0,!=1.0.1,!=1.0.2,!=1.1.0,>=0.25.3->pandas-profiling) (2021.3)\n",
            "Requirement already satisfied: dataclasses>=0.6 in /usr/local/lib/python3.6/site-packages (from pydantic>=1.8.1->pandas-profiling) (0.8)\n",
            "Requirement already satisfied: typing-extensions>=3.7.4.3 in /usr/local/lib/python3.6/site-packages (from pydantic>=1.8.1->pandas-profiling) (4.0.1)\n",
            "Requirement already satisfied: six>=1.5 in /usr/local/lib/python3.6/site-packages (from python-dateutil>=2.1->jupyter-client>=5.3.4->notebook) (1.16.0)\n",
            "Requirement already satisfied: idna<4,>=2.5 in /usr/local/lib/python3.6/site-packages (from requests>=2.24.0->pandas-profiling) (3.3)\n",
            "Requirement already satisfied: certifi>=2017.4.17 in /usr/local/lib/python3.6/site-packages (from requests>=2.24.0->pandas-profiling) (2021.5.30)\n",
            "Requirement already satisfied: charset-normalizer~=2.0.0 in /usr/local/lib/python3.6/site-packages (from requests>=2.24.0->pandas-profiling) (2.0.4)\n",
            "Requirement already satisfied: urllib3<1.27,>=1.21.1 in /usr/local/lib/python3.6/site-packages (from requests>=2.24.0->pandas-profiling) (1.26.7)\n",
            "Requirement already satisfied: ptyprocess in /usr/local/lib/python3.6/site-packages (from terminado>=0.8.3->notebook) (0.7.0)\n",
            "Requirement already satisfied: argon2-cffi-bindings in /usr/local/lib/python3.6/site-packages (from argon2-cffi->notebook) (21.2.0)\n",
            "Requirement already satisfied: cffi>=1.0.1 in /usr/local/lib/python3.6/site-packages (from argon2-cffi-bindings->argon2-cffi->notebook) (1.14.6)\n",
            "Requirement already satisfied: pycparser in /usr/local/lib/python3.6/site-packages (from cffi>=1.0.1->argon2-cffi-bindings->argon2-cffi->notebook) (2.21)\n",
            "Requirement already satisfied: PyWavelets in /usr/local/lib/python3.6/site-packages (from imagehash->visions[type_image_path]==0.7.4->pandas-profiling) (1.1.1)\n",
            "Requirement already satisfied: ipython>=5.0.0 in /usr/local/lib/python3.6/site-packages (from ipykernel->notebook) (7.16.2)\n",
            "Requirement already satisfied: pygments in /usr/local/lib/python3.6/site-packages (from ipython>=5.0.0->ipykernel->notebook) (2.11.2)\n",
            "Requirement already satisfied: pickleshare in /usr/local/lib/python3.6/site-packages (from ipython>=5.0.0->ipykernel->notebook) (0.7.5)\n",
            "Requirement already satisfied: setuptools>=18.5 in /usr/local/lib/python3.6/site-packages (from ipython>=5.0.0->ipykernel->notebook) (58.0.4)\n",
            "Requirement already satisfied: prompt-toolkit!=3.0.0,!=3.0.1,<3.1.0,>=2.0.0 in /usr/local/lib/python3.6/site-packages (from ipython>=5.0.0->ipykernel->notebook) (3.0.24)\n",
            "Requirement already satisfied: pexpect in /usr/local/lib/python3.6/site-packages (from ipython>=5.0.0->ipykernel->notebook) (4.8.0)\n",
            "Requirement already satisfied: jedi<=0.17.2,>=0.10 in /usr/local/lib/python3.6/site-packages (from ipython>=5.0.0->ipykernel->notebook) (0.17.2)\n",
            "Requirement already satisfied: backcall in /usr/local/lib/python3.6/site-packages (from ipython>=5.0.0->ipykernel->notebook) (0.2.0)\n",
            "Requirement already satisfied: parso<0.8.0,>=0.7.0 in /usr/local/lib/python3.6/site-packages (from jedi<=0.17.2,>=0.10->ipython>=5.0.0->ipykernel->notebook) (0.7.1)\n",
            "Requirement already satisfied: wcwidth in /usr/local/lib/python3.6/site-packages (from prompt-toolkit!=3.0.0,!=3.0.1,<3.1.0,>=2.0.0->ipython>=5.0.0->ipykernel->notebook) (0.2.5)\n",
            "Requirement already satisfied: pandocfilters>=1.4.1 in /usr/local/lib/python3.6/site-packages (from nbconvert->notebook) (1.5.0)\n",
            "Requirement already satisfied: defusedxml in /usr/local/lib/python3.6/site-packages (from nbconvert->notebook) (0.7.1)\n",
            "Requirement already satisfied: testpath in /usr/local/lib/python3.6/site-packages (from nbconvert->notebook) (0.5.0)\n",
            "Requirement already satisfied: bleach in /usr/local/lib/python3.6/site-packages (from nbconvert->notebook) (4.1.0)\n",
            "Requirement already satisfied: nbclient<0.6.0,>=0.5.0 in /usr/local/lib/python3.6/site-packages (from nbconvert->notebook) (0.5.9)\n",
            "Requirement already satisfied: mistune<2,>=0.8.1 in /usr/local/lib/python3.6/site-packages (from nbconvert->notebook) (0.8.4)\n",
            "Requirement already satisfied: jupyterlab-pygments in /usr/local/lib/python3.6/site-packages (from nbconvert->notebook) (0.1.2)\n",
            "Requirement already satisfied: async-generator in /usr/local/lib/python3.6/site-packages (from nbclient<0.6.0,>=0.5.0->nbconvert->notebook) (1.10)\n",
            "Requirement already satisfied: jsonschema!=2.5.0,>=2.4 in /usr/local/lib/python3.6/site-packages (from nbformat->notebook) (3.2.0)\n",
            "Requirement already satisfied: pyrsistent>=0.14.0 in /usr/local/lib/python3.6/site-packages (from jsonschema!=2.5.0,>=2.4->nbformat->notebook) (0.18.0)\n",
            "Requirement already satisfied: importlib-metadata in /usr/local/lib/python3.6/site-packages (from jsonschema!=2.5.0,>=2.4->nbformat->notebook) (4.8.3)\n",
            "Requirement already satisfied: webencodings in /usr/local/lib/python3.6/site-packages (from bleach->nbconvert->notebook) (0.5.1)\n",
            "Requirement already satisfied: packaging in /usr/local/lib/python3.6/site-packages (from bleach->nbconvert->notebook) (21.3)\n",
            "Requirement already satisfied: zipp>=0.5 in /usr/local/lib/python3.6/site-packages (from importlib-metadata->jsonschema!=2.5.0,>=2.4->nbformat->notebook) (3.6.0)\n",
            "\u001b[33mWARNING: Running pip as the 'root' user can result in broken permissions and conflicting behaviour with the system package manager. It is recommended to use a virtual environment instead: https://pip.pypa.io/warnings/venv\u001b[0m\n"
          ]
        }
      ]
    },
    {
      "cell_type": "code",
      "source": [
        "from pandas_profiling import ProfileReport"
      ],
      "metadata": {
        "id": "OlbouyH-aalN"
      },
      "execution_count": 252,
      "outputs": []
    },
    {
      "cell_type": "code",
      "source": [
        "#!conda install pandas-profiling==2.8.0 --yes"
      ],
      "metadata": {
        "id": "tQwsL1dvbr8L"
      },
      "execution_count": 253,
      "outputs": []
    },
    {
      "cell_type": "code",
      "source": [
        "#pip install pandas-profiling==2.8.0"
      ],
      "metadata": {
        "id": "cOFyYkmYcM8h"
      },
      "execution_count": 254,
      "outputs": []
    },
    {
      "cell_type": "code",
      "source": [
        "#pip uninstall pandas-profiling --yes\n"
      ],
      "metadata": {
        "id": "gY8Q9I9UdfJ4"
      },
      "execution_count": 255,
      "outputs": []
    },
    {
      "cell_type": "code",
      "source": [
        "#pip install pandas-profiling[notebook,html]"
      ],
      "metadata": {
        "id": "zAgUxKTNd42X"
      },
      "execution_count": 256,
      "outputs": []
    },
    {
      "cell_type": "code",
      "source": [
        "#pip install pandas-profiling==2.9.0"
      ],
      "metadata": {
        "id": "XOM5d24FfAJP"
      },
      "execution_count": 257,
      "outputs": []
    },
    {
      "cell_type": "code",
      "source": [
        "profile = ProfileReport(full_df, title='Pandas Profiling Report')"
      ],
      "metadata": {
        "colab": {
          "base_uri": "https://localhost:8080/",
          "height": 676
        },
        "id": "egKUaf723L2N",
        "outputId": "5f5d2df9-876a-415c-aa32-7d3d583bab80"
      },
      "execution_count": 258,
      "outputs": [
        {
          "output_type": "error",
          "ename": "TypeError",
          "evalue": "ignored",
          "traceback": [
            "\u001b[0;31m---------------------------------------------------------------------------\u001b[0m",
            "\u001b[0;31mRemoteTraceback\u001b[0m                           Traceback (most recent call last)",
            "\u001b[0;31mRemoteTraceback\u001b[0m: \n\"\"\"\nTraceback (most recent call last):\n  File \"/usr/lib/python3.7/multiprocessing/pool.py\", line 121, in worker\n    result = (True, func(*args, **kwds))\n  File \"/usr/lib/python3.7/multiprocessing/pool.py\", line 44, in mapstar\n    return list(map(*args))\n  File \"/usr/local/lib/python3.7/dist-packages/pandas_profiling/describe.py\", line 282, in multiprocess_func\n    return x[0], describe_1d(x[1], **kwargs)\n  File \"/usr/local/lib/python3.7/dist-packages/pandas_profiling/describe.py\", line 270, in describe_1d\n    result = result.append(describe_numeric_1d(data, **kwargs))\n  File \"/usr/local/lib/python3.7/dist-packages/pandas_profiling/describe.py\", line 54, in describe_numeric_1d\n    stats['histogram'] = histogram(series, **kwargs)\n  File \"/usr/local/lib/python3.7/dist-packages/pandas_profiling/plot.py\", line 73, in histogram\n    plot = _plot_histogram(series, **kwargs)\nTypeError: _plot_histogram() got an unexpected keyword argument 'title'\n\"\"\"",
            "\nThe above exception was the direct cause of the following exception:\n",
            "\u001b[0;31mTypeError\u001b[0m                                 Traceback (most recent call last)",
            "\u001b[0;32m<ipython-input-258-eec1101f5455>\u001b[0m in \u001b[0;36m<module>\u001b[0;34m()\u001b[0m\n\u001b[0;32m----> 1\u001b[0;31m \u001b[0mprofile\u001b[0m \u001b[0;34m=\u001b[0m \u001b[0mProfileReport\u001b[0m\u001b[0;34m(\u001b[0m\u001b[0mfull_df\u001b[0m\u001b[0;34m,\u001b[0m \u001b[0mtitle\u001b[0m\u001b[0;34m=\u001b[0m\u001b[0;34m'Pandas Profiling Report'\u001b[0m\u001b[0;34m)\u001b[0m\u001b[0;34m\u001b[0m\u001b[0;34m\u001b[0m\u001b[0m\n\u001b[0m",
            "\u001b[0;32m/usr/local/lib/python3.7/dist-packages/pandas_profiling/__init__.py\u001b[0m in \u001b[0;36m__init__\u001b[0;34m(self, df, **kwargs)\u001b[0m\n\u001b[1;32m     64\u001b[0m         \u001b[0msample\u001b[0m \u001b[0;34m=\u001b[0m \u001b[0mkwargs\u001b[0m\u001b[0;34m.\u001b[0m\u001b[0mget\u001b[0m\u001b[0;34m(\u001b[0m\u001b[0;34m'sample'\u001b[0m\u001b[0;34m,\u001b[0m \u001b[0mdf\u001b[0m\u001b[0;34m.\u001b[0m\u001b[0mhead\u001b[0m\u001b[0;34m(\u001b[0m\u001b[0;34m)\u001b[0m\u001b[0;34m)\u001b[0m\u001b[0;34m\u001b[0m\u001b[0;34m\u001b[0m\u001b[0m\n\u001b[1;32m     65\u001b[0m \u001b[0;34m\u001b[0m\u001b[0m\n\u001b[0;32m---> 66\u001b[0;31m         \u001b[0mdescription_set\u001b[0m \u001b[0;34m=\u001b[0m \u001b[0mdescribe\u001b[0m\u001b[0;34m(\u001b[0m\u001b[0mdf\u001b[0m\u001b[0;34m,\u001b[0m \u001b[0;34m**\u001b[0m\u001b[0mkwargs\u001b[0m\u001b[0;34m)\u001b[0m\u001b[0;34m\u001b[0m\u001b[0;34m\u001b[0m\u001b[0m\n\u001b[0m\u001b[1;32m     67\u001b[0m \u001b[0;34m\u001b[0m\u001b[0m\n\u001b[1;32m     68\u001b[0m         self.html = to_html(sample,\n",
            "\u001b[0;32m/usr/local/lib/python3.7/dist-packages/pandas_profiling/describe.py\u001b[0m in \u001b[0;36mdescribe\u001b[0;34m(df, bins, check_correlation, correlation_threshold, correlation_overrides, check_recoded, pool_size, **kwargs)\u001b[0m\n\u001b[1;32m    349\u001b[0m     \u001b[0mpool\u001b[0m \u001b[0;34m=\u001b[0m \u001b[0mmultiprocessing\u001b[0m\u001b[0;34m.\u001b[0m\u001b[0mPool\u001b[0m\u001b[0;34m(\u001b[0m\u001b[0mpool_size\u001b[0m\u001b[0;34m)\u001b[0m\u001b[0;34m\u001b[0m\u001b[0;34m\u001b[0m\u001b[0m\n\u001b[1;32m    350\u001b[0m     \u001b[0mlocal_multiprocess_func\u001b[0m \u001b[0;34m=\u001b[0m \u001b[0mpartial\u001b[0m\u001b[0;34m(\u001b[0m\u001b[0mmultiprocess_func\u001b[0m\u001b[0;34m,\u001b[0m \u001b[0;34m**\u001b[0m\u001b[0mkwargs\u001b[0m\u001b[0;34m)\u001b[0m\u001b[0;34m\u001b[0m\u001b[0;34m\u001b[0m\u001b[0m\n\u001b[0;32m--> 351\u001b[0;31m     \u001b[0mldesc\u001b[0m \u001b[0;34m=\u001b[0m \u001b[0;34m{\u001b[0m\u001b[0mcol\u001b[0m\u001b[0;34m:\u001b[0m \u001b[0ms\u001b[0m \u001b[0;32mfor\u001b[0m \u001b[0mcol\u001b[0m\u001b[0;34m,\u001b[0m \u001b[0ms\u001b[0m \u001b[0;32min\u001b[0m \u001b[0mpool\u001b[0m\u001b[0;34m.\u001b[0m\u001b[0mmap\u001b[0m\u001b[0;34m(\u001b[0m\u001b[0mlocal_multiprocess_func\u001b[0m\u001b[0;34m,\u001b[0m \u001b[0mdf\u001b[0m\u001b[0;34m.\u001b[0m\u001b[0miteritems\u001b[0m\u001b[0;34m(\u001b[0m\u001b[0;34m)\u001b[0m\u001b[0;34m)\u001b[0m\u001b[0;34m}\u001b[0m\u001b[0;34m\u001b[0m\u001b[0;34m\u001b[0m\u001b[0m\n\u001b[0m\u001b[1;32m    352\u001b[0m     \u001b[0mpool\u001b[0m\u001b[0;34m.\u001b[0m\u001b[0mclose\u001b[0m\u001b[0;34m(\u001b[0m\u001b[0;34m)\u001b[0m\u001b[0;34m\u001b[0m\u001b[0;34m\u001b[0m\u001b[0m\n\u001b[1;32m    353\u001b[0m \u001b[0;34m\u001b[0m\u001b[0m\n",
            "\u001b[0;32m/usr/lib/python3.7/multiprocessing/pool.py\u001b[0m in \u001b[0;36mmap\u001b[0;34m(self, func, iterable, chunksize)\u001b[0m\n\u001b[1;32m    266\u001b[0m         \u001b[0;32min\u001b[0m \u001b[0ma\u001b[0m \u001b[0mlist\u001b[0m \u001b[0mthat\u001b[0m \u001b[0;32mis\u001b[0m \u001b[0mreturned\u001b[0m\u001b[0;34m.\u001b[0m\u001b[0;34m\u001b[0m\u001b[0;34m\u001b[0m\u001b[0m\n\u001b[1;32m    267\u001b[0m         '''\n\u001b[0;32m--> 268\u001b[0;31m         \u001b[0;32mreturn\u001b[0m \u001b[0mself\u001b[0m\u001b[0;34m.\u001b[0m\u001b[0m_map_async\u001b[0m\u001b[0;34m(\u001b[0m\u001b[0mfunc\u001b[0m\u001b[0;34m,\u001b[0m \u001b[0miterable\u001b[0m\u001b[0;34m,\u001b[0m \u001b[0mmapstar\u001b[0m\u001b[0;34m,\u001b[0m \u001b[0mchunksize\u001b[0m\u001b[0;34m)\u001b[0m\u001b[0;34m.\u001b[0m\u001b[0mget\u001b[0m\u001b[0;34m(\u001b[0m\u001b[0;34m)\u001b[0m\u001b[0;34m\u001b[0m\u001b[0;34m\u001b[0m\u001b[0m\n\u001b[0m\u001b[1;32m    269\u001b[0m \u001b[0;34m\u001b[0m\u001b[0m\n\u001b[1;32m    270\u001b[0m     \u001b[0;32mdef\u001b[0m \u001b[0mstarmap\u001b[0m\u001b[0;34m(\u001b[0m\u001b[0mself\u001b[0m\u001b[0;34m,\u001b[0m \u001b[0mfunc\u001b[0m\u001b[0;34m,\u001b[0m \u001b[0miterable\u001b[0m\u001b[0;34m,\u001b[0m \u001b[0mchunksize\u001b[0m\u001b[0;34m=\u001b[0m\u001b[0;32mNone\u001b[0m\u001b[0;34m)\u001b[0m\u001b[0;34m:\u001b[0m\u001b[0;34m\u001b[0m\u001b[0;34m\u001b[0m\u001b[0m\n",
            "\u001b[0;32m/usr/lib/python3.7/multiprocessing/pool.py\u001b[0m in \u001b[0;36mget\u001b[0;34m(self, timeout)\u001b[0m\n\u001b[1;32m    655\u001b[0m             \u001b[0;32mreturn\u001b[0m \u001b[0mself\u001b[0m\u001b[0;34m.\u001b[0m\u001b[0m_value\u001b[0m\u001b[0;34m\u001b[0m\u001b[0;34m\u001b[0m\u001b[0m\n\u001b[1;32m    656\u001b[0m         \u001b[0;32melse\u001b[0m\u001b[0;34m:\u001b[0m\u001b[0;34m\u001b[0m\u001b[0;34m\u001b[0m\u001b[0m\n\u001b[0;32m--> 657\u001b[0;31m             \u001b[0;32mraise\u001b[0m \u001b[0mself\u001b[0m\u001b[0;34m.\u001b[0m\u001b[0m_value\u001b[0m\u001b[0;34m\u001b[0m\u001b[0;34m\u001b[0m\u001b[0m\n\u001b[0m\u001b[1;32m    658\u001b[0m \u001b[0;34m\u001b[0m\u001b[0m\n\u001b[1;32m    659\u001b[0m     \u001b[0;32mdef\u001b[0m \u001b[0m_set\u001b[0m\u001b[0;34m(\u001b[0m\u001b[0mself\u001b[0m\u001b[0;34m,\u001b[0m \u001b[0mi\u001b[0m\u001b[0;34m,\u001b[0m \u001b[0mobj\u001b[0m\u001b[0;34m)\u001b[0m\u001b[0;34m:\u001b[0m\u001b[0;34m\u001b[0m\u001b[0;34m\u001b[0m\u001b[0m\n",
            "\u001b[0;31mTypeError\u001b[0m: _plot_histogram() got an unexpected keyword argument 'title'"
          ]
        }
      ]
    },
    {
      "cell_type": "code",
      "source": [
        "profile"
      ],
      "metadata": {
        "id": "gXdznjuLbC0J"
      },
      "execution_count": null,
      "outputs": []
    },
    {
      "cell_type": "code",
      "source": [
        "%matplotlib inline\n",
        "import seaborn as sns\n",
        "\n",
        "g = sns.heatmap(full_df.corr())\n",
        "g = g.set_xticklabels(g.get_xticklabels(), rotation=90)"
      ],
      "metadata": {
        "colab": {
          "base_uri": "https://localhost:8080/",
          "height": 398
        },
        "id": "3D87NQVw5B71",
        "outputId": "55d40da5-10b8-4642-9e59-f316f5fd2685"
      },
      "execution_count": 259,
      "outputs": [
        {
          "output_type": "error",
          "ename": "ImportError",
          "evalue": "ignored",
          "traceback": [
            "\u001b[0;31m---------------------------------------------------------------------------\u001b[0m",
            "\u001b[0;31mImportError\u001b[0m                               Traceback (most recent call last)",
            "\u001b[0;32m/usr/local/lib/python3.7/dist-packages/IPython/core/formatters.py\u001b[0m in \u001b[0;36m__call__\u001b[0;34m(self, obj)\u001b[0m\n\u001b[1;32m    332\u001b[0m                 \u001b[0;32mpass\u001b[0m\u001b[0;34m\u001b[0m\u001b[0;34m\u001b[0m\u001b[0m\n\u001b[1;32m    333\u001b[0m             \u001b[0;32melse\u001b[0m\u001b[0;34m:\u001b[0m\u001b[0;34m\u001b[0m\u001b[0;34m\u001b[0m\u001b[0m\n\u001b[0;32m--> 334\u001b[0;31m                 \u001b[0;32mreturn\u001b[0m \u001b[0mprinter\u001b[0m\u001b[0;34m(\u001b[0m\u001b[0mobj\u001b[0m\u001b[0;34m)\u001b[0m\u001b[0;34m\u001b[0m\u001b[0;34m\u001b[0m\u001b[0m\n\u001b[0m\u001b[1;32m    335\u001b[0m             \u001b[0;31m# Finally look for special method names\u001b[0m\u001b[0;34m\u001b[0m\u001b[0;34m\u001b[0m\u001b[0;34m\u001b[0m\u001b[0m\n\u001b[1;32m    336\u001b[0m             \u001b[0mmethod\u001b[0m \u001b[0;34m=\u001b[0m \u001b[0mget_real_method\u001b[0m\u001b[0;34m(\u001b[0m\u001b[0mobj\u001b[0m\u001b[0;34m,\u001b[0m \u001b[0mself\u001b[0m\u001b[0;34m.\u001b[0m\u001b[0mprint_method\u001b[0m\u001b[0;34m)\u001b[0m\u001b[0;34m\u001b[0m\u001b[0;34m\u001b[0m\u001b[0m\n",
            "\u001b[0;32m/usr/local/lib/python3.7/dist-packages/IPython/core/pylabtools.py\u001b[0m in \u001b[0;36m<lambda>\u001b[0;34m(fig)\u001b[0m\n\u001b[1;32m    239\u001b[0m \u001b[0;34m\u001b[0m\u001b[0m\n\u001b[1;32m    240\u001b[0m     \u001b[0;32mif\u001b[0m \u001b[0;34m'png'\u001b[0m \u001b[0;32min\u001b[0m \u001b[0mformats\u001b[0m\u001b[0;34m:\u001b[0m\u001b[0;34m\u001b[0m\u001b[0;34m\u001b[0m\u001b[0m\n\u001b[0;32m--> 241\u001b[0;31m         \u001b[0mpng_formatter\u001b[0m\u001b[0;34m.\u001b[0m\u001b[0mfor_type\u001b[0m\u001b[0;34m(\u001b[0m\u001b[0mFigure\u001b[0m\u001b[0;34m,\u001b[0m \u001b[0;32mlambda\u001b[0m \u001b[0mfig\u001b[0m\u001b[0;34m:\u001b[0m \u001b[0mprint_figure\u001b[0m\u001b[0;34m(\u001b[0m\u001b[0mfig\u001b[0m\u001b[0;34m,\u001b[0m \u001b[0;34m'png'\u001b[0m\u001b[0;34m,\u001b[0m \u001b[0;34m**\u001b[0m\u001b[0mkwargs\u001b[0m\u001b[0;34m)\u001b[0m\u001b[0;34m)\u001b[0m\u001b[0;34m\u001b[0m\u001b[0;34m\u001b[0m\u001b[0m\n\u001b[0m\u001b[1;32m    242\u001b[0m     \u001b[0;32mif\u001b[0m \u001b[0;34m'retina'\u001b[0m \u001b[0;32min\u001b[0m \u001b[0mformats\u001b[0m \u001b[0;32mor\u001b[0m \u001b[0;34m'png2x'\u001b[0m \u001b[0;32min\u001b[0m \u001b[0mformats\u001b[0m\u001b[0;34m:\u001b[0m\u001b[0;34m\u001b[0m\u001b[0;34m\u001b[0m\u001b[0m\n\u001b[1;32m    243\u001b[0m         \u001b[0mpng_formatter\u001b[0m\u001b[0;34m.\u001b[0m\u001b[0mfor_type\u001b[0m\u001b[0;34m(\u001b[0m\u001b[0mFigure\u001b[0m\u001b[0;34m,\u001b[0m \u001b[0;32mlambda\u001b[0m \u001b[0mfig\u001b[0m\u001b[0;34m:\u001b[0m \u001b[0mretina_figure\u001b[0m\u001b[0;34m(\u001b[0m\u001b[0mfig\u001b[0m\u001b[0;34m,\u001b[0m \u001b[0;34m**\u001b[0m\u001b[0mkwargs\u001b[0m\u001b[0;34m)\u001b[0m\u001b[0;34m)\u001b[0m\u001b[0;34m\u001b[0m\u001b[0;34m\u001b[0m\u001b[0m\n",
            "\u001b[0;32m/usr/local/lib/python3.7/dist-packages/IPython/core/pylabtools.py\u001b[0m in \u001b[0;36mprint_figure\u001b[0;34m(fig, fmt, bbox_inches, **kwargs)\u001b[0m\n\u001b[1;32m    123\u001b[0m \u001b[0;34m\u001b[0m\u001b[0m\n\u001b[1;32m    124\u001b[0m     \u001b[0mbytes_io\u001b[0m \u001b[0;34m=\u001b[0m \u001b[0mBytesIO\u001b[0m\u001b[0;34m(\u001b[0m\u001b[0;34m)\u001b[0m\u001b[0;34m\u001b[0m\u001b[0;34m\u001b[0m\u001b[0m\n\u001b[0;32m--> 125\u001b[0;31m     \u001b[0mfig\u001b[0m\u001b[0;34m.\u001b[0m\u001b[0mcanvas\u001b[0m\u001b[0;34m.\u001b[0m\u001b[0mprint_figure\u001b[0m\u001b[0;34m(\u001b[0m\u001b[0mbytes_io\u001b[0m\u001b[0;34m,\u001b[0m \u001b[0;34m**\u001b[0m\u001b[0mkw\u001b[0m\u001b[0;34m)\u001b[0m\u001b[0;34m\u001b[0m\u001b[0;34m\u001b[0m\u001b[0m\n\u001b[0m\u001b[1;32m    126\u001b[0m     \u001b[0mdata\u001b[0m \u001b[0;34m=\u001b[0m \u001b[0mbytes_io\u001b[0m\u001b[0;34m.\u001b[0m\u001b[0mgetvalue\u001b[0m\u001b[0;34m(\u001b[0m\u001b[0;34m)\u001b[0m\u001b[0;34m\u001b[0m\u001b[0;34m\u001b[0m\u001b[0m\n\u001b[1;32m    127\u001b[0m     \u001b[0;32mif\u001b[0m \u001b[0mfmt\u001b[0m \u001b[0;34m==\u001b[0m \u001b[0;34m'svg'\u001b[0m\u001b[0;34m:\u001b[0m\u001b[0;34m\u001b[0m\u001b[0;34m\u001b[0m\u001b[0m\n",
            "\u001b[0;32m/usr/local/lib/python3.7/dist-packages/matplotlib/backend_bases.py\u001b[0m in \u001b[0;36mprint_figure\u001b[0;34m(self, filename, dpi, facecolor, edgecolor, orientation, format, bbox_inches, **kwargs)\u001b[0m\n\u001b[1;32m   2092\u001b[0m         \u001b[0mratio\u001b[0m \u001b[0;34m:\u001b[0m \u001b[0mfloat\u001b[0m\u001b[0;34m\u001b[0m\u001b[0;34m\u001b[0m\u001b[0m\n\u001b[1;32m   2093\u001b[0m             \u001b[0mThe\u001b[0m \u001b[0mratio\u001b[0m \u001b[0mof\u001b[0m \u001b[0mlogical\u001b[0m \u001b[0mto\u001b[0m \u001b[0mphysical\u001b[0m \u001b[0mpixels\u001b[0m \u001b[0mused\u001b[0m \u001b[0;32mfor\u001b[0m \u001b[0mthe\u001b[0m \u001b[0mcanvas\u001b[0m\u001b[0;34m.\u001b[0m\u001b[0;34m\u001b[0m\u001b[0;34m\u001b[0m\u001b[0m\n\u001b[0;32m-> 2094\u001b[0;31m \u001b[0;34m\u001b[0m\u001b[0m\n\u001b[0m\u001b[1;32m   2095\u001b[0m         \u001b[0mReturns\u001b[0m\u001b[0;34m\u001b[0m\u001b[0;34m\u001b[0m\u001b[0m\n\u001b[1;32m   2096\u001b[0m         \u001b[0;34m-\u001b[0m\u001b[0;34m-\u001b[0m\u001b[0;34m-\u001b[0m\u001b[0;34m-\u001b[0m\u001b[0;34m-\u001b[0m\u001b[0;34m-\u001b[0m\u001b[0;34m-\u001b[0m\u001b[0;34m\u001b[0m\u001b[0;34m\u001b[0m\u001b[0m\n",
            "\u001b[0;32m/usr/local/lib/python3.7/dist-packages/matplotlib/backend_bases.py\u001b[0m in \u001b[0;36m_get_renderer\u001b[0;34m(figure, print_method)\u001b[0m\n\u001b[1;32m   1558\u001b[0m     \u001b[0mfigure\u001b[0m\u001b[0;34m.\u001b[0m\u001b[0mdraw_without_rendering\u001b[0m\u001b[0;34m(\u001b[0m\u001b[0;34m)\u001b[0m\u001b[0;34m\u001b[0m\u001b[0;34m\u001b[0m\u001b[0m\n\u001b[1;32m   1559\u001b[0m \u001b[0;34m\u001b[0m\u001b[0m\n\u001b[0;32m-> 1560\u001b[0;31m \u001b[0;34m\u001b[0m\u001b[0m\n\u001b[0m\u001b[1;32m   1561\u001b[0m \u001b[0;32mdef\u001b[0m \u001b[0m_is_non_interactive_terminal_ipython\u001b[0m\u001b[0;34m(\u001b[0m\u001b[0mip\u001b[0m\u001b[0;34m)\u001b[0m\u001b[0;34m:\u001b[0m\u001b[0;34m\u001b[0m\u001b[0;34m\u001b[0m\u001b[0m\n\u001b[1;32m   1562\u001b[0m     \"\"\"\n",
            "\u001b[0;32m/usr/local/lib/python3.7/dist-packages/matplotlib/backends/backend_agg.py\u001b[0m in \u001b[0;36mprint_png\u001b[0;34m(self, filename_or_obj, metadata, pil_kwargs, *args, **kwargs)\u001b[0m\n\u001b[1;32m    503\u001b[0m             \u001b[0mMetadata\u001b[0m \u001b[0;32min\u001b[0m \u001b[0mthe\u001b[0m \u001b[0mPNG\u001b[0m \u001b[0mfile\u001b[0m \u001b[0;32mas\u001b[0m \u001b[0mkey\u001b[0m\u001b[0;34m-\u001b[0m\u001b[0mvalue\u001b[0m \u001b[0mpairs\u001b[0m \u001b[0mof\u001b[0m \u001b[0mbytes\u001b[0m \u001b[0;32mor\u001b[0m \u001b[0mlatin\u001b[0m\u001b[0;34m-\u001b[0m\u001b[0;36m1\u001b[0m\u001b[0;34m\u001b[0m\u001b[0;34m\u001b[0m\u001b[0m\n\u001b[1;32m    504\u001b[0m             \u001b[0mencodable\u001b[0m \u001b[0mstrings\u001b[0m\u001b[0;34m.\u001b[0m\u001b[0;34m\u001b[0m\u001b[0;34m\u001b[0m\u001b[0m\n\u001b[0;32m--> 505\u001b[0;31m             \u001b[0mAccording\u001b[0m \u001b[0mto\u001b[0m \u001b[0mthe\u001b[0m \u001b[0mPNG\u001b[0m \u001b[0mspecification\u001b[0m\u001b[0;34m,\u001b[0m \u001b[0mkeys\u001b[0m \u001b[0mmust\u001b[0m \u001b[0mbe\u001b[0m \u001b[0mshorter\u001b[0m \u001b[0mthan\u001b[0m \u001b[0;36m79\u001b[0m\u001b[0;34m\u001b[0m\u001b[0;34m\u001b[0m\u001b[0m\n\u001b[0m\u001b[1;32m    506\u001b[0m             \u001b[0mchars\u001b[0m\u001b[0;34m.\u001b[0m\u001b[0;34m\u001b[0m\u001b[0;34m\u001b[0m\u001b[0m\n\u001b[1;32m    507\u001b[0m \u001b[0;34m\u001b[0m\u001b[0m\n",
            "\u001b[0;31mImportError\u001b[0m: cannot import name '_png' from 'matplotlib' (/usr/local/lib/python3.7/dist-packages/matplotlib/__init__.py)"
          ]
        },
        {
          "output_type": "display_data",
          "data": {
            "text/plain": [
              "<Figure size 432x288 with 2 Axes>"
            ]
          },
          "metadata": {
            "needs_background": "light"
          }
        }
      ]
    },
    {
      "cell_type": "code",
      "source": [
        "sns.pairplot(full_df[['RM', 'LSTAT', 'target']], kind='reg')"
      ],
      "metadata": {
        "colab": {
          "base_uri": "https://localhost:8080/",
          "height": 416
        },
        "id": "PuUT24MJ5Fek",
        "outputId": "e4e8f9c5-efc2-4190-fafa-1813bd3c63b3"
      },
      "execution_count": 260,
      "outputs": [
        {
          "output_type": "execute_result",
          "data": {
            "text/plain": [
              "<seaborn.axisgrid.PairGrid at 0x7f7f22d647d0>"
            ]
          },
          "metadata": {},
          "execution_count": 260
        },
        {
          "output_type": "error",
          "ename": "ImportError",
          "evalue": "ignored",
          "traceback": [
            "\u001b[0;31m---------------------------------------------------------------------------\u001b[0m",
            "\u001b[0;31mImportError\u001b[0m                               Traceback (most recent call last)",
            "\u001b[0;32m/usr/local/lib/python3.7/dist-packages/IPython/core/formatters.py\u001b[0m in \u001b[0;36m__call__\u001b[0;34m(self, obj)\u001b[0m\n\u001b[1;32m    332\u001b[0m                 \u001b[0;32mpass\u001b[0m\u001b[0;34m\u001b[0m\u001b[0;34m\u001b[0m\u001b[0m\n\u001b[1;32m    333\u001b[0m             \u001b[0;32melse\u001b[0m\u001b[0;34m:\u001b[0m\u001b[0;34m\u001b[0m\u001b[0;34m\u001b[0m\u001b[0m\n\u001b[0;32m--> 334\u001b[0;31m                 \u001b[0;32mreturn\u001b[0m \u001b[0mprinter\u001b[0m\u001b[0;34m(\u001b[0m\u001b[0mobj\u001b[0m\u001b[0;34m)\u001b[0m\u001b[0;34m\u001b[0m\u001b[0;34m\u001b[0m\u001b[0m\n\u001b[0m\u001b[1;32m    335\u001b[0m             \u001b[0;31m# Finally look for special method names\u001b[0m\u001b[0;34m\u001b[0m\u001b[0;34m\u001b[0m\u001b[0;34m\u001b[0m\u001b[0m\n\u001b[1;32m    336\u001b[0m             \u001b[0mmethod\u001b[0m \u001b[0;34m=\u001b[0m \u001b[0mget_real_method\u001b[0m\u001b[0;34m(\u001b[0m\u001b[0mobj\u001b[0m\u001b[0;34m,\u001b[0m \u001b[0mself\u001b[0m\u001b[0;34m.\u001b[0m\u001b[0mprint_method\u001b[0m\u001b[0;34m)\u001b[0m\u001b[0;34m\u001b[0m\u001b[0;34m\u001b[0m\u001b[0m\n",
            "\u001b[0;32m/usr/local/lib/python3.7/dist-packages/IPython/core/pylabtools.py\u001b[0m in \u001b[0;36m<lambda>\u001b[0;34m(fig)\u001b[0m\n\u001b[1;32m    239\u001b[0m \u001b[0;34m\u001b[0m\u001b[0m\n\u001b[1;32m    240\u001b[0m     \u001b[0;32mif\u001b[0m \u001b[0;34m'png'\u001b[0m \u001b[0;32min\u001b[0m \u001b[0mformats\u001b[0m\u001b[0;34m:\u001b[0m\u001b[0;34m\u001b[0m\u001b[0;34m\u001b[0m\u001b[0m\n\u001b[0;32m--> 241\u001b[0;31m         \u001b[0mpng_formatter\u001b[0m\u001b[0;34m.\u001b[0m\u001b[0mfor_type\u001b[0m\u001b[0;34m(\u001b[0m\u001b[0mFigure\u001b[0m\u001b[0;34m,\u001b[0m \u001b[0;32mlambda\u001b[0m \u001b[0mfig\u001b[0m\u001b[0;34m:\u001b[0m \u001b[0mprint_figure\u001b[0m\u001b[0;34m(\u001b[0m\u001b[0mfig\u001b[0m\u001b[0;34m,\u001b[0m \u001b[0;34m'png'\u001b[0m\u001b[0;34m,\u001b[0m \u001b[0;34m**\u001b[0m\u001b[0mkwargs\u001b[0m\u001b[0;34m)\u001b[0m\u001b[0;34m)\u001b[0m\u001b[0;34m\u001b[0m\u001b[0;34m\u001b[0m\u001b[0m\n\u001b[0m\u001b[1;32m    242\u001b[0m     \u001b[0;32mif\u001b[0m \u001b[0;34m'retina'\u001b[0m \u001b[0;32min\u001b[0m \u001b[0mformats\u001b[0m \u001b[0;32mor\u001b[0m \u001b[0;34m'png2x'\u001b[0m \u001b[0;32min\u001b[0m \u001b[0mformats\u001b[0m\u001b[0;34m:\u001b[0m\u001b[0;34m\u001b[0m\u001b[0;34m\u001b[0m\u001b[0m\n\u001b[1;32m    243\u001b[0m         \u001b[0mpng_formatter\u001b[0m\u001b[0;34m.\u001b[0m\u001b[0mfor_type\u001b[0m\u001b[0;34m(\u001b[0m\u001b[0mFigure\u001b[0m\u001b[0;34m,\u001b[0m \u001b[0;32mlambda\u001b[0m \u001b[0mfig\u001b[0m\u001b[0;34m:\u001b[0m \u001b[0mretina_figure\u001b[0m\u001b[0;34m(\u001b[0m\u001b[0mfig\u001b[0m\u001b[0;34m,\u001b[0m \u001b[0;34m**\u001b[0m\u001b[0mkwargs\u001b[0m\u001b[0;34m)\u001b[0m\u001b[0;34m)\u001b[0m\u001b[0;34m\u001b[0m\u001b[0;34m\u001b[0m\u001b[0m\n",
            "\u001b[0;32m/usr/local/lib/python3.7/dist-packages/IPython/core/pylabtools.py\u001b[0m in \u001b[0;36mprint_figure\u001b[0;34m(fig, fmt, bbox_inches, **kwargs)\u001b[0m\n\u001b[1;32m    123\u001b[0m \u001b[0;34m\u001b[0m\u001b[0m\n\u001b[1;32m    124\u001b[0m     \u001b[0mbytes_io\u001b[0m \u001b[0;34m=\u001b[0m \u001b[0mBytesIO\u001b[0m\u001b[0;34m(\u001b[0m\u001b[0;34m)\u001b[0m\u001b[0;34m\u001b[0m\u001b[0;34m\u001b[0m\u001b[0m\n\u001b[0;32m--> 125\u001b[0;31m     \u001b[0mfig\u001b[0m\u001b[0;34m.\u001b[0m\u001b[0mcanvas\u001b[0m\u001b[0;34m.\u001b[0m\u001b[0mprint_figure\u001b[0m\u001b[0;34m(\u001b[0m\u001b[0mbytes_io\u001b[0m\u001b[0;34m,\u001b[0m \u001b[0;34m**\u001b[0m\u001b[0mkw\u001b[0m\u001b[0;34m)\u001b[0m\u001b[0;34m\u001b[0m\u001b[0;34m\u001b[0m\u001b[0m\n\u001b[0m\u001b[1;32m    126\u001b[0m     \u001b[0mdata\u001b[0m \u001b[0;34m=\u001b[0m \u001b[0mbytes_io\u001b[0m\u001b[0;34m.\u001b[0m\u001b[0mgetvalue\u001b[0m\u001b[0;34m(\u001b[0m\u001b[0;34m)\u001b[0m\u001b[0;34m\u001b[0m\u001b[0;34m\u001b[0m\u001b[0m\n\u001b[1;32m    127\u001b[0m     \u001b[0;32mif\u001b[0m \u001b[0mfmt\u001b[0m \u001b[0;34m==\u001b[0m \u001b[0;34m'svg'\u001b[0m\u001b[0;34m:\u001b[0m\u001b[0;34m\u001b[0m\u001b[0;34m\u001b[0m\u001b[0m\n",
            "\u001b[0;32m/usr/local/lib/python3.7/dist-packages/matplotlib/backend_bases.py\u001b[0m in \u001b[0;36mprint_figure\u001b[0;34m(self, filename, dpi, facecolor, edgecolor, orientation, format, bbox_inches, **kwargs)\u001b[0m\n\u001b[1;32m   2092\u001b[0m         \u001b[0mratio\u001b[0m \u001b[0;34m:\u001b[0m \u001b[0mfloat\u001b[0m\u001b[0;34m\u001b[0m\u001b[0;34m\u001b[0m\u001b[0m\n\u001b[1;32m   2093\u001b[0m             \u001b[0mThe\u001b[0m \u001b[0mratio\u001b[0m \u001b[0mof\u001b[0m \u001b[0mlogical\u001b[0m \u001b[0mto\u001b[0m \u001b[0mphysical\u001b[0m \u001b[0mpixels\u001b[0m \u001b[0mused\u001b[0m \u001b[0;32mfor\u001b[0m \u001b[0mthe\u001b[0m \u001b[0mcanvas\u001b[0m\u001b[0;34m.\u001b[0m\u001b[0;34m\u001b[0m\u001b[0;34m\u001b[0m\u001b[0m\n\u001b[0;32m-> 2094\u001b[0;31m \u001b[0;34m\u001b[0m\u001b[0m\n\u001b[0m\u001b[1;32m   2095\u001b[0m         \u001b[0mReturns\u001b[0m\u001b[0;34m\u001b[0m\u001b[0;34m\u001b[0m\u001b[0m\n\u001b[1;32m   2096\u001b[0m         \u001b[0;34m-\u001b[0m\u001b[0;34m-\u001b[0m\u001b[0;34m-\u001b[0m\u001b[0;34m-\u001b[0m\u001b[0;34m-\u001b[0m\u001b[0;34m-\u001b[0m\u001b[0;34m-\u001b[0m\u001b[0;34m\u001b[0m\u001b[0;34m\u001b[0m\u001b[0m\n",
            "\u001b[0;32m/usr/local/lib/python3.7/dist-packages/matplotlib/backend_bases.py\u001b[0m in \u001b[0;36m_get_renderer\u001b[0;34m(figure, print_method)\u001b[0m\n\u001b[1;32m   1558\u001b[0m     \u001b[0mfigure\u001b[0m\u001b[0;34m.\u001b[0m\u001b[0mdraw_without_rendering\u001b[0m\u001b[0;34m(\u001b[0m\u001b[0;34m)\u001b[0m\u001b[0;34m\u001b[0m\u001b[0;34m\u001b[0m\u001b[0m\n\u001b[1;32m   1559\u001b[0m \u001b[0;34m\u001b[0m\u001b[0m\n\u001b[0;32m-> 1560\u001b[0;31m \u001b[0;34m\u001b[0m\u001b[0m\n\u001b[0m\u001b[1;32m   1561\u001b[0m \u001b[0;32mdef\u001b[0m \u001b[0m_is_non_interactive_terminal_ipython\u001b[0m\u001b[0;34m(\u001b[0m\u001b[0mip\u001b[0m\u001b[0;34m)\u001b[0m\u001b[0;34m:\u001b[0m\u001b[0;34m\u001b[0m\u001b[0;34m\u001b[0m\u001b[0m\n\u001b[1;32m   1562\u001b[0m     \"\"\"\n",
            "\u001b[0;32m/usr/local/lib/python3.7/dist-packages/matplotlib/backends/backend_agg.py\u001b[0m in \u001b[0;36mprint_png\u001b[0;34m(self, filename_or_obj, metadata, pil_kwargs, *args, **kwargs)\u001b[0m\n\u001b[1;32m    503\u001b[0m             \u001b[0mMetadata\u001b[0m \u001b[0;32min\u001b[0m \u001b[0mthe\u001b[0m \u001b[0mPNG\u001b[0m \u001b[0mfile\u001b[0m \u001b[0;32mas\u001b[0m \u001b[0mkey\u001b[0m\u001b[0;34m-\u001b[0m\u001b[0mvalue\u001b[0m \u001b[0mpairs\u001b[0m \u001b[0mof\u001b[0m \u001b[0mbytes\u001b[0m \u001b[0;32mor\u001b[0m \u001b[0mlatin\u001b[0m\u001b[0;34m-\u001b[0m\u001b[0;36m1\u001b[0m\u001b[0;34m\u001b[0m\u001b[0;34m\u001b[0m\u001b[0m\n\u001b[1;32m    504\u001b[0m             \u001b[0mencodable\u001b[0m \u001b[0mstrings\u001b[0m\u001b[0;34m.\u001b[0m\u001b[0;34m\u001b[0m\u001b[0;34m\u001b[0m\u001b[0m\n\u001b[0;32m--> 505\u001b[0;31m             \u001b[0mAccording\u001b[0m \u001b[0mto\u001b[0m \u001b[0mthe\u001b[0m \u001b[0mPNG\u001b[0m \u001b[0mspecification\u001b[0m\u001b[0;34m,\u001b[0m \u001b[0mkeys\u001b[0m \u001b[0mmust\u001b[0m \u001b[0mbe\u001b[0m \u001b[0mshorter\u001b[0m \u001b[0mthan\u001b[0m \u001b[0;36m79\u001b[0m\u001b[0;34m\u001b[0m\u001b[0;34m\u001b[0m\u001b[0m\n\u001b[0m\u001b[1;32m    506\u001b[0m             \u001b[0mchars\u001b[0m\u001b[0;34m.\u001b[0m\u001b[0;34m\u001b[0m\u001b[0;34m\u001b[0m\u001b[0m\n\u001b[1;32m    507\u001b[0m \u001b[0;34m\u001b[0m\u001b[0m\n",
            "\u001b[0;31mImportError\u001b[0m: cannot import name '_png' from 'matplotlib' (/usr/local/lib/python3.7/dist-packages/matplotlib/__init__.py)"
          ]
        },
        {
          "output_type": "display_data",
          "data": {
            "text/plain": [
              "<Figure size 540x540 with 12 Axes>"
            ]
          },
          "metadata": {
            "needs_background": "light"
          }
        }
      ]
    },
    {
      "cell_type": "code",
      "source": [
        "from sklearn.linear_model import LinearRegression\n",
        "\n",
        "reg = LinearRegression(fit_intercept=True) ##fit_intercept=False sets the y-intercept to 0. If fit_intercept=True, the y-intercept will be determined by the line of best fit."
      ],
      "metadata": {
        "id": "iJ7TNQRZ5KqF"
      },
      "execution_count": 261,
      "outputs": []
    },
    {
      "cell_type": "code",
      "source": [
        "reg.fit(X_train, y_train)"
      ],
      "metadata": {
        "colab": {
          "base_uri": "https://localhost:8080/"
        },
        "id": "h5jxGil75NLZ",
        "outputId": "c6be2e4a-9bb6-4118-a59b-50da19c152bf"
      },
      "execution_count": 262,
      "outputs": [
        {
          "output_type": "execute_result",
          "data": {
            "text/plain": [
              "LinearRegression()"
            ]
          },
          "metadata": {},
          "execution_count": 262
        }
      ]
    },
    {
      "cell_type": "code",
      "source": [
        "# we can see the model here\n",
        "reg.coef_"
      ],
      "metadata": {
        "colab": {
          "base_uri": "https://localhost:8080/"
        },
        "id": "mOX1tT4q5QOE",
        "outputId": "0e826940-741f-4013-b1db-c12db37b25b4"
      },
      "execution_count": 263,
      "outputs": [
        {
          "output_type": "execute_result",
          "data": {
            "text/plain": [
              "array([-1.20993061e-01,  6.72093360e-02,  5.53683340e-02,  2.36126952e+00,\n",
              "       -2.33979148e+01,  2.22800723e+00,  1.59383931e-02, -1.54199825e+00,\n",
              "        3.15254152e-01, -1.00467809e-02, -1.06062853e+00,  5.98678332e-03,\n",
              "       -6.12938742e-01])"
            ]
          },
          "metadata": {},
          "execution_count": 263
        }
      ]
    },
    {
      "cell_type": "code",
      "source": [
        "predicted = reg.predict(X_test)[0]"
      ],
      "metadata": {
        "id": "trxjNKGG5TJE"
      },
      "execution_count": 264,
      "outputs": []
    },
    {
      "cell_type": "code",
      "source": [
        "predicted"
      ],
      "metadata": {
        "colab": {
          "base_uri": "https://localhost:8080/"
        },
        "id": "T3zlA4Hh5Vct",
        "outputId": "48c0d1cc-ec3e-459f-d088-2b23f0bc237e"
      },
      "execution_count": 265,
      "outputs": [
        {
          "output_type": "execute_result",
          "data": {
            "text/plain": [
              "32.618960095797576"
            ]
          },
          "metadata": {},
          "execution_count": 265
        }
      ]
    },
    {
      "cell_type": "code",
      "source": [
        "# first we show the R^2\n",
        "reg.score(X_test, y_test)"
      ],
      "metadata": {
        "colab": {
          "base_uri": "https://localhost:8080/"
        },
        "id": "VCKCA2KN5ZK_",
        "outputId": "57e9cc6a-b910-491f-a32c-1c390cda96b4"
      },
      "execution_count": 266,
      "outputs": [
        {
          "output_type": "execute_result",
          "data": {
            "text/plain": [
              "0.7383194748962919"
            ]
          },
          "metadata": {},
          "execution_count": 266
        }
      ]
    },
    {
      "cell_type": "code",
      "source": [
        "from sklearn.metrics import mean_absolute_error\n",
        "\n",
        "# second we show the mean absolute error\n",
        "mean_absolute_error(reg.predict(X_test), y_test)"
      ],
      "metadata": {
        "colab": {
          "base_uri": "https://localhost:8080/"
        },
        "id": "Gi1eC9qg5eoA",
        "outputId": "c45a15c3-11fd-47e1-c329-e35dc257786f"
      },
      "execution_count": 267,
      "outputs": [
        {
          "output_type": "execute_result",
          "data": {
            "text/plain": [
              "3.9355674144009867"
            ]
          },
          "metadata": {},
          "execution_count": 267
        }
      ]
    }
  ]
}